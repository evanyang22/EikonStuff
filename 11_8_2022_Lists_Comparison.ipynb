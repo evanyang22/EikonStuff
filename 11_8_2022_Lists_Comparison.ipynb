{
 "cells": [
  {
   "cell_type": "code",
   "execution_count": 57,
   "id": "45f28e21",
   "metadata": {},
   "outputs": [
    {
     "name": "stderr",
     "output_type": "stream",
     "text": [
      "IOPub data rate exceeded.\n",
      "The notebook server will temporarily stop sending output\n",
      "to the client in order to avoid crashing it.\n",
      "To change this limit, set the config variable\n",
      "`--NotebookApp.iopub_data_rate_limit`.\n",
      "\n",
      "Current values:\n",
      "NotebookApp.iopub_data_rate_limit=1000000.0 (bytes/sec)\n",
      "NotebookApp.rate_limit_window=3.0 (secs)\n",
      "\n"
     ]
    }
   ],
   "source": [
    "#importing Thomson data\n",
    "import pandas as pd\n",
    "import matplotlib.pyplot as plt\n",
    "dfThomson = pd.read_csv('master.csv')\n",
    "dfEikon = pd.read_csv('10_2_Aggregation2017.csv')\n",
    "\n",
    "yearlist = [str(date)[:4] for date in dfEikon[\"PDFName\"]]\n",
    "dfEikon[\"Year\"]=yearlist"
   ]
  },
  {
   "cell_type": "code",
   "execution_count": 58,
   "id": "c945f6d6",
   "metadata": {},
   "outputs": [
    {
     "name": "stdout",
     "output_type": "stream",
     "text": [
      "{'laurentian bank securities', 'warburg research gmbh', 'morgan stanley', 'national securities (us)', 'inteligo sab', 'analisis banco sabadell', 'jyske bank', 'imperial capital, llc', 'larrain vial s.a. corredora de bolsa', 'btig', 'crowell, weedon & co.', 'abn amro bank', 'desjardins securities', 'stephens inc.', 'albert fried & company llc', 'merriman capital, inc.', 'shinhan investment corp.', 'davy', 'paradigm capital', 'itau bba', 'scotiabank gbm', 'religare capital markets', 'dbs vickers', 't.h. capital research', 'everbright securities', 'investec bank (uk) plc', 'vtb capital', 'td securities', 'kb investment & securities', 'phu hung securities', 'bb&t capital markets', 'loewen, ondaatje, mccutcheon limited', 'collins stewart europe', 'caris & company', 'lifetech capital', 'susquehanna financial group lllp', 'cabrera capital markets', 'iifl', 'meritz securities', 'i.b.i.', 'early bird capital', 'swedbank markets', 'mkm partners', 'capstone investments', 'stonecap securities inc.', 'wood & company', 'african alliance', 'tripoint global equities llc', 'salman partners', 'icici direct', 'wunderlich securities', 'mediobanca', 'hi investment & securities', 'canaccord genuity', 'thejudagroup', 'santander', 'wellington shields & co llc', 'ssif tradeville', 'alfa bank', 'great lakes/wellington shields', 'merlin securities', 'william blair & company', 'dnb markets', 'barrington research associates', 'murphy & durieu', 'jpmorgan', 'raymond james latin america', 'm partners', 'cowen and company', 'aton llc', 'morgan joseph triartisan', 'mirae asset securities', 'uralsib', 'macquarie research', 'phoenix partners group', 'peel hunt', 'gabelli & company', 'yuanta research', 'feltl & company', 'sun hung kai financial', 'jacob securities', 'vector casa de bolsa', 'janney montgomery scott llc', 'bloom burton & co.', 'national bank financial', 'rochdale securities', 'mdb capital group', 'guggenheim securities llc', 'gvc capital llc', 'pareto securities as', 'societe generale', 'gilford securities', 'ascendiant capital markets', 'the benchmark company llc', 'fig partners', 'wedge partners', 'wells fargo securities, llc', 'collins stewart llc', 'natixis', 'fbn securities', 'finamex'}\n"
     ]
    }
   ],
   "source": [
    "lowercaseEikon=[]\n",
    "lowercaseThomson=[]\n",
    "\n",
    "for contri in dfThomson[\"contributor\"]:\n",
    "    lowercaseThomson.append(contri.lower())\n",
    "    \n",
    "for contri in dfEikon[\"Contributor\"]:\n",
    "    lowercaseEikon.append(contri.lower())\n",
    "\n",
    "#appending lowercase Contributors to each dataframe\n",
    "dfEikon[\"lowercaseContributors\"]=lowercaseEikon\n",
    "dfThomson[\"lowercaseContributors\"]=lowercaseThomson\n",
    "    \n",
    "lowercaseEikon=set(lowercaseEikon)\n",
    "lowercaseThomson=set(lowercaseThomson)\n",
    "\n",
    "commonContributors=lowercaseEikon.intersection(lowercaseThomson)\n",
    "\n",
    "\n",
    "\n",
    "print(commonContributors)"
   ]
  },
  {
   "cell_type": "code",
   "execution_count": 71,
   "id": "2bbc20e8",
   "metadata": {},
   "outputs": [
    {
     "name": "stdout",
     "output_type": "stream",
     "text": [
      "2012\n",
      "2013\n",
      "2014\n",
      "2015\n",
      "2016\n",
      "2017\n",
      "2021\n",
      "nan\n",
      "[48624, 49833, 56889, 59092, 62610, 59987, 0, 0]\n"
     ]
    }
   ],
   "source": [
    "#creating number of downloaded reports per year for contributors from each dataset in both of them\n",
    "yearList=dfEikon[\"Year\"].unique()\n",
    "yearList=sorted(yearList)\n",
    "totalReports=[]\n",
    "\n",
    "for year in yearList:\n",
    "    print(year)\n",
    "    counter=0\n",
    "    for ind in dfEikon.index:\n",
    "        if dfEikon[\"Year\"][ind]==year:\n",
    "            if dfEikon[\"lowercaseContributors\"][ind] in commonContributors:\n",
    "                if dfEikon[\"isDownloaded\"][ind]==1:\n",
    "                    counter+=1\n",
    "    totalReports.append(counter)\n",
    "\n",
    "print(totalReports)"
   ]
  },
  {
   "cell_type": "code",
   "execution_count": 73,
   "id": "d1b886cf",
   "metadata": {},
   "outputs": [
    {
     "data": {
      "image/png": "[encoded data removed]",
      "text/plain": [
       "<Figure size 432x288 with 1 Axes>"
      ]
     },
     "metadata": {
      "needs_background": "light"
     },
     "output_type": "display_data"
    }
   ],
   "source": [
    "def add_value_label(x_list,y_list):\n",
    "    for i in range(1, len(x_list)+1):\n",
    "        plt.text(i,y_list[i-1],y_list[i-1])\n",
    "\n",
    "plt.bar(yearList,totalReports)\n",
    "plt.title('Number of Total Downloaded Eikon Reports from Shared Contributors')\n",
    "plt.xlabel('Year')\n",
    "plt.ylabel('Number of Total Downloaded Reports')\n",
    "add_value_label(yearList,totalReports)\n",
    "plt.show()"
   ]
  },
  {
   "cell_type": "code",
   "execution_count": 74,
   "id": "0e394af4",
   "metadata": {},
   "outputs": [
    {
     "name": "stdout",
     "output_type": "stream",
     "text": [
      "1982\n",
      "1983\n",
      "1984\n",
      "1985\n",
      "1986\n",
      "1987\n",
      "1988\n",
      "1989\n",
      "1990\n",
      "1991\n",
      "1992\n",
      "1993\n",
      "1994\n",
      "1995\n",
      "1996\n",
      "1997\n",
      "1998\n",
      "1999\n",
      "2000\n",
      "2001\n",
      "2002\n",
      "2003\n",
      "2004\n",
      "2005\n",
      "2006\n",
      "2007\n",
      "2008\n",
      "2009\n",
      "2010\n",
      "2011\n",
      "[0, 13, 12, 19, 68, 143, 579, 867, 803, 852, 1354, 1445, 2445, 2848, 2454, 3430, 5264, 8855, 9499, 8225, 8168, 11826, 18832, 21048, 23597, 30558, 34031, 29717, 40316, 51532]\n"
     ]
    }
   ],
   "source": [
    "#shared contributors for thomson\n",
    "\n",
    "yearList=dfThomson[\"year\"].unique()\n",
    "yearList=sorted(yearList)\n",
    "totalReports=[]\n",
    "\n",
    "for year in yearList:\n",
    "    print(year)\n",
    "    counter=0\n",
    "    for ind in dfThomson.index:\n",
    "        if dfThomson[\"year\"][ind]==year:\n",
    "            if dfThomson[\"lowercaseContributors\"][ind] in commonContributors:\n",
    "                counter+=1\n",
    "    totalReports.append(counter)\n",
    "\n",
    "print(totalReports)"
   ]
  },
  {
   "cell_type": "code",
   "execution_count": 75,
   "id": "4d8695e2",
   "metadata": {},
   "outputs": [
    {
     "data": {
      "image/png": "[encoded data removed]",
      "text/plain": [
       "<Figure size 432x288 with 1 Axes>"
      ]
     },
     "metadata": {
      "needs_background": "light"
     },
     "output_type": "display_data"
    }
   ],
   "source": [
    "plt.bar(yearList,totalReports)\n",
    "plt.title('Number of Total Downloaded Thomson Reports from Shared Contributors')\n",
    "plt.xlabel('Year')\n",
    "plt.ylabel('Number of Total Downloaded Reports')\n",
    "#add_value_label(yearList,totalReports)\n",
    "plt.show()"
   ]
  },
  {
   "cell_type": "code",
   "execution_count": null,
   "id": "36ba2054",
   "metadata": {},
   "outputs": [],
   "source": [
    "##finished below with graphs below"
   ]
  },
  {
   "cell_type": "code",
   "execution_count": 22,
   "id": "209dc29c",
   "metadata": {},
   "outputs": [],
   "source": [
    "EikonContributors= pd.DataFrame(dfEikon[\"Contributor\"]).value_counts()\n",
    "ThomsonContributors= pd.DataFrame(dfThomson[\"contributor\"]).value_counts()\n",
    "\n",
    "EikonContributors.to_excel(\"EikonUniqueContributors.xlsx\",sheet_name=\"Eikon\")\n",
    "ThomsonContributors.to_excel(\"ThomsonUniqueContributors.xlsx\",sheet_name=\"Thomson\")"
   ]
  },
  {
   "cell_type": "code",
   "execution_count": 38,
   "id": "5c74fdf0",
   "metadata": {},
   "outputs": [
    {
     "name": "stdout",
     "output_type": "stream",
     "text": [
      "[('JPMorgan',) ('RBC Capital Markets',) ('Barclays',)\n",
      " ('Wells Fargo Securities, LLC',) ('Credit Suisse',)\n",
      " ('BofA Global Research',) ('UBS Equities',) ('Deutsche Bank',)\n",
      " ('Morgan Stanley',) ('Jefferies',) ('Cowen and Company',)\n",
      " ('KeyBanc Capital Markets Inc.',) ('Piper Sandler Companies',)\n",
      " ('Truist Securities',) ('EVERCORE ISI',) ('William Blair & Company',)\n",
      " ('Stephens Inc.',) (\"Sandler O'Neill & Partners\",)\n",
      " ('Susquehanna Financial Group LLLP',) ('Oppenheimer & Co., Inc.',)\n",
      " ('BMO Capital Markets',) ('Macquarie Research',) ('SterneAgee CRT',)\n",
      " ('Guggenheim Securities LLC',) ('Wedbush Securities Inc.',)\n",
      " ('Seaport Global Securities LLC',) ('Canaccord Genuity',)\n",
      " ('D.A. Davidson & Company',) ('The Buckingham Research Group',)\n",
      " ('JMP Securities',) ('Janney Montgomery Scott LLC',) ('SVB Leerink',)\n",
      " ('Avondale Partners, LLC',) ('BB&T Capital Markets',)\n",
      " ('Brean Capital, LLC',) ('Wunderlich Securities',) ('MKM Partners',)\n",
      " ('Roth Capital Partners, Inc.',) ('BMO Capital Markets U.S',)\n",
      " ('Maxim Group',) ('Cantor Fitzgerald',) ('Gabelli & Company',)\n",
      " ('Compass Point Research & Trading LLC',) ('CRT Capital',)\n",
      " ('Telsey Advisory Group',) ('Barrington Research Associates',)\n",
      " ('C.L. King & Associates',) ('Topeka Capital Markets Inc.',)\n",
      " ('Craig Hallum',) ('Northland Securities',) ('Scotiabank GBM',)\n",
      " ('Gordon Haskett',) ('Ladenburg Thalmann & Co. Inc.',)\n",
      " ('The Benchmark Company LLC',) ('Great Lakes/Wellington Shields',)\n",
      " ('FIG Partners',) ('BTIG',) ('Colliers Securities',) ('Hilliard Lyons',)\n",
      " ('Imperial Capital, LLC',) ('Societe Generale',)\n",
      " ('Noble Financial Capital Markets',) ('Miller Tabak & Co.',)\n",
      " ('Auerbach Grayson & Co., Inc.',) ('Boenning & Scattergood, Inc',)\n",
      " ('MLV & Co.',) ('Feltl & Company',) ('Griffin Securities, Inc.',)\n",
      " ('Chardan Capital Markets',) ('Cowen Securities',) ('ThinkEquity',)\n",
      " ('Lake Street Capital Markets',) ('Ascendiant Capital Markets',)\n",
      " ('FBN Securities',) ('Berenberg',) ('KLR Group',) ('Aegis Capital',)\n",
      " ('TD Securities',) ('Caris & Company',) ('H.C. Wainwright & Co., LLC',)\n",
      " ('HSBC',) ('Tigress Financial Partners',) ('Nomura',) ('Stifel Canada',)\n",
      " ('Morgan Keegan & Company, Inc.',) ('Raymond James Ltd. (Canada)',)\n",
      " ('Siebert Williams Shank',) ('Capstone Investments',)\n",
      " ('CIBC Capital Markets',) ('Alden Securities',) ('Gilford Securities',)\n",
      " ('Wedge Partners',) ('Rodman & Renshaw, Inc. - Pre September 2012',)\n",
      " ('National Securities (US)',) ('Eight Capital',)\n",
      " ('R.W. PRESSPRICH & CO',) ('Albert Fried & Company LLC',)\n",
      " ('National Bank Financial',) ('Wellington Shields & Co LLC',)\n",
      " ('MUFG Securities Americas Inc.',) ('Rodman & Renshaw',)\n",
      " ('TheJudaGroup',) ('Pritchard Capital',) ('Laidlaw & Company',)\n",
      " ('UniCredit Research',) ('Stonegate Capital Markets Inc.',) ('WM SMITH',)\n",
      " ('Rochdale Securities',) ('Yuanta Research',) ('Ardour Capital, LLC',)\n",
      " ('Jyske Bank',) ('McAdams Wright Ragen, Inc.',) ('Salman Partners',)\n",
      " ('Cormark Securities Inc.',) ('Collins Stewart LLC',)\n",
      " ('CGS-CIMB Research',) ('Dominick & Dominick LLC',)\n",
      " ('Pareto Securities AS',) ('NatAlliance',) ('BTG Pactual',)\n",
      " ('C.K. Cooper & Company',) ('Itau BBA',) ('Paradigm Capital',)\n",
      " ('Sunwah Kingsway',) ('Burke and Quick Partners, LLC',)\n",
      " ('JPMorgan Econ & FI',) ('LifeSci Capital',) ('Santander',)\n",
      " ('Renaissance Capital (Historical)',) ('Dawson James Securities',)\n",
      " ('T.H. Capital Research',) ('M Partners',) ('New Albion Partners',)\n",
      " ('UOB Kay Hian Pte Ltd',) ('ATB Capital Markets',) ('DNB Markets',)\n",
      " ('Clarksons Platou Securities AS (Norway)',)\n",
      " ('Raymond James Europe RJEE/RJFI',) ('DBS Vickers',)\n",
      " ('Brinson Patrick Securities',) ('Desjardins Securities',)\n",
      " ('China Merchants Securities(HK) Co., LTD',) ('Bloom Burton & Co.',)\n",
      " ('First Global',) ('Haywood Securities Inc.',) ('SEB Equities',)\n",
      " ('NatWest Markets',) ('Banco BV',) ('BNP Paribas Exane',)\n",
      " ('Mackie Research Capital Corp.',) ('finnCap',)\n",
      " ('RF Lafferty & Co. Inc.',) ('Sun Hung Kai Financial',)\n",
      " ('Vector Casa de Bolsa',) ('Merriman Capital, Inc.',)\n",
      " ('LifeTech Capital',) ('URALSIB',)\n",
      " ('Loewen, Ondaatje, McCutcheon Limited',) ('Natixis',)\n",
      " ('Raymond James Latin America',) ('Murphy & Durieu',)\n",
      " ('Arctic Securities',) ('Kaufman Bros., L.P.',)\n",
      " ('Religare Capital Markets',) ('Allaria Ledesma y Cia SA',)\n",
      " ('Maison Placements Canada',) ('Maybank Kim Eng',)\n",
      " ('Crowell, Weedon & Co.',) ('BCS',)\n",
      " ('ICBC International Securities Limited',) ('SOVA Capital Limited',)\n",
      " ('Mirae Asset Securities',) ('Jones Trading',) ('Liberum',)\n",
      " ('Early Bird Capital',) ('Octagon Capital Corp.',)\n",
      " ('Fintrust Brokerage Services',) ('Edelweiss Capital Limited',)\n",
      " ('VTB Capital',) ('Phillip Securities Research Pte Ltd',)\n",
      " ('BB Banco de Investimento S.A.',) ('Midtown Partners & Co., LLC',)\n",
      " ('Emerging Growth Equities, Ltd.',) ('Mirabaud Securities',)\n",
      " ('Imara S.P. Reid Pty Ltd',) ('Alere Financial Partners',)\n",
      " ('Swedbank Markets',) ('iA Capital Markets',) ('NBG Securities Greece',)\n",
      " ('Janco Partners, Inc.',) ('GF Sec. (HK) Brokerage Ltd',)\n",
      " ('PI Financial Corp',) ('Portzamparc BNP Paribas',)\n",
      " ('Ho Chi Minh City Securities Corporation',) ('Warburg Research GmbH',)\n",
      " ('Cantor Fitzgerald Europe',) ('Shore Capital Stockbrokers',)\n",
      " ('Jacob Securities',) ('SAFRA Research',) ('Inteligo SAB',)\n",
      " ('Nirmal Bang Institutional Equities',) ('CCB International Sec Ltd',)\n",
      " ('PICAVAL',) ('Larrain Vial S.A. Corredora de Bolsa',) ('SP Angel',)\n",
      " ('Huatai Financial Holdings (HK)',) ('Commerzbank Corporate Clients',)\n",
      " ('Peel Hunt',) ('CG Capital',)\n",
      " ('NH Investment & Securities (Previously Woori Research)',)\n",
      " ('Eugene Investment & Securities',) ('DAM Capital Advisors',)\n",
      " ('Core Pacific - Yamaichi International (H.K.) Limited',)\n",
      " ('Cantor Fitzgerald Canada',) ('Mitsubishi UFJ Morgan Stanley',)\n",
      " ('NCP Northland Capital Partners',) ('ABN Amro Bank',)\n",
      " ('Fraser Mackenzie Limited',) ('Oriental Patron Securities Ltd',)\n",
      " ('Viet Capital Securities Joint Stock Company (VCSC)',)\n",
      " ('PT BNI Securities',) ('Burrill Securities',)\n",
      " ('Haitong International Research Limited - Pre July 2015',)\n",
      " ('Byron Capital Markets',) ('Norne Securities AS',)\n",
      " ('Natixis Bleichroeder Inc.',) ('IIFL',) ('Davy',)\n",
      " ('SAIGON SECURITIES INC',) ('Coinvalores S.A.',) ('WestPark Capital',)\n",
      " ('Ismail Iqbal Securities Ltd',) ('Phillip Securities Japan',)\n",
      " ('Industrial Securities',) ('ING FM',)\n",
      " ('Bell Potter Securities(Institutional)',)\n",
      " ('PhillipCapital (India) Private Limited',) ('Bank Vontobel AG',)\n",
      " ('KIS Vietnam Securities Corp.',) ('Attijari Research Group',)\n",
      " ('Cenkos Securities',) ('Stockdale Securities',)\n",
      " ('Ambit Capital Pvt Ltd',) ('Stonecap Securities Inc.',) ('ESN',)\n",
      " ('Banco Fator Corretora',) ('Ipopema Securities',)\n",
      " ('Phillip Securities (Hong Kong) Limited',) ('Casa de Bolsa Ve Por Mas',)\n",
      " ('Rencap Securities (Pty) Ltd.',) ('Joseph Gunnar & Co. LLC',)\n",
      " ('Jennings Capital Inc.',) ('Cabrera Capital Markets',)\n",
      " ('Everbright Securities',) ('Morgan Joseph TriArtisan',)\n",
      " ('Equirus Securities',) ('Investec Bank (UK) Plc',) ('Seymour Pierce',)\n",
      " ('Legae Securities',) ('MEDIOBANCA',) ('Edgecrest Capital',)\n",
      " ('KB Securities',) ('FINAM',) ('KGI Greater China',) ('Alfa Bank',)\n",
      " ('Finansia Syrus Securities Plc',) ('ICICI Direct',)\n",
      " ('Global Maxfin Capital',) ('SSIF Tradeville',) ('MDB Capital Group',)\n",
      " ('Banco Santander',) ('Concorde Securities',) ('EL&C Baillieu',)\n",
      " ('Gates Capital Corp',) ('Ahorro Corporacion Financiera S.V.B',)\n",
      " ('Art Capital',) ('Fosun Hani Securities',) ('Quant Broking Pvt Ltd.',)\n",
      " ('Aurel BGC',) ('SMBC Nikko Securities America, Inc.',)\n",
      " ('Banca Transilvania',) ('AP Securities, Incorporated',)\n",
      " ('Intercam Casa de Bolsa',)\n",
      " ('Raiffeisen Research – Instit. Equity Research',) ('Gilbert Dupont',)\n",
      " ('IH Securities',) ('Cinda International Research Limited',)\n",
      " ('Wood & Company',) ('Ativa Corretora',) ('Empire Asset Management',)\n",
      " ('AM Capital Limited',) ('Hanwha Securities Co., Ltd.',)\n",
      " ('Credit Suisse Fixed Income',) ('FAB Securities',) ('CSC Securities',)\n",
      " ('Phillip Securities (Thailand) Public Company Ltd',)\n",
      " ('GBM Casa de Bolsa',) ('Planner Corretora de Valores S/A',)\n",
      " ('ARM Securities',) ('BVSC',) ('African Alliance',) ('DBS Bank',)\n",
      " ('Piraeus Securities',) ('Samsung Securities',) ('Kepler Cheuvreux',)\n",
      " ('HI Investment & Securities',) ('Guotai JunAn (HK) Retail Rsch',)\n",
      " ('WJB Capital Group, Inc (Hist)',) ('Equita SIM',) ('Erste Group',)\n",
      " ('Crosby Securities Limited',)\n",
      " ('CMB International Global Markets Limited',)\n",
      " (\"CMB Int'l Securities Ltd\",) ('Burgan Securities',)\n",
      " ('RongViet Securities',) ('Tripoint Global Equities LLC',)\n",
      " ('SSIF BRK Financial Group',) ('TA Securities Sdn Bhd',)\n",
      " ('Swan Securities',) ('Sterling Capital Limited',)\n",
      " ('South China Research Ltd',) ('Shinhan Investment Corp.',) ('mBank',)\n",
      " ('Red Cloud Klondike Strike',) ('Meritz Securities',)\n",
      " ('Clarus Securities',) ('FFBH',)\n",
      " ('Fubon Securities Investment Services Co., Ltd.',) ('Golomt Capital',)\n",
      " ('China Galaxy Securities Co., Ltd',) ('Charles Stanley',) ('ICBPI',)\n",
      " ('Karvy Stock Broking Limited',) ('Bank ZENIT',)\n",
      " ('Dolat Capital Market Pvt Ltd.',) ('Psagot Securities',)\n",
      " ('Agora Senior',) ('Oyak Securities',) ('BMCE Capital Bourse',)\n",
      " ('BCC-Invest',) ('Daniel Stewart',) ('Collins Stewart Europe',)\n",
      " ('Cinda Securities Co Ltd',) ('ATON LLC',) ('Churchill Capital',)\n",
      " ('Tunisie Valeurs',) ('Adamant Capital LLC',) ('UBS Economics',)\n",
      " ('UBS Fixed Income',) ('Al Rajhi Capital',)\n",
      " ('Changjiang Securities Co.,LTD',) ('Alpha Finance Romania S.A',)\n",
      " ('CYRRUS, as',) ('Unlu & Co',) ('Upline Securities',)\n",
      " ('COL Financial Group, Inc.',) ('Duncan-Williams, Inc',)\n",
      " ('Bryan Garnier',) ('Banorte',) ('Analisis Banco Sabadell',)\n",
      " ('Anand Rathi Securities Private Limited',) ('BT Capital Partners',)\n",
      " ('BPI Capital Africa',) ('BNK Securities',) ('CA Cheuvreux',)\n",
      " ('Euroxx Securities',) ('ESN/CIC Market Solutions (France)',)\n",
      " ('Sidoti & Company',) ('SGI HUDSON & Cie',) ('Phu Hung Securities',)\n",
      " ('Phoenix Partners Group',) ('Nord/LB',) ('NIBC Bank N.V.',)\n",
      " ('NBK Capital',) ('N+1 Brewin',) ('Motilal Oswal Securities Ltd.',)\n",
      " ('Merlin Securities',) ('Santander Brokerage Poland',)\n",
      " (\"Mega Int'l Investment Services\",) ('Lodge Partners',)\n",
      " ('Laurentian Bank Securities',) ('KT ZMICO Securities Company Ltd.',)\n",
      " ('KB Investment & Securities',) ('Eurobank Equities SA',)\n",
      " ('Inventure Capital Markets',) ('IS Investment',) ('Spinelli SA CVMC',)\n",
      " ('ICICI Securities Limited',) ('I.B.I.',) ('Hanyang Securities',)\n",
      " ('Halyk Finance',) ('HDFC Securities Inst Research',)\n",
      " ('GVC Capital LLC',) ('Finamex',) ('Faida Investment Bank Ltd',)\n",
      " ('FBN Capital Ltd.',) ('RFC Ambrian',) ('Euroland Corporate',)\n",
      " ('Intermoney Valores',)]\n"
     ]
    }
   ],
   "source": [
    "print(EikonContributors.index.values)"
   ]
  },
  {
   "cell_type": "code",
   "execution_count": 34,
   "id": "b02ba3b3",
   "metadata": {},
   "outputs": [],
   "source": [
    "Eikon=EikonContributors.to_frame()\n",
    "Thomson=ThomsonContributors.to_frame()\n",
    "EikonNames=list(Eikon.index.values)\n",
    "ThomsonNames=list(Thomson.index.values)"
   ]
  },
  {
   "cell_type": "code",
   "execution_count": 35,
   "id": "283654da",
   "metadata": {},
   "outputs": [
    {
     "name": "stdout",
     "output_type": "stream",
     "text": [
      "[('JPMorgan',), ('RBC Capital Markets',), ('Barclays',), ('Wells Fargo Securities, LLC',), ('Credit Suisse',), ('BofA Global Research',), ('UBS Equities',), ('Deutsche Bank',), ('Morgan Stanley',), ('Jefferies',), ('Cowen and Company',), ('KeyBanc Capital Markets Inc.',), ('Piper Sandler Companies',), ('Truist Securities',), ('EVERCORE ISI',), ('William Blair & Company',), ('Stephens Inc.',), (\"Sandler O'Neill & Partners\",), ('Susquehanna Financial Group LLLP',), ('Oppenheimer & Co., Inc.',), ('BMO Capital Markets',), ('Macquarie Research',), ('SterneAgee CRT',), ('Guggenheim Securities LLC',), ('Wedbush Securities Inc.',), ('Seaport Global Securities LLC',), ('Canaccord Genuity',), ('D.A. Davidson & Company',), ('The Buckingham Research Group',), ('JMP Securities',), ('Janney Montgomery Scott LLC',), ('SVB Leerink',), ('Avondale Partners, LLC',), ('BB&T Capital Markets',), ('Brean Capital, LLC',), ('Wunderlich Securities',), ('MKM Partners',), ('Roth Capital Partners, Inc.',), ('BMO Capital Markets U.S',), ('Maxim Group',), ('Cantor Fitzgerald',), ('Gabelli & Company',), ('Compass Point Research & Trading LLC',), ('CRT Capital',), ('Telsey Advisory Group',), ('Barrington Research Associates',), ('C.L. King & Associates',), ('Topeka Capital Markets Inc.',), ('Craig Hallum',), ('Northland Securities',), ('Scotiabank GBM',), ('Gordon Haskett',), ('Ladenburg Thalmann & Co. Inc.',), ('The Benchmark Company LLC',), ('Great Lakes/Wellington Shields',), ('FIG Partners',), ('BTIG',), ('Colliers Securities',), ('Hilliard Lyons',), ('Imperial Capital, LLC',), ('Societe Generale',), ('Noble Financial Capital Markets',), ('Miller Tabak & Co.',), ('Auerbach Grayson & Co., Inc.',), ('Boenning & Scattergood, Inc',), ('MLV & Co.',), ('Feltl & Company',), ('Griffin Securities, Inc.',), ('Chardan Capital Markets',), ('Cowen Securities',), ('ThinkEquity',), ('Lake Street Capital Markets',), ('Ascendiant Capital Markets',), ('FBN Securities',), ('Berenberg',), ('KLR Group',), ('Aegis Capital',), ('TD Securities',), ('Caris & Company',), ('H.C. Wainwright & Co., LLC',), ('HSBC',), ('Tigress Financial Partners',), ('Nomura',), ('Stifel Canada',), ('Morgan Keegan & Company, Inc.',), ('Raymond James Ltd. (Canada)',), ('Siebert Williams Shank',), ('Capstone Investments',), ('CIBC Capital Markets',), ('Alden Securities',), ('Gilford Securities',), ('Wedge Partners',), ('Rodman & Renshaw, Inc. - Pre September 2012',), ('National Securities (US)',), ('Eight Capital',), ('R.W. PRESSPRICH & CO',), ('Albert Fried & Company LLC',), ('National Bank Financial',), ('Wellington Shields & Co LLC',), ('MUFG Securities Americas Inc.',), ('Rodman & Renshaw',), ('TheJudaGroup',), ('Pritchard Capital',), ('Laidlaw & Company',), ('UniCredit Research',), ('Stonegate Capital Markets Inc.',), ('WM SMITH',), ('Rochdale Securities',), ('Yuanta Research',), ('Ardour Capital, LLC',), ('Jyske Bank',), ('McAdams Wright Ragen, Inc.',), ('Salman Partners',), ('Cormark Securities Inc.',), ('Collins Stewart LLC',), ('CGS-CIMB Research',), ('Dominick & Dominick LLC',), ('Pareto Securities AS',), ('NatAlliance',), ('BTG Pactual',), ('C.K. Cooper & Company',), ('Itau BBA',), ('Paradigm Capital',), ('Sunwah Kingsway',), ('Burke and Quick Partners, LLC',), ('JPMorgan Econ & FI',), ('LifeSci Capital',), ('Santander',), ('Renaissance Capital (Historical)',), ('Dawson James Securities',), ('T.H. Capital Research',), ('M Partners',), ('New Albion Partners',), ('UOB Kay Hian Pte Ltd',), ('ATB Capital Markets',), ('DNB Markets',), ('Clarksons Platou Securities AS (Norway)',), ('Raymond James Europe RJEE/RJFI',), ('DBS Vickers',), ('Brinson Patrick Securities',), ('Desjardins Securities',), ('China Merchants Securities(HK) Co., LTD',), ('Bloom Burton & Co.',), ('First Global',), ('Haywood Securities Inc.',), ('SEB Equities',), ('NatWest Markets',), ('Banco BV',), ('BNP Paribas Exane',), ('Mackie Research Capital Corp.',), ('finnCap',), ('RF Lafferty & Co. Inc.',), ('Sun Hung Kai Financial',), ('Vector Casa de Bolsa',), ('Merriman Capital, Inc.',), ('LifeTech Capital',), ('URALSIB',), ('Loewen, Ondaatje, McCutcheon Limited',), ('Natixis',), ('Raymond James Latin America',), ('Murphy & Durieu',), ('Arctic Securities',), ('Kaufman Bros., L.P.',), ('Religare Capital Markets',), ('Allaria Ledesma y Cia SA',), ('Maison Placements Canada',), ('Maybank Kim Eng',), ('Crowell, Weedon & Co.',), ('BCS',), ('ICBC International Securities Limited',), ('SOVA Capital Limited',), ('Mirae Asset Securities',), ('Jones Trading',), ('Liberum',), ('Early Bird Capital',), ('Octagon Capital Corp.',), ('Fintrust Brokerage Services',), ('Edelweiss Capital Limited',), ('VTB Capital',), ('Phillip Securities Research Pte Ltd',), ('BB Banco de Investimento S.A.',), ('Midtown Partners & Co., LLC',), ('Emerging Growth Equities, Ltd.',), ('Mirabaud Securities',), ('Imara S.P. Reid Pty Ltd',), ('Alere Financial Partners',), ('Swedbank Markets',), ('iA Capital Markets',), ('NBG Securities Greece',), ('Janco Partners, Inc.',), ('GF Sec. (HK) Brokerage Ltd',), ('PI Financial Corp',), ('Portzamparc BNP Paribas',), ('Ho Chi Minh City Securities Corporation',), ('Warburg Research GmbH',), ('Cantor Fitzgerald Europe',), ('Shore Capital Stockbrokers',), ('Jacob Securities',), ('SAFRA Research',), ('Inteligo SAB',), ('Nirmal Bang Institutional Equities',), ('CCB International Sec Ltd',), ('PICAVAL',), ('Larrain Vial S.A. Corredora de Bolsa',), ('SP Angel',), ('Huatai Financial Holdings (HK)',), ('Commerzbank Corporate Clients',), ('Peel Hunt',), ('CG Capital',), ('NH Investment & Securities (Previously Woori Research)',), ('Eugene Investment & Securities',), ('DAM Capital Advisors',), ('Core Pacific - Yamaichi International (H.K.) Limited',), ('Cantor Fitzgerald Canada',), ('Mitsubishi UFJ Morgan Stanley',), ('NCP Northland Capital Partners',), ('ABN Amro Bank',), ('Fraser Mackenzie Limited',), ('Oriental Patron Securities Ltd',), ('Viet Capital Securities Joint Stock Company (VCSC)',), ('PT BNI Securities',), ('Burrill Securities',), ('Haitong International Research Limited - Pre July 2015',), ('Byron Capital Markets',), ('Norne Securities AS',), ('Natixis Bleichroeder Inc.',), ('IIFL',), ('Davy',), ('SAIGON SECURITIES INC',), ('Coinvalores S.A.',), ('WestPark Capital',), ('Ismail Iqbal Securities Ltd',), ('Phillip Securities Japan',), ('Industrial Securities',), ('ING FM',), ('Bell Potter Securities(Institutional)',), ('PhillipCapital (India) Private Limited',), ('Bank Vontobel AG',), ('KIS Vietnam Securities Corp.',), ('Attijari Research Group',), ('Cenkos Securities',), ('Stockdale Securities',), ('Ambit Capital Pvt Ltd',), ('Stonecap Securities Inc.',), ('ESN',), ('Banco Fator Corretora',), ('Ipopema Securities',), ('Phillip Securities (Hong Kong) Limited',), ('Casa de Bolsa Ve Por Mas',), ('Rencap Securities (Pty) Ltd.',), ('Joseph Gunnar & Co. LLC',), ('Jennings Capital Inc.',), ('Cabrera Capital Markets',), ('Everbright Securities',), ('Morgan Joseph TriArtisan',), ('Equirus Securities',), ('Investec Bank (UK) Plc',), ('Seymour Pierce',), ('Legae Securities',), ('MEDIOBANCA',), ('Edgecrest Capital',), ('KB Securities',), ('FINAM',), ('KGI Greater China',), ('Alfa Bank',), ('Finansia Syrus Securities Plc',), ('ICICI Direct',), ('Global Maxfin Capital',), ('SSIF Tradeville',), ('MDB Capital Group',), ('Banco Santander',), ('Concorde Securities',), ('EL&C Baillieu',), ('Gates Capital Corp',), ('Ahorro Corporacion Financiera S.V.B',), ('Art Capital',), ('Fosun Hani Securities',), ('Quant Broking Pvt Ltd.',), ('Aurel BGC',), ('SMBC Nikko Securities America, Inc.',), ('Banca Transilvania',), ('AP Securities, Incorporated',), ('Intercam Casa de Bolsa',), ('Raiffeisen Research – Instit. Equity Research',), ('Gilbert Dupont',), ('IH Securities',), ('Cinda International Research Limited',), ('Wood & Company',), ('Ativa Corretora',), ('Empire Asset Management',), ('AM Capital Limited',), ('Hanwha Securities Co., Ltd.',), ('Credit Suisse Fixed Income',), ('FAB Securities',), ('CSC Securities',), ('Phillip Securities (Thailand) Public Company Ltd',), ('GBM Casa de Bolsa',), ('Planner Corretora de Valores S/A',), ('ARM Securities',), ('BVSC',), ('African Alliance',), ('DBS Bank',), ('Piraeus Securities',), ('Samsung Securities',), ('Kepler Cheuvreux',), ('HI Investment & Securities',), ('Guotai JunAn (HK) Retail Rsch',), ('WJB Capital Group, Inc (Hist)',), ('Equita SIM',), ('Erste Group',), ('Crosby Securities Limited',), ('CMB International Global Markets Limited',), (\"CMB Int'l Securities Ltd\",), ('Burgan Securities',), ('RongViet Securities',), ('Tripoint Global Equities LLC',), ('SSIF BRK Financial Group',), ('TA Securities Sdn Bhd',), ('Swan Securities',), ('Sterling Capital Limited',), ('South China Research Ltd',), ('Shinhan Investment Corp.',), ('mBank',), ('Red Cloud Klondike Strike',), ('Meritz Securities',), ('Clarus Securities',), ('FFBH',), ('Fubon Securities Investment Services Co., Ltd.',), ('Golomt Capital',), ('China Galaxy Securities Co., Ltd',), ('Charles Stanley',), ('ICBPI',), ('Karvy Stock Broking Limited',), ('Bank ZENIT',), ('Dolat Capital Market Pvt Ltd.',), ('Psagot Securities',), ('Agora Senior',), ('Oyak Securities',), ('BMCE Capital Bourse',), ('BCC-Invest',), ('Daniel Stewart',), ('Collins Stewart Europe',), ('Cinda Securities Co Ltd',), ('ATON LLC',), ('Churchill Capital',), ('Tunisie Valeurs',), ('Adamant Capital LLC',), ('UBS Economics',), ('UBS Fixed Income',), ('Al Rajhi Capital',), ('Changjiang Securities Co.,LTD',), ('Alpha Finance Romania S.A',), ('CYRRUS, as',), ('Unlu & Co',), ('Upline Securities',), ('COL Financial Group, Inc.',), ('Duncan-Williams, Inc',), ('Bryan Garnier',), ('Banorte',), ('Analisis Banco Sabadell',), ('Anand Rathi Securities Private Limited',), ('BT Capital Partners',), ('BPI Capital Africa',), ('BNK Securities',), ('CA Cheuvreux',), ('Euroxx Securities',), ('ESN/CIC Market Solutions (France)',), ('Sidoti & Company',), ('SGI HUDSON & Cie',), ('Phu Hung Securities',), ('Phoenix Partners Group',), ('Nord/LB',), ('NIBC Bank N.V.',), ('NBK Capital',), ('N+1 Brewin',), ('Motilal Oswal Securities Ltd.',), ('Merlin Securities',), ('Santander Brokerage Poland',), (\"Mega Int'l Investment Services\",), ('Lodge Partners',), ('Laurentian Bank Securities',), ('KT ZMICO Securities Company Ltd.',), ('KB Investment & Securities',), ('Eurobank Equities SA',), ('Inventure Capital Markets',), ('IS Investment',), ('Spinelli SA CVMC',), ('ICICI Securities Limited',), ('I.B.I.',), ('Hanyang Securities',), ('Halyk Finance',), ('HDFC Securities Inst Research',), ('GVC Capital LLC',), ('Finamex',), ('Faida Investment Bank Ltd',), ('FBN Capital Ltd.',), ('RFC Ambrian',), ('Euroland Corporate',), ('Intermoney Valores',)]\n"
     ]
    }
   ],
   "source": [
    "print(EikonNames)"
   ]
  },
  {
   "cell_type": "code",
   "execution_count": 19,
   "id": "73720d3d",
   "metadata": {},
   "outputs": [
    {
     "name": "stdout",
     "output_type": "stream",
     "text": [
      "<class 'pandas.core.series.Series'>\n"
     ]
    }
   ],
   "source": [
    "print(EikonContributors)"
   ]
  },
  {
   "cell_type": "code",
   "execution_count": 18,
   "id": "bcdb772c",
   "metadata": {},
   "outputs": [
    {
     "name": "stdout",
     "output_type": "stream",
     "text": [
      "contributor                                    \n",
      "CORPORATE TECHNOLOGY INFORMATION SERVICES, INC.    152744\n",
      "PRICETARGET RESEARCH, INC.                         127737\n",
      "THOMSON STREETEVENTS                               111784\n",
      "MERGENT, INC. - COMPANY REPORT                      94955\n",
      "SMITH BARNEY CITIGROUP (MORNING MEETING NOTES)      94279\n",
      "                                                    ...  \n",
      "STOCKBROKERS MALAWI - AUERBACH GRAYSON                  1\n",
      "EFG ISTANBUL                                            1\n",
      "MUZINICH & COMPANY                                      1\n",
      "HYPO VEREINSBANK                                        1\n",
      "KDB DAEWOO SECURITIES                                   1\n",
      "Length: 928, dtype: int64\n"
     ]
    }
   ],
   "source": [
    "print(ThomsonContributors)"
   ]
  },
  {
   "cell_type": "code",
   "execution_count": 7,
   "id": "dc8195be",
   "metadata": {},
   "outputs": [
    {
     "name": "stdout",
     "output_type": "stream",
     "text": [
      "{'RongViet Securities', 'Jacob Securities', 'Faida Investment Bank Ltd', 'Griffin Securities, Inc.', 'Stephens Inc.', 'Lodge Partners', 'Janco Partners, Inc.', 'SAFRA Research', 'China Galaxy Securities Co., Ltd', 'Gilford Securities', 'MUFG Securities Americas Inc.', 'Bloom Burton & Co.', 'Sidoti & Company', 'Guotai JunAn (HK) Retail Rsch', 'BCS', 'BPI Capital Africa', 'Huatai Financial Holdings (HK)', 'CMB International Global Markets Limited', 'M Partners', 'Euroland Corporate', 'KT ZMICO Securities Company Ltd.', 'Allaria Ledesma y Cia SA', 'C.K. Cooper & Company', 'Motilal Oswal Securities Ltd.', 'Hanyang Securities', 'Intermoney Valores', 'Mirae Asset Securities', 'Banca Transilvania', 'Dominick & Dominick LLC', 'LifeSci Capital', 'RBC Capital Markets', 'Credit Suisse Fixed Income', 'FBN Securities', 'Gordon Haskett', 'Laurentian Bank Securities', 'FBN Capital Ltd.', 'MLV & Co.', 'Paradigm Capital', 'New Albion Partners', 'Erste Group', 'GVC Capital LLC', 'Nirmal Bang Institutional Equities', 'Piper Sandler Companies', 'Phillip Securities (Hong Kong) Limited', 'Bank ZENIT', 'SGI HUDSON & Cie', 'Imperial Capital, LLC', 'ATON LLC', 'Peel Hunt', 'Rodman & Renshaw, Inc. - Pre September 2012', 'Burgan Securities', 'Telsey Advisory Group', 'Cinda Securities Co Ltd', 'Larrain Vial S.A. Corredora de Bolsa', 'National Securities (US)', 'CG Capital', 'Wellington Shields & Co LLC', 'Barclays', 'Siebert Williams Shank', 'HI Investment & Securities', 'Maxim Group', 'ARM Securities', 'Phu Hung Securities', 'Salman Partners', 'RF Lafferty & Co. Inc.', 'BB Banco de Investimento S.A.', 'PhillipCapital (India) Private Limited', 'Deutsche Bank', 'Samsung Securities', 'Loewen, Ondaatje, McCutcheon Limited', 'Lake Street Capital Markets', 'Feltl & Company', 'SAIGON SECURITIES INC', 'Equirus Securities', 'KB Investment & Securities', 'Topeka Capital Markets Inc.', 'Ladenburg Thalmann & Co. Inc.', 'Tigress Financial Partners', 'Portzamparc BNP Paribas', 'FINAM', 'Liberum', 'SP Angel', \"Mega Int'l Investment Services\", 'Compass Point Research & Trading LLC', 'Oyak Securities', 'IIFL', 'Morgan Joseph TriArtisan', 'Phillip Securities Research Pte Ltd', 'The Benchmark Company LLC', 'Kaufman Bros., L.P.', 'Attijari Research Group', 'Ipopema Securities', 'COL Financial Group, Inc.', 'Maison Placements Canada', 'WestPark Capital', 'IH Securities', 'Eight Capital', 'Maybank Kim Eng', 'Merriman Capital, Inc.', 'Quant Broking Pvt Ltd.', 'Swan Securities', 'Seaport Global Securities LLC', 'Cowen Securities', 'ATB Capital Markets', 'UBS Fixed Income', 'LifeTech Capital', 'BMCE Capital Bourse', 'Gates Capital Corp', 'Tripoint Global Equities LLC', 'Alfa Bank', 'NIBC Bank N.V.', 'Rochdale Securities', 'Imara S.P. Reid Pty Ltd', 'NatWest Markets', 'Jyske Bank', 'SSIF BRK Financial Group', 'Chardan Capital Markets', 'Al Rajhi Capital', 'Sun Hung Kai Financial', 'Clarksons Platou Securities AS (Norway)', 'Sterling Capital Limited', 'Legae Securities', 'Ativa Corretora', 'Inventure Capital Markets', 'Jones Trading', 'BT Capital Partners', 'Jefferies', 'Mitsubishi UFJ Morgan Stanley', 'Roth Capital Partners, Inc.', 'Analisis Banco Sabadell', 'Anand Rathi Securities Private Limited', 'URALSIB', 'First Global', 'Laidlaw & Company', 'Swedbank Markets', 'KIS Vietnam Securities Corp.', 'Nomura', 'Guggenheim Securities LLC', 'Stonecap Securities Inc.', 'McAdams Wright Ragen, Inc.', 'Gabelli & Company', 'Alere Financial Partners', 'Mirabaud Securities', 'Auerbach Grayson & Co., Inc.', 'ABN Amro Bank', 'Dawson James Securities', 'Adamant Capital LLC', 'Equita SIM', 'Concorde Securities', 'Art Capital', 'Commerzbank Corporate Clients', 'BTG Pactual', 'NBG Securities Greece', 'Edelweiss Capital Limited', 'Ardour Capital, LLC', 'Aurel BGC', 'Pareto Securities AS', 'C.L. King & Associates', 'Seymour Pierce', 'GF Sec. (HK) Brokerage Ltd', 'The Buckingham Research Group', 'N+1 Brewin', 'Vector Casa de Bolsa', 'FFBH', 'FIG Partners', 'Raymond James Europe RJEE/RJFI', 'PICAVAL', 'Colliers Securities', 'National Bank Financial', 'Planner Corretora de Valores S/A', 'MEDIOBANCA', 'Cantor Fitzgerald Canada', 'Euroxx Securities', 'ICBC International Securities Limited', 'Eugene Investment & Securities', 'TA Securities Sdn Bhd', 'KeyBanc Capital Markets Inc.', 'Berenberg', 'Spinelli SA CVMC', 'African Alliance', 'Avondale Partners, LLC', 'ThinkEquity', 'Midtown Partners & Co., LLC', 'Ascendiant Capital Markets', 'ING FM', 'BofA Global Research', 'Hilliard Lyons', 'SSIF Tradeville', 'Shore Capital Stockbrokers', 'Ismail Iqbal Securities Ltd', 'Oppenheimer & Co., Inc.', 'Collins Stewart LLC', 'Warburg Research GmbH', 'RFC Ambrian', 'Fraser Mackenzie Limited', 'Sunwah Kingsway', 'Tunisie Valeurs', 'Duncan-Williams, Inc', 'Hanwha Securities Co., Ltd.', 'Haywood Securities Inc.', 'Phoenix Partners Group', 'Murphy & Durieu', 'Great Lakes/Wellington Shields', 'Bank Vontobel AG', 'BCC-Invest', 'Meritz Securities', 'WJB Capital Group, Inc (Hist)', 'UniCredit Research', 'Alpha Finance Romania S.A', 'Byron Capital Markets', 'Brinson Patrick Securities', 'UOB Kay Hian Pte Ltd', 'Susquehanna Financial Group LLLP', 'Arctic Securities', 'AP Securities, Incorporated', 'BMO Capital Markets U.S', 'Ahorro Corporacion Financiera S.V.B', 'Crowell, Weedon & Co.', 'Edgecrest Capital', 'Piraeus Securities', 'Wells Fargo Securities, LLC', 'EVERCORE ISI', 'Gilbert Dupont', 'Scotiabank GBM', 'Investec Bank (UK) Plc', 'Eurobank Equities SA', 'Brean Capital, LLC', 'Natixis Bleichroeder Inc.', 'Santander', 'Banco Fator Corretora', 'Shinhan Investment Corp.', 'Raymond James Latin America', 'MDB Capital Group', 'Noble Financial Capital Markets', 'Norne Securities AS', 'William Blair & Company', 'CRT Capital', 'D.A. Davidson & Company', 'KGI Greater China', 'BMO Capital Markets', 'Societe Generale', 'Bryan Garnier', 'Finamex', 'Cormark Securities Inc.', 'Intercam Casa de Bolsa', 'SMBC Nikko Securities America, Inc.', 'ICICI Direct', 'WM SMITH', 'BB&T Capital Markets', 'finnCap', 'Burrill Securities', 'EL&C Baillieu', 'Karvy Stock Broking Limited', 'Banco Santander', 'Cantor Fitzgerald', 'NCP Northland Capital Partners', 'Psagot Securities', 'Jennings Capital Inc.', 'Nord/LB', 'GBM Casa de Bolsa', 'Emerging Growth Equities, Ltd.', 'ICICI Securities Limited', 'Crosby Securities Limited', 'Charles Stanley', 'Early Bird Capital', 'Core Pacific - Yamaichi International (H.K.) Limited', 'Albert Fried & Company LLC', 'Phillip Securities Japan', 'Daniel Stewart', 'TheJudaGroup', 'DNB Markets', 'Mackie Research Capital Corp.', 'Banco BV', 'China Merchants Securities(HK) Co., LTD', 'Halyk Finance', 'Northland Securities', 'Fubon Securities Investment Services Co., Ltd.', 'AM Capital Limited', 'Banorte', 'Macquarie Research', 'Joseph Gunnar & Co. LLC', 'Itau BBA', 'Morgan Stanley', 'Casa de Bolsa Ve Por Mas', 'Santander Brokerage Poland', 'Miller Tabak & Co.', 'Yuanta Research', 'BNK Securities', 'Renaissance Capital (Historical)', 'Fosun Hani Securities', 'Cowen and Company', 'Red Cloud Klondike Strike', 'South China Research Ltd', 'Industrial Securities', 'Stockdale Securities', 'Churchill Capital', 'Wunderlich Securities', 'Capstone Investments', 'CGS-CIMB Research', 'Fintrust Brokerage Services', 'Pritchard Capital', 'Cinda International Research Limited', 'BNP Paribas Exane', 'Aegis Capital', 'DAM Capital Advisors', 'Barrington Research Associates', 'UBS Economics', 'FAB Securities', 'mBank', \"Sandler O'Neill & Partners\", 'Global Maxfin Capital', 'Cabrera Capital Markets', 'Truist Securities', 'Rodman & Renshaw', 'DBS Bank', 'Raymond James Ltd. (Canada)', 'Kepler Cheuvreux', 'PI Financial Corp', 'ICBPI', 'NH Investment & Securities (Previously Woori Research)', 'IS Investment', 'Caris & Company', 'I.B.I.', 'CCB International Sec Ltd', 'T.H. Capital Research', 'Everbright Securities', 'CA Cheuvreux', 'Unlu & Co', 'Dolat Capital Market Pvt Ltd.', \"CMB Int'l Securities Ltd\", 'Janney Montgomery Scott LLC', 'JMP Securities', 'NBK Capital', 'Morgan Keegan & Company, Inc.', 'Ho Chi Minh City Securities Corporation', 'SEB Equities', 'HSBC', 'MKM Partners', 'KB Securities', 'Upline Securities', 'iA Capital Markets', 'CSC Securities', 'Finansia Syrus Securities Plc', 'ESN/CIC Market Solutions (France)', 'Raiffeisen Research – Instit. Equity Research', 'VTB Capital', 'TD Securities', 'SOVA Capital Limited', 'Octagon Capital Corp.', 'Religare Capital Markets', 'DBS Vickers', 'Davy', 'Alden Securities', 'Haitong International Research Limited - Pre July 2015', 'JPMorgan', 'CYRRUS, as', 'Empire Asset Management', 'Ambit Capital Pvt Ltd', 'Craig Hallum', 'Cantor Fitzgerald Europe', 'Oriental Patron Securities Ltd', 'SVB Leerink', 'Viet Capital Securities Joint Stock Company (VCSC)', 'CIBC Capital Markets', 'Credit Suisse', 'Canaccord Genuity', 'Stifel Canada', 'Wood & Company', 'HDFC Securities Inst Research', 'Changjiang Securities Co.,LTD', 'ESN', 'Natixis', 'Agora Senior', 'Boenning & Scattergood, Inc', 'Cenkos Securities', 'BTIG', 'KLR Group', 'Coinvalores S.A.', 'UBS Equities', 'Wedge Partners', 'Rencap Securities (Pty) Ltd.', 'Phillip Securities (Thailand) Public Company Ltd', 'Inteligo SAB', 'Stonegate Capital Markets Inc.', 'BVSC', 'Golomt Capital', 'Collins Stewart Europe', 'R.W. PRESSPRICH & CO', 'Wedbush Securities Inc.', 'SterneAgee CRT', 'Merlin Securities', 'Clarus Securities', 'Bell Potter Securities(Institutional)', 'PT BNI Securities', 'JPMorgan Econ & FI', 'H.C. Wainwright & Co., LLC', 'NatAlliance', 'Burke and Quick Partners, LLC', 'Desjardins Securities'}\n"
     ]
    }
   ],
   "source": [
    "EikonContributors=set(dfEikon[\"Contributor\"])\n",
    "print(EikonContributors)"
   ]
  },
  {
   "cell_type": "code",
   "execution_count": 9,
   "id": "ef95508c",
   "metadata": {},
   "outputs": [
    {
     "name": "stdout",
     "output_type": "stream",
     "text": [
      "{'I.B.I. (ISRAEL)', 'BEACON ROCK RESEARCH', 'GRUPO BURSATIL MEXICANO, S.A. DE C.V.', 'DAWSON JAMES', 'MUZINICH & COMPANY', 'MANAGESOURCE RESEARCH INC', 'NATIONAL BANK FINANCIAL', 'MORGAN JOSEPH AND CO', 'FARMHOUSE EQUITY RESEARCH', 'NATIXIS', 'VICKERS BALLAS INVESTMENT RESEARCH', 'SECURITIES CORPORATION OF IOWA', 'J.J.B. HILLIARD, W.L. LYONS, INC.', 'WR HAMBRECHT +CO. (HISTORICAL)', 'HYUNDAI SECURITIES CO., LTD.', 'KAUFMAN BROTHERS', 'FIRSTCALL INDIA EQUITY ADVISORS PVT LTD', 'PARIBAS CAPITAL MARKETS GROUP', 'PERSHING DIV., DONALDSON LUFKIN & JENRETTE', 'DISCLOSURE INSIGHT', 'PRICETARGET RESEARCH, INC.', 'BNP/PARIBAS', 'ANDERSON CAPITAL MANAGEMENT', 'RELIGARE CAPITAL MARKETS', 'NATIXIS BLEICHROEDER', 'JM DUTTON & ASSOCIATES, LLC', 'DANSKE EQUITIES (ESN)', 'ADVENT CAPITAL AND FINANCE CORPORATION', 'SCOTIABANK GBM', 'THINKEQUITY PARTNERS', 'TM CAPITAL CORP.', 'THE COLUMBIA GROUP, LLC', 'MACQUARIE EQUITIES LIMITED', 'ROBERT FLEMING, INC.', 'URALSIB FINANCIAL CORPORATION - AUERBACH GRAYSON', 'CREDIT SUISSE LATIN AMERICA', 'CIG', 'STANDARD & POORS STARS REPORT', 'NOMURA SINGAPORE LTD.', 'HARRIS PARTNERS LIMITED', 'PRITCHARD CAPITAL PARTNERS', 'VIET CAPITAL SECURITIES COMPANY', 'ISP LAFFERTY SECURITIES', 'BARRINGTON RESEARCH ASSOCIATES INC', 'OPUS GROUP FINANCIAL', 'BC ZIEGLER', 'CITIGROUP (MORNING MEETING NOTES)', 'WEDGE PARTNERS', 'FINANCIAL DATA SYSTEMS', 'DONALDSON, LUFKIN & JENRETTE MORNING MEETING NOTES', 'IIR GROUP 12 MONTHS AND OVER', 'HAMBURGER SPARKASSE (HASPA)', 'ICICI SECURITIES AND FINANCE COMPANY LTD.', 'MJ WHITMAN, INC.', 'MDB CAPITAL GROUP', 'PAA RESEARCH LLC', 'COUNTY NATWEST SECURITIES ASIA LTD.', 'ABG SUNDAL COLLIER A/S', 'BENCHMARK FINANCE', 'FROST SECURITIES INC.', 'MERITZ SECURITIES', 'IDFC SECURITIES', 'SUMMER STREET RESEARCH', 'BEESON GREGORY LTD.', 'THE ROBINS GROUP', 'SCOTIA CAPITAL', 'RBS', 'MESIROW FINANCIAL, INC.', 'CITI', 'DIRKS & CO.', 'LANDSBANKI - KEPLER', 'MORNINGSTAR CREDIT RESEARCH', 'CARIS & COMPANY', 'PNC INSTITUTIONAL INVESTMENT SERVICE', 'DEUTSCHE BANC (EUROPE) MORNING MEETING NOTES', 'GREENER DAWN RESEARCH', 'ZUERCHER KANTONALBANK', 'NATIONAL SECURITIES (GREECE)', 'W.R. HAMBRECHT & CO.', 'BROOKSTREET SECURITIES', 'BEAR, STEARNS MORNING MEETING NOTES', 'ADAMS HARKNESS & HILL', 'SEAMICO SECURITIES PUBLIC COMPANY LTD', 'GVC CAPITAL LLC', 'GLOBLEX SECURITIES CO., LTD', 'ARAGON FONDKOMMISSION', 'MIRAE ASSET SECURITIES', 'PAINEWEBBER INC.', 'THOMSON STREETEVENTS', 'FIRST BERLIN', 'BELTONE FINANCIAL', 'NEW YORK GLOBAL SECURITIES', 'LIFE SCIENCE ANALYTICS DEALS AND ALLIANCE REPORT', 'SCHRODER & CO. INC.', 'CLAL FINANCE BATUCHA BROKERAGE - AUERBACH GRAYSON', 'BETA CAPITAL S.A.', 'CI CAPITAL (EGYPT)', 'GJENSIDIGE NOR EQUITIES ASA', 'UNITED STATES CAPITAL CORPORATION', 'KBC SECURITIES', 'NEW CONSTRUCTS LLC', 'MADISON SECURITIES, INC.', 'WACHOVIA CAPITAL MARKETS, LLC', 'JACOB SECURITIES', 'CAPSTONE INVESTMENTS', 'DZ BANK - AUERBACH GRAYSON', 'ATON LLC', 'CASA DE BOLSA BANORTE, S.A. DE C.V.', 'LIFE SCIENCE ANALYTICS THERAPEUTIC COMPETITORS', 'WESTLB HISTORICAL', 'AFRIFOCUS SECURITIES (PTY) LTD', 'DUFF & PHELPS CREDIT RATING CO.', 'BROWN BROTHERS HARRIMAN & CO.', 'DEUTSCHE BANK - JAPAN', 'KERN SUSLOW SECURITIES', 'ING FINANCIAL MARKETS HISTORY USA', 'ING FINANCIAL MARKETS HISTORY UK', 'ANAND RATHI SECURITIES PVT. LTD.', 'OVUM COMPANY REPORTS', 'BLUESTONE CAPITAL PARTNERS, L.P.', 'JM DUTTON & ASSOCIATES', 'M PARTNERS', 'GILFORD SECURITIES', 'CAPITAL ONE SOUTHCOAST INC', 'LIFE SCIENCE ANALYTICS DETAILED PRODUCT PIPELINE', 'GUGGENHEIM SECURITIES LLC', 'KIWOOM SECURITIES CO., LTD', 'FINANSA LTD.', 'CONCENTRIC RESEARCH LLC.', 'MF GLOBAL FXA SECURITIES', 'VIET FINANCIAL INFORMATION SERVICE JSC', 'DREXEL HAMILTON', 'ARGUS INSTITUTIONAL PARTNERS', 'NORTHCOAST RESEARCH', 'PEEL HUNT', 'INTERBOLSA', 'ALANDSBANKEN', 'ALETTI & C. SIM', 'C.K. COOPER & CO.', 'MONARCH RESEARCH LLC', 'NUMIS SECURITIES', 'D.A. DAVIDSON & CO.', 'MDM BANK', 'MOSELEY SECURITIES CORPORATION', 'THOMSON FINANCIAL SECURITIES DATA - M&A', 'KIM ENG ONG ASIA SECURITIES', 'SHINHAN INVESTMENT CORP.', 'JESUP & LAMONT SECURITIES', 'MORNINGSTAR, INC.', 'INVEX CASA DE BOLSA', 'SADIF-INVESTMENT ANALYTICS SA', 'EFG ISTANBUL', 'CREDIT SUISSE FIRST BOSTON MORNING MEETING NOTES', 'DREXEL BURNHAM LAMBERT INC.', 'ARIF HABIB LIMITED', 'STRATEGIC INTERNATIONAL SECURITES', 'CARNEGIE INVESTMENT BANK AB', 'SAIGON SECURITIES INCORPORATION', 'BMO CAPITAL MARKETS U.S.', 'MORGAN KEEGAN & CO.', 'FOX DAVIES CAPITAL', 'VELES CAPITAL', 'TEST - INVESTEXT PRICE 2', 'CHOLET-DUPONT S.A.', 'DEUTSCHE BANC (US) MORNING MEETING NOTES', 'MEDIA GROUP RESEARCH', 'GEORGIAN INVESTMENT GROUP - AUERBACH GRAYSON', 'INSTITUTIONAL SHAREHOLDER SERVICES', 'UNITED BULGARIAN BANK', 'FUNDACION INVERTIR ARGENTINA', 'STONECAP SECURITIES INC.', 'JEFFERIES & COMPANY, INC.', 'IIFL', 'DEUTSCHE BANK SECURITIES CANADA', 'PRUDENTIAL VOLPE TECHNOLOGY GROUP', 'ACI RESEARCH', 'FORTIS BANK N.V.', 'CATALYST FINANCIAL RESOURCES LLC', 'MORAN & ASSOCIATES, INC.', 'FOLEY MUFSON HOWE & COMPANY', 'UBS (EUROPE)', 'IMARA S.P REID (PTY) LTD', 'INVESTEC BANK (UK) PLC', 'H.C. WAINWRIGHT & CO.', 'PANMURE GORDON & CO', 'RBC CAPITAL MARKETS (CANADA)', 'ABN AMRO BANK N.V. FIXED INCOME', 'KIMBALL & CROSS', 'OPPENHEIMER AND CO', 'BEREAN CAPITAL', 'KIDDER, PEABODY & COMPANY, INCORPORATED', 'WHEN2TRADE', 'LANGENBERG & COMPANY', 'RODMAN & RENSHAW, INC.', 'PRINCIPAL FINANCIAL SECURITIES, INC.', 'WELLINGTON SHIELDS & CO LLC', 'ASCENDIANT CAPITAL MARKETS', 'PEACOCK, HISLOP, STALEY & GIVEN, INC.', 'WORLD MARKETS INTELLIGENCE COMPANY SWOT', 'WHITAKER SECURITIES', 'WACHOVIA SECURITIES', 'FAIRVIEW CAPITAL GROUP', 'JAYPEE INTERNATIONAL, INC.', 'DEUTSCHE BANK EMERGING EUROPE', 'KEVIN DANN AND PARTNERS', 'ROTHSCHILD INC.', 'OPERADORA DE BOLSA SERFIN', 'PSAGOT', 'F VAN LANSCHOT', 'ALBERT FRIED & COMPANY LLC', 'JACKSON SECURITIES', 'NIKOIL INVESTMENT CO. - AUERBACH GRAYSON', 'ALLARIA LEDSEMA & CIA', 'RAUSCHER PIERCE REFSNES, INC.', 'MAYBAN SECURITIES SDN. BHD.', 'COLUMBINE CAPITAL', 'UBS', 'RBS (EX-ABN) U.S.A', 'ENAM SECURITIES PVT.', 'THOMSON FINANCIAL BANKWATCH', 'VEREINS- UND WESTBANK AG', 'NOMURA INTERNATIONAL PLC', 'CURREN & COMPANY', 'CIM STOCKBROKERS LTD', 'BAIRD, PATRICK & CO., INC.', 'INDIA INFOLINE.COM', 'CIBC WORLD MARKETS INC. FIXED INCOME', 'CREDIT LYONNAIS SECURITIES (UK)', 'E. F. HUTTON & CO., INC.', 'BOETTCHER & CO.', 'FAIRESEARCH GMBH & CO KG', 'SOLEIL-MEDIA METRICS', 'PARETO SECURITIES AS', 'CITI (EUROPE/UK RESEARCH)', 'SWEDBANK MARKETS', 'NOLLENBERGER CAPITAL PARTNERS INC', 'WESTERGAARD.COM', 'FAIR DISCLOSURE FINANCIAL NETWORK, INC.', 'FINANSIA SYRUS SECURITIES PUBLIC COMPANY LIMITED', 'WEDBUSH MORGAN SECURITIES, INC.', 'FINCORP', 'LADENBURG, THALMANN & CO. INC.', 'BUSINESS INSIGHTS COMPANY REPORTS', 'RBC CM (PRIOR-APR 5,2009)', 'VALIDEA', 'VENTURE ECONOMICS', 'SCHRODER SECURITIES (ASIA) LTD.', 'PUILAETCO, LUXEMBOURG - AUERBACH GRAYSON', 'ENSKILDA SECURITIES', 'JIH SUN SECURITIES CO LTD', 'VTB CAPITAL', 'MERRIMAN CURHAN FORD', 'NUMIS SECURITIES - &gt; 90 DAYS', 'GREENWICH GLOBAL, LP', 'GREENWELL MONTAGU STOCKBROKERS', 'RBS (EX-ABN) HOARE GOVETT - NEW YORK', 'T.R.A.D.E. - COMPANY REPORTS', 'FULCRUM GLOBAL PARTNERS', 'TRADITION ASIEL SECURITES', 'RBS EQUITIES RESEARCH', 'KENNY SECURITIES', 'AMWAL INVEST', 'PIPER JAFFRAY', 'STERNE, AGEE & LEACH, INC.', 'RAYMOND JAMES EURO EQUITIES', 'FOUNDATION SECURITIES (PVT) LIMITED', 'MARQUIS INVESTMENT RESEARCH', 'TAGLICH BROTHERS', 'ROSETTA GROUP', 'KAUPTHING SINGER AND FRIEDLANDER', 'WALL STREET STRATEGIES', 'ROBERTSON STEPHENS', 'LOEWEN, ONDAATJE, MCCUTCHEON LIMITED', 'LOOP CAPITAL MARKETS, LLC', 'LUCROR ANALYTICS PTE LTD', 'TRUST INVESTMENT BANK', 'SANTANDER GBM', 'VECTOR SECURITIES INTERNATIONAL, INC.', 'HOWE BARNES HOEFER AND ARNETT INC', 'BLUE WATER CAPITAL MARKETS LLC', 'WESTLB EQUITY MARKETS', 'MCDONALD INVESTMENTS INC.', 'CITI (AUSTRALIA/NEW ZEALAND RESEARCH)', 'URALSIB', 'ESN/NCB STOCKBROKERS', 'TRIPOINT GLOBAL RESEARCH, LLC', 'RBC CAPITAL MARKETS (US)', 'KIM ENG', 'ZURICHER KANTONALBANK', 'ESN/SNS SECURITIES', 'RBS FIXED INCOME (EX-ABN)', 'BT ALEX. BROWN RESEARCH', 'UNIBANCO', 'YUANTA RESEARCH', 'PRUDENTIAL EQUITY GROUP, INC.', 'NEW GENERATION RESEARCH: DISTRESSED COMPANY ALERT', 'PHAROS RESEARCH', 'PICTET ET CIE', 'J&T BANKA', 'CANACCORD ADAMS', 'WARBURG RESEARCH GMBH', 'SG COWEN SECURITIES CORPORATION', 'MURPHY & DURIEU', 'SUN TRUST ROBINSON HUMPHREY CAPITAL MARKETS', 'PAINEWEBBER MORNING MEETING NOTES', 'BANCO PACTUAL S.A.', 'PHU HUNG SECURITIES', 'BARCLAYS DE ZOETE WEDD SECURITIES', 'LEGG MASON WOOD WALKER, INC.', 'CABOTO INTESA BCI SIM', 'INGALLS & SNYDER', 'DATAMONITOR FINANCIAL DEALS', 'RAPID RATINGS', 'CHATSWORTH SECURITIES LLC', 'BULLHOUND LTD.', 'CENTRUM BROKING PVT LTD', 'SHOW-ME RESEARCH INC', 'COMMERZBANK CORPORATES & MKTS', 'GRIFFIN SECURITIES', 'ROCHDALE SECURITIES', 'CREDIT LYONNAIS SECURITIES (JAPAN)', 'CABRERA CAPITAL MARKETS', 'WEDBUSH SECURITIES INC', 'ANDERSON & STRUDWICK, INC.', 'ROBERT W. BAIRD & CO. INCORPORATED', 'ARBUTHNOT SECURITIES - AUERBACH GRAYSON', 'GLOBALDATA', 'CHARLES STANLEY & CO., LTD.', 'VAN KAMPEN MERRITT MANAGEMENT INC.', 'STEPHENS INC.', 'CITISECONLINE.COM, INC.', 'CREDIT SUISSE - FIXED INCOME', 'BT ALEX. BROWN, FORMERLY NATWEST SEC LTD', 'MONTANO SECURITIES CORPORATION', 'MOTILAL OSWAL SECURITIES', 'SUN HUNG KAI FINANCIAL', 'COLLINS STEWART EUROPE', 'CHICAGO MANAGEMENT RESEARCH ADVISORS', 'STURDIVANT AND COMPANY', 'RAYMOND JAMES ARGENTINA', 'BARITS SECURITIES CORP.', 'THE WALL STREET TRANSCRIPT CORPORATION', 'EVEREN SECURITIES, INC.', 'NOMURA RESEARCH INSTITUTE AMERICA, INC.', 'ING BANK N.V', 'MERLIN SECURITIES', 'SMITH BARNEY CITIGROUP (US RESEARCH)', 'DBS VICKERS SECURITIES LIMITED', 'SANTANDER INVESTMENT SECURITIES INC', 'LG INVESTMENT & SECURITIES CO., LTD.', 'SALMAN PARTNERS', 'OHMAN FONDKOMMISSION AB', 'ROBERTSON STEPHENS MORNING MEETING NOTES', 'DESJARDINS SECURITIES', 'STOCK ADVANTAGE PARTNERSHIP', 'SOCIETE GENERALE', \"STIRES O'DONNELL & CO., INC.\", 'HAMPSHIRE SECURITIES CORPORATION', 'PALI RESEARCH', 'DISCOVERY INVESTMENT RESEARCH', 'GLOBAL MARKETS DIRECT', 'GALLAGHER CAPITAL CORP.', 'ZACKS INVESTMENT RESEARCH', 'CULVERWELL & CO., INC.', 'MORGAN STANLEY', 'DNB MARKETS', 'DAHLMAN ROSE & CO. LLC', 'ICRA LIMITED', 'SG SECURITIES (JOHANNESBURG) PTY LIMITED', 'BMO CAPITAL MARKETS CANADA', 'PUTNAM LOVELL NBF', 'MIRAE ASSET SECURITIES ENGLISH LANGUAGE', 'NETWORTH STOCK BROKING LIMITED', 'OLMA RUSSIA', 'SHAREKHAN LIMITED', 'NIKKO SECURITIES CO., (EUROPE) LTD.', 'EPSILON S.A.', 'MORGAN STANLEY MORNING MEETING NOTES', 'TAURUS INV & SEC KORLANG', 'MILLER, JOHNSON & KUEHN', 'ESN/BANK DEGROOF', 'MEDIOBANCA', 'PCIB SECURITIES, INC.', 'ADAM HARKNESS INC', 'SCHROEDER MUENCHMEYER HENGST RESEARCH', 'CHANGEWAVE RESEARCH', 'UNICREDIT GLOBAL RESEARCH- EQ&CRDT- &gt; 90 DAYS', 'EUROPOLITICS', 'DEUTSCHE BANK - LATIN AMERICA', 'SAMCO CAPITAL MARKETS', 'FELTL & COMPANY', 'BANIF INVESTIMENTO', 'CREDIT SUISSE - JAPAN', 'BOENNING AND SCATTERGOOD INC', 'NEXT GENERATION RESEARCH', 'WESTPORT CAPITAL MARKETS, LLC', 'MKM PARTNERS', 'CANACCORD ADAMS (HISTORICAL)', 'CITI (HONGKONG RESEARCH)', 'H.J. MEYERS & CO., INC.', 'TEATHER & GREENWOOD LIMITED', 'CATAMOUNT STRATEGIC ADVISORS', 'THE REGIONAL STOCK MONITOR', 'CYGNUS ATLANTIC LIMITED', 'WISCO RESEARCH', 'FITCH RATINGS', 'AXIA FINANCIAL RESEARCH', 'FIRST GLOBAL STOCKBROKING PVT LTD', 'NATIONAL ASSOCIATION OF REAL ESTATE INVESTMENT TRUSTS', 'THE SEIDLER COMPANIES INC.', 'COHEN BROS AND CO', 'MILLA & COMPANY S.I.M. S.P.A.', 'DUNDEE SECURITIES CORP', 'WELLS FARGO SECURITIES, LLC', 'FIG PARTNERS', 'MB RESEARCH ADVISORS', 'ORION SECURITIES INC. (CANADA)', 'FIRST ASSET MANAGEMENT', 'CASA DE BOLSA BBVA BANCOMER S.A. DE C.V.', 'RABEE SECURITIES - AUERBACH GRAYSON', 'LARRAIN VIAL S.A. CORREDORA DE BOLSA', 'DEUTSCHE BANK FI RESEARCH', 'CLARUS SECURITIES INC', 'DNB NOR MARKETS', 'SEYMOUR PIERCE LTD', 'CHASE HAMBRECHT & QUIST INC.', 'SKP SECURITIES LIMITED', 'F VAN LANSCHOT BANKIERS NV. - AUERBACH GRAYSON', 'UBS (AUSTRALIA/NZ)', 'SINOPAC SECURITIES CORP.', 'LOUIS NICOUD & ASSOCIATES', 'VERLAG HOPPENSTEDT GBMH', 'BUCKINGHAM RESEARCH GROUP, INC.', 'R.J. STEICHEN', 'MACQUARIE(FMR OPPENHEIM)-HIST', 'ESN/CM-CIC SECURITIES', 'C.E. UNTERBERG, TOWBIN', 'NATEXIS BLEICHROEDER, INC.', 'EAST SHORE PARTNERS, INC.', 'USA CAPITAL MANAGEMENT GROUP, INC.', 'IBIS WORLD COMPANY RISK REPORTS', 'EVERGLADES RESEARCH, INTERNATIONAL CAPITAL GROWTH', 'SMITH BARNEY CITIGROUP', 'CELESTIAL ASIA SECURITIES HOLDING LTD', 'RAYMOND JAMES', 'RYE, MAN AND GOR SECURITIES', 'DELPHOS INVESTMENT', 'THE DISCOVERY GROUP', 'AUERBACH GRAYSON & CO.', 'CORMARK SECURITIES', 'UTENDAHL CAPITAL PARTNERS, L.P.', 'THOMSON FINANCIAL SECURITIES DATA (M&A)', 'BRE BANK SECURITIES - AUERBACH GRAYSON', 'J.M. SASSOON & CO. (PTE.) LTD.', 'AFRICAN ALLIANCE', 'BURDETT BUCKERIDGE YOUNG', 'RAFFERTY CAPITAL MARKETS', 'RAYMOND JAMES LATIN AMERICA', 'AMERICAN CAPITAL PARTNERS', 'KENNETH, JEROME & COMPANY, INC.', 'ARBUTHNOT SECURITIES LIMITED', 'WOOD & COMPANY', 'TRADITIONAL ASIEL SECURITES', 'CIBC WORLD MARKETS CORP. (AUSTRALIA)', 'HIBBARD BROWN & COMPANY, INCORPORATED', 'MARKET ANALYTICS', 'UBS (LATIN AMERICA)', 'LIFE SCIENCE ANALYTICS, INC.', 'FBN SECURITIES', 'WILLIAM BLAIR & COMPANY', 'INDIGO EQUITY RESEARCH', 'LIBERUM CAPITAL', 'CURRENT ANALYSIS', 'GRODSKY ASSOCIATES', 'MEESCHAERT-ROUSSELLE', 'WORLD EQUITIES', 'AKD SECURITIES LIMITED', 'MF GLOBAL-SIFY SECURITIES INDIA PRIVATE LIMITED', 'DUTTON ASSOCIATES', 'INTERBOLSA - AUERBACH GRAYSON', 'STARR SECURITIES', 'ICD RESEARCH - COMPANY PROFILE', 'GOEPEL SHIELDS & PARTNERS', 'ARDOUR CAPITAL', 'MARTIN SIMPSON & COMPANY, INC.', 'FIRST DALLAS SECURITIES', 'CASIMIR CAPITAL L.P.', 'MOORS AND CABOT, INC.', 'WHALE SECURITIES CO.', 'STANCIOFF, SONS & CO.', 'BWD RENSBURG LTD.', 'COWEN AND COMPANY', 'E OFFERING CORP.', 'CANTOR FITZGERALD AND COMPANY', 'RAYMOND JAMES & ASSOCIATES, INC.', 'BRIGANTINE ADVISORS', 'HOAK BREEDLOVE WESNESKI & CO.', 'OFFUTT SECURITIES', 'CIC SECURITIES', 'AM MINDPOWER SOLUTIONS LLP', 'UBS (JAPAN)', 'WALTON HOLDINGS', 'HOWE BARNES INVESTMENTS, INC.', 'INTELIGO SAB', 'FOSTER SECURITIES RESEARCH', 'CATHAY FINANCIAL', 'EQUITY RESEARCH SERVICES', 'ITAU BBA', 'IS YATIRIM', 'A.G. EDWARDS & SONS, INC.', 'AHORRO CORPORACION FINANCIERA', 'SUSQUEHANNA FINANCIAL GROUP LLLP', 'IBERSECURITIES, AVB', 'MILLER TABAK & CO., LLC', 'CREDIFINANCE SECURITIES LTD.', 'L. FLOMENHAFT & CO.', 'HIBERNIA SOUTHCOAST CAPITAL', 'ITAU CORRETORA', 'PATERSONS SECURITIES LIMITED', 'AMBIT CAPITAL PRIVATE LIMITED', 'GRI COMPANIES INC.', 'FIRST EQUITY CORP. OF FLORIDA', 'LAZARD FRERES & COMPANY, LLC', 'SCHRODER SECURITIES UK LTD.', 'ERSTE GROUP BANK - AUERBACH GRAYSON', 'SSCO', 'TKB CAPITAL', 'CITI (MORNING MEETING NOTES)', 'DAIWA INSTITUTE OF RESEARCH EUROPE LTD.', 'SBCI SECURITIES (ASIA) LTD', 'ANGEL BROKING LIMITED', 'DUNCAN WILLIAMS', 'TECHNOLOGY RESEARCH GROUP', 'UNICREDIT RESEARCH - EQ & CRDT - &gt; 90 DAYS', 'HCFP BRENNER SECURITIES', 'EVERBRIGHT SECURITIES', 'ICAP PLC', 'SANDLER AND COMPANY LLC', 'HI INVESTMENT & SECURITIES', 'STANDARD INVESTMENT CHARTERED', 'BARRINGTON RESEARCH ASSOCIATES', 'SINGULAR RESEARCH', 'FIMA LTD. - AUERBACH GRAYSON', 'FATOR DORIA ATHERINO S/A', 'MERCK FINCK - AUERBACH GRAYSON', 'CHESAPEAKE SECURITIES RESEARCH CORP.', 'FIDEURAM WARGNY', 'HANCOCK INSTITUTIONAL EQUITY SERVICES', 'KOREA INVESTMENT & SECURITIES', 'THINK 20/20', 'MERGENT FIS - HISTORY & DEBT', 'MONDO VISIONE', 'FERTILEMIND.NET', 'GROWTH EQUITIES', 'WALL STREET TRANSCRIPT', 'SANFORD C. BERNSTEIN & CO., INC.', 'STANFORD FINANCIAL GROUP', 'CITI (LATIN AMERICA RESEARCH)', 'PT BAHANA SECURITIES', 'MEITAV BROKERAGE', 'TRADITION ASIEL SECURITIES', 'TD SECURITIES', 'KB INVESTMENT & SECURITIES', 'COMVEST PARTNERS, INC.', 'T.H. CAPITAL RESEARCH', 'CREDIT SUISSE MORNING MEETING NOTES', 'POLITICAL RISK SERVICES (IBC USA)', 'LAURENTIAN BANK SECURITIES', 'PASFIN SECURITIES', 'BEAR, STEARNS & CO., INC.', 'MABON SECURITIES INC.', 'IIIR 12 MONTHS AND OVER', 'HUDSON SECURITIES', 'COMMERZBANK', 'DEUTSCHE SECURITIES ASIA LTD.', 'SCOTIABANK INVERLAT', 'VINTAGE RESEARCH LLC', 'MACKIE RESEARCH CAPITAL', 'KOSTECH SMALLCAP RESEARCH', 'VERDICT COMPANY REPORTS', 'EMERGING GROWTH EQUITIES INC', 'SANTANDER CENTRAL HISPANO INVESTMENT', 'BANKGESELLSCHAFT BERLIN AG', 'JMP SECURITIES LLC - COMPANY REPORTS', 'SK SECURITIES CO LTD', 'FOX-PITT, KELTON, INC.', 'TD NEWCREST', 'SUTRO & CO., INC.', 'CAPITAL MARKETS ARGENTINA S.B.S.A. - AUERBACH GRAYSON', 'WALL STREET TRANSCRIPT CORPORATION', 'SEG GROUP', 'DEUTSCHE BANC ALEX. BROWN FIXED INCOME', 'DOLMEN SECURITIES', 'CIMB RESEARCH', 'M. WARBURG AND CO - AUERBACH GRAYSON', 'NATIONAL SECURITIES CORPORATION', 'CREDIT SUISSE FIRST BOSTON SECURITIES JAPAN', 'NORTHEAST SECURITIES', 'CREDIT SUISSE FIRST BOSTON CORPORATION', 'EVOLUTION SECURITIES', 'TUCKER ANTHONY SUTRO CAPITAL MARKETS', 'BANCA IMI', 'BREAN MURRAY, FOSTER SECURITIES INC.', 'OTKRITIE', 'EVOLUTION BEESON GREGORY LTD', 'PHILLIP SECURITIES THAILAND PUBLIC CO LTD', 'CLAL FINANCE BATUCHA', 'UBS RESEARCH LIMITED', 'NEW YORK SOCIETY OF SECURITY ANALYSTS', 'ROBOTTI & COMPANY', 'BNP PARIBAS SECURITIES (ASIA)', 'TOWA SECURITIES RESEARCH INSTITUTE CO., LTD.', 'BATEMAN EICHLER, HILL RICHARDS, INC.', 'BERNSTEIN RESEARCH', 'KEYBANK CAPITAL MKTS/MCDONALD', 'CITIGROUP (AUSTRALIA/NEW ZEALAND RESEARCH)', 'FAHNESTOCK & CO., INC.', 'GEORGE K. BAUM & COMPANY', 'B. METZLER SEEL. SOHN & CO.', 'DMG & PARTNERS (HISTORICAL)', 'MCADAMS WRIGHT RAGEN', 'SHONSTROM RESEARCH ASSOCIATES, LLC', 'EDELWEISS SECURITIES LIMITED', 'KHANDWALA SECURITIES LIMITED', 'PAULSON INVESTMENT COMPANY INC.', 'MORNINGSTAR INC.', 'BUALUANG SECURITIES PLC', 'CLARION SECURITIES ASIA LTD.', 'E.L. & C. BAILLIEU STOCKBROKING LTD.', 'CA CHEUVREUX - COMPANY REPORTS', 'PARADIGM CAPITAL', 'MARKETLINE (A DATAMONITOR COMPANY) FINANCIAL DEALS', 'JPMORGAN', 'MEGA SECURITIES CO LIMITED', 'JANNEY MONTGOMERY SCOTT LLC', 'BECKER W. PARIBAS', 'ADDCO INVESTMENT RESEARCH, INC.', 'RAYMOND JAMES CANADA', 'KBC PEEL HUNT', 'TEIKOKU DATABANK AMERICA', 'NATIONAL SECURITIES (US)', 'OLYMPIA CAPITAL MARKETS GROUP', 'THE FOOTPRINTS RESEARCH', 'GROOMECAPITAL.COM INC.', 'BX FINANCES', 'INFINITY.COM FIN SEC LTD.', 'JMP SECURITIES LLC - INDUSTRY REPORTS', 'SANDERS MORRIS HARRIS', 'ATLANTIS RESEARCH SERVICE', 'WRIGHT INVESTORS SERVICE', 'NATIONAL AUSTRALIA BANK LIMITED', 'CONCORDE SECURITIES LTD. - AUERBACH GRAYSON', 'K AND N KENANGA HOLDINGS BERHAD-AUERBACH GRAYSON', 'CIBC WORLD MARKETS INC. (CANADA)', 'VALUENGINE, INC.', 'KIRKPATRICK, PETTIS', 'THE WILLIAMS CAPITAL GROUP', 'BNP PARIBAS FORTIS(HISTORICAL)', 'THE OHIO COMPANY', 'ARGUS RESEARCH CORP.', 'EIU RESEARCH REPORTS', 'JS GLOBAL CAPITAL LIMITED', 'MACQUARIE RESEARCH', 'HOMANS, MCGRAW, TRULL, VALEO & CO.', 'UNION SECURITIES', 'INDEPENDENT EQUITY RESEARCH CORP.', 'SHINYOUNG SECURITIES', 'UOB KAY HIAN', 'REDBOOK RESEARCH INC', 'EDISON INVESTMENT RESEARCH', 'INTERACCIONES CASA DE BOLSA', 'COMMERZBANK AG', 'STOCKBROKERS MALAWI - AUERBACH GRAYSON', 'HOEFER & ARNETT', 'THOMSON REUTERS STREETEVENTS', 'EARLY BIRD CAPITAL', 'FAIRFAX', 'REDCHIP COMPANIES', 'DAFSA', 'HSBC KEY REPORTS (&gt;1 YEAR)', 'TRIPOINT GLOBAL EQUITIES LLC', 'ARGUS RESEARCH CORPORATION', 'BREWIN DOLPHIN SECURITIES', 'DATAMONITOR INDUSTRY PROFILES', 'DILLON, READ & CO.', 'BPI', 'EMERGING GROWTH EQUITIES LTD', 'PITTSBURG RESEARCH, INC.', 'DEUTSCHE BANK SECURITIES LTD.', 'RESEARCH 2.0', 'DELTA LLOYD BANK', 'ICICI DIRECT', 'PIVOTAL RESEARCH GROUP', 'ESPIRITO SANTO RESEARCH BRAZIL', 'NATIXIS SECURITIES', 'WJB CAPITAL GROUP, INC.', 'CORINTHIAN PARTNERS, L.L.C.', 'DEUTSCHE BANK SECURITIES INC.', 'ELIXIR SECURITIES PAKISTAN PVT LIMITED', 'ABN AMRO BANK N.V. U.S.A', 'CREDIT SUISSE FIRST BOSTON LTD.', 'DLOUHY MERCHANT INC.', 'VENTURE RESEARCH LLC', 'COLLINS STEWART LLC', 'NORTHLAND CAPITAL PARTNERS', 'HARTLEYS LIMITED', 'EARNINGS EXPERT, LLC', 'DAIWA INSTITUTE OF RESEARCH (H.K.) LTD.', 'PHOENIX PARTNERS GROUP', 'ARDEN PARTNERS', 'SUNTRUST ROBINSON HUMPHREY CAPITAL MARKETS', 'CREDIT SUISSE - EUROPE', 'KANKAKU RESEARCH INSTITUTE INC.', 'TOLHURST NOALL', 'DAVENPORT & COMPANY LLC', 'DATAMONITOR', 'FUNDAMENTAL RESEARCH CORP', 'NATIONAL SEC. (BRIGANTINE)', 'MOTILAL OSWAL SECURITIES, LTD', 'BREAN MURRAY, CARRET AND CO', 'COCHRAN, CARONIA SECURITIES, LLC', 'JOHNSTON, LEMON & CO., INC.', 'J.P. MORGAN', 'BBVA SECURITIES LTD.', 'SANTANDER', 'ARROWHEAD BID', 'MILLER JOHNSON STEICHEN KINNARD', 'CIBC WORLD MARKETS CORP.', 'NORTHERN SECURITIES', 'ATLANTIS INVESTMENT COMPANY', 'UOB KAY HIAN SEC THAI (RETAIL)', 'ADVANCED EQUITIES, INC.', 'THINKEQUITY LLC', 'EMKAY GLOBAL FINANCIAL SVCS', 'BATTLE ROAD RESEARCH', 'BLOOM BURTON & CO.', 'EBI SECURITIES CORPORATION', 'WOORI INVESTMENT AND SECURITIES CO LTD', 'CORPORATE TECHNOLOGY INFORMATION SERVICES, INC.', 'BRANCH, CABELL DIVISION, TUCKER ANTHONY, INC.', 'DATAMONITOR - COMPANY RESEARCH', 'HSBC GLOBAL RESEARCH', 'UBS (US)', 'FIRST HONOLULU SECURITIES, INC.', 'REDWOOD SECURITIES GROUP', 'GERARD KLAUER MATTISON & CO.', 'DAVY', 'BB&T CAPITAL MARKETS', 'FORTIS SECURITIES POLSKA - AUERBACH GRAYSON', 'RESEARCH CAPITAL CORPORATION', 'SAMSUNG SECURITIES CO., LTD.', 'EVEREN SECURITIES, INC. MUNICIPAL RESEARCH', 'JOSEPH GUNNAR & CO.', 'RS PLATOU MARKETS', 'CLOSE BROTHERS EQUITY MARKETS S.A.', 'GABELLI & COMPANY', 'VISOR CAPITAL - AUERBACH GRAYSON', 'ABN AMRO BANK', 'ROTH CAPITAL PARTNERS, LLC', 'KEYBANC CAPITAL MARKETS', 'D. CARNEGIE A.B.', 'BRE BANK', 'TUCKER ANTHONY & R.L. DAY', 'IPO MAVEN', 'THE VERTEX REPORT', 'I.B.I.', 'SCRIMGEOUR VICKERS', 'KOMERCNI BANKA - CZECH REPUBLIK', 'CREDIT AGRICOLE INDOSUEZ CHEUVREUX', 'LIFE SCIENCE ANALYTICS FINANCIAL COMPANY REPORT', 'MORGAN JOSEPH TRIARTISAN', 'FUBON SECURITIES INVESTMENT SERVICES CO. LTD.', 'RENAISSANCE CAPITAL', 'ALTMAN BRENNER & WASSERMAN INC.', 'JENNINGS CAPITAL INC', 'DEXIA SECURITIES', 'CROSS CURRENT RESEARCH, LLC', 'FITCH, IBCA', 'BWS FINANCIAL', 'BALIS & ZORN INC.', 'FOX PITT KELTON COCHRAN CARONIA WALLER', 'HAUCK & AUFHAEUSER RESEARCH', 'CJS SECURITIES', 'THEJUDAGROUP', 'MANDIRI SEKURITAS-AUERBACH GRAYSON', 'THE BENCHMARK COMPANY LLC', 'CROWELL, WEEDON & CO.', 'JYSKE BANK', 'KGI SECURITIES CO (THAILAND) LTD', 'KEPLER CAPITAL MARKETS', 'NATWEST SECURITIES CORPORATION', 'BANK OF MOSCOW', 'KGI ASIA CHINA - HISTORICAL', 'J. C. BRADFORD & CO.', 'MERRIMAN CAPITAL, INC.', 'BELL LAWRIE WHITE & CO., LTD.', 'JOHNSON RESEARCH & CAPITAL', 'GILBERT-AUERBACH GRAYSON', 'L.H. FRIEND, WEINRESS & FRANKSON, INC.', 'W.I. CARR', 'COHEN INDEPENDENT RESEARCH GROUP', 'SMITH BARNEY CITIGROUP (MORNING MEETING NOTES)', 'BIOLOGIC EQUITY RESEARCH', 'DONALDSON, LUFKIN & JENRETTE SECURITIES', 'NOMURA INTERNATIONAL (HONG KONG) LTD.', 'CAPITAL ONE EQUITIES LIMITED', 'HAYWOOD SECURITIES', 'SHIELDS & COMPANY', 'THE IPO REPORTER (SEC. DATA PUB.)', 'INDIVIDUAL INVESTOR GROUP', 'ANALISIS BANCO SABADELL', 'SANDS BROTHERS & CO., LTD.', 'HALPERN CAPITAL, INC.', 'RAIFFEISEN CENTRO BANK', 'LEVESQUE BEAUBIEN GEOFFRION INC.', 'AURIGA USA', 'FIDEURAM WARGNY SOCIETE DE BOURSE - AUERBACH GRAYSON', 'ADVEST, INC.', 'WILLIAMS DE BROE', 'MAXIM GROUP LLC', 'VECTOR CASA DE BOLSA', 'WILSON HTM INVESTMENT GROUP - AUERBACH GRAYSON', 'WELLINGTON WEST CAPITAL MARKETS INC', 'INSTITUTIONAL SHAREHOLDER SERVICES ISS', 'KINTISHEFF RESEARCH ET', 'K R CHOKSEY SHARES AND SECURITIES PVT LTD', 'AGILIS SECURITIES', 'CHURCHILL CAPITAL UK LIMITED &gt; 90 DAYS', 'NATCITY INVESTMENTS, INC.', 'CL KING AND ASSOCIATES', 'JOSEPHTHAL', 'TODAYIR.COM', 'GLOBAL SECURITIES CORPORATION', 'ALTACORP CAPITAL', 'ALTIUM SECURITIES', 'CAPITAL FORTRESS RATINGS', 'LIFETECH CAPITAL', 'EXCELLENCE NESSUAH SECURITIES', 'AVONDALE PARTNERS LLC', 'CONCENTRIC RESEARCH LLC', 'NOMURA SECURITIES', 'DEUTSCHE BANK RESEARCH', 'HARDMAN & COMPANY', 'RABO SECURITIES N.V.', 'DBS VICKERS', 'INTERACCIONES MERCADO DE CAPITALS S.A. - AUERBACH GRAYSON', 'PUNK, ZIEGEL & CO.', 'TREFIS', 'SANTANDER SECURITIES CORPORATION OF PUERTO RICO', 'HYPO VEREINSBANK', 'MERGENT, INC. - COMPANY REPORT', 'SALOMON BROTHERS INC.', 'WUNDERLICH SECURITIES', 'CCB INTERNATIONAL SECURITIES LIMITED', 'FIRST CAPITAL SECURITIES CO., LTD', 'CANACCORD GENUITY', 'SANDLER ONEILL & PARTNERS', 'WESTLB PANMURE', 'IXE CASA BOLSA', 'COMPASS POINT', 'MF GLOBAL', 'VERSANT PARTNERS', 'UBS (ASIA)', 'INVESTEC - ERNST & COMPANY', 'DR KALLIWODA RESEARCH', 'FRASER MACKENZIE', 'ERSTE BANK', 'GOODBODY STOCKBROKERS', 'MARKETLINE (A DATAMONITOR COMPANY) - COMPANY RESEARCH', 'STREETWISE REPORTS', 'FAIRVIEW CAPITAL PARTNERS', 'CRAIG HALLUM CAPITAL', 'R.L. RENCK & CO., INC', 'NEIDIGER, TUCKER, BRUNER, INC.', 'HSBC KEY REPORTS &gt; 1 YEAR', 'THESTREET.COM RATINGS', 'BTIG', 'COMMERZBANK SECURITIES', 'ACCIONES Y VALORES DE MEXICO', 'EPOCH SECURITIES, INC.', 'CREDIT SUISSE - NORTH AMERICA', 'PARIBAS ASIA EQUITY', 'PANMURE GORDON DIV OF LAZARD', 'PACIFIC GROWTH (PRE-MAR09)', 'OCBC INVESTMENT RESEARCH', 'JOSEPH CHARLES & ASSOCIATES, INC.', 'DICKSONS LIMITED', 'JOHN KEELLS STOCK BROKERS LIMITED', 'KDB DAEWOO SECURITIES', 'FINAMEX', 'MADISON WILLIAMS', 'PIPER JAFFRAY - COMPANY REPORT', 'ESN/BANKIA BOLSA', 'GILMORE & CO., INC.', 'JANCO PARTNERS INC.', 'IMPERIAL CAPITAL, LLC', 'SSIF TRADEVILLE', 'RISKMETRICS GROUP ISS GOVERNANCE SERVICES', 'GREAT LAKES/WELLINGTON SHIELDS', 'THE INDEPENDENT RESEARCH GROUP', 'CREDIT SUISSE FIRST BOSTON FIXED INCOME RESEARCH', 'ICD RESEARCH - COMPANY SWOT', 'Oppenheimer & Co', 'ALFA BANK', 'MAXCOR FINANCIAL', 'PETERBROECK, VAN CAMPENHOUT & CIE S.C.S.', 'UNION BANK OF SWITZERLAND', 'CITIGROUP', 'DOUGHERTY & CO., LLC', 'SOUTHRIDGE RESEARCH GROUP', 'MARBLE ARCH RESEARCH LTD', 'MOELIS AUSTRALIA SECURITIES', 'CRYSTAL RESEARCH ASSOCIATES', 'INSTITUTIONAL RESEARCH COS', 'WAB CAPITAL', 'BEAR STEARNS AND CO INC', 'PACIFIC GROWTH EQUITIES', 'STONEGATE SECURITIES', 'STIFEL NICOLAUS', 'SG SECURITIES (SINGAPORE) PTE. LTD.', 'MERIDIAN EQUITY PARTNERS', 'OCTAGON CAPITAL CORPORATION', 'M.M. WARBURG - AUERBACH GRAYSON', 'SPENCER CLARKE', 'BURKENROAD REPORTS', 'SOUTHWEST SECURITIES', 'FERRIS, BAKER WATTS, INC.', 'UBS (CANADA)'}\n"
     ]
    }
   ],
   "source": [
    "ThomsonContributors=set(dfThomson[\"contributor\"])\n",
    "print(ThomsonContributors)"
   ]
  },
  {
   "cell_type": "code",
   "execution_count": 4,
   "id": "5ca1c624",
   "metadata": {},
   "outputs": [
    {
     "name": "stdout",
     "output_type": "stream",
     "text": [
      "0               William Blair & Company\n",
      "1          KeyBanc Capital Markets Inc.\n",
      "2                                  BTIG\n",
      "3                        Morgan Stanley\n",
      "4                             Jefferies\n",
      "                       ...             \n",
      "1015842                        Barclays\n",
      "1015843                    UBS Equities\n",
      "1015844     Wells Fargo Securities, LLC\n",
      "1015845         Wedbush Securities Inc.\n",
      "1015846               Truist Securities\n",
      "Name: Contributor, Length: 1015847, dtype: object\n"
     ]
    }
   ],
   "source": [
    "print(dfEikon[\"Contributor\"])"
   ]
  },
  {
   "cell_type": "code",
   "execution_count": 5,
   "id": "96449f93",
   "metadata": {},
   "outputs": [
    {
     "name": "stdout",
     "output_type": "stream",
     "text": [
      "0                           PIPER JAFFRAY\n",
      "1                           PIPER JAFFRAY\n",
      "2                           PIPER JAFFRAY\n",
      "3                           PIPER JAFFRAY\n",
      "4                        PAINEWEBBER INC.\n",
      "                        ...              \n",
      "2473564    MERGENT, INC. - COMPANY REPORT\n",
      "2473565    MERGENT, INC. - COMPANY REPORT\n",
      "2473566      MERGENT FIS - HISTORY & DEBT\n",
      "2473567    MERGENT, INC. - COMPANY REPORT\n",
      "2473568    MERGENT, INC. - COMPANY REPORT\n",
      "Name: contributor, Length: 2473569, dtype: object\n"
     ]
    }
   ],
   "source": [
    "print(dfThomson[\"contributor\"])"
   ]
  },
  {
   "cell_type": "code",
   "execution_count": 4,
   "id": "ee4e4f0a",
   "metadata": {},
   "outputs": [
    {
     "data": {
      "text/plain": [
       "key            2473569\n",
       "reportid       2473569\n",
       "ticker         2473288\n",
       "cusip          2473569\n",
       "title          2473569\n",
       "ratings        2473569\n",
       "year           2473569\n",
       "month          2473569\n",
       "day            2473569\n",
       "contributor    2473569\n",
       "analyst        2473566\n",
       "investext      2473569\n",
       "collection     2473569\n",
       "dtype: int64"
      ]
     },
     "execution_count": 4,
     "metadata": {},
     "output_type": "execute_result"
    }
   ],
   "source": [
    "dfThomson.count()"
   ]
  },
  {
   "cell_type": "code",
   "execution_count": 5,
   "id": "c593d029",
   "metadata": {},
   "outputs": [
    {
     "name": "stdout",
     "output_type": "stream",
     "text": [
      "1982\n",
      "1983\n",
      "1984\n",
      "1985\n",
      "1986\n",
      "1987\n",
      "1988\n",
      "1989\n",
      "1990\n",
      "1991\n",
      "1992\n",
      "1993\n",
      "1994\n",
      "1995\n",
      "1996\n",
      "1997\n",
      "1998\n",
      "1999\n",
      "2000\n",
      "2001\n",
      "2002\n",
      "2003\n",
      "2004\n",
      "2005\n",
      "2006\n",
      "2007\n",
      "2008\n",
      "2009\n",
      "2010\n",
      "2011\n",
      "[36, 1185, 2984, 2763, 4178, 5141, 6691, 8952, 7654, 8655, 10226, 10300, 15287, 18195, 19399, 54829, 74811, 103208, 115895, 118416, 125165, 136361, 164389, 200284, 203540, 212466, 210778, 233112, 203594, 195075]\n"
     ]
    }
   ],
   "source": [
    "#creating number of downloaded reports per year\n",
    "yearList=dfThomson[\"year\"].unique()\n",
    "yearList=sorted(yearList)\n",
    "totalReports=[]\n",
    "\n",
    "for year in yearList:\n",
    "    print(year)\n",
    "    counter=0\n",
    "    for ind in dfThomson.index:\n",
    "        if dfThomson[\"year\"][ind]==year:\n",
    "            counter+=1\n",
    "    totalReports.append(counter)\n",
    "\n",
    "print(totalReports)"
   ]
  },
  {
   "cell_type": "code",
   "execution_count": 10,
   "id": "ad2fee58",
   "metadata": {},
   "outputs": [
    {
     "data": {
      "image/png": "[encoded data removed]",
      "text/plain": [
       "<Figure size 432x288 with 1 Axes>"
      ]
     },
     "metadata": {
      "needs_background": "light"
     },
     "output_type": "display_data"
    }
   ],
   "source": [
    "def add_value_label(x_list,y_list):\n",
    "    for i in range(1, len(x_list)+1):\n",
    "        plt.text(i,y_list[i-1],y_list[i-1])\n",
    "\n",
    "plt.bar(yearList,totalReports)\n",
    "plt.title('Number of Total Downloaded Reports per Year')\n",
    "plt.xlabel('Year')\n",
    "plt.ylabel('Number of Total Downloaded Reports')\n",
    "#add_value_label(yearList,totalReports)\n",
    "plt.show()"
   ]
  },
  {
   "cell_type": "code",
   "execution_count": 11,
   "id": "eda7b134",
   "metadata": {},
   "outputs": [
    {
     "name": "stdout",
     "output_type": "stream",
     "text": [
      "[1982, 1983, 1984, 1985, 1986, 1987, 1988, 1989, 1990, 1991, 1992, 1993, 1994, 1995, 1996, 1997, 1998, 1999, 2000, 2001, 2002, 2003, 2004, 2005, 2006, 2007, 2008, 2009, 2010, 2011]\n"
     ]
    }
   ],
   "source": [
    "print(yearList)"
   ]
  },
  {
   "cell_type": "code",
   "execution_count": 76,
   "id": "2e66f818",
   "metadata": {},
   "outputs": [
    {
     "name": "stdout",
     "output_type": "stream",
     "text": [
      "1982 : 0\n",
      "1983 : 13\n",
      "1984 : 12\n",
      "1985 : 19\n",
      "1986 : 68\n",
      "1987 : 143\n",
      "1988 : 579\n",
      "1989 : 867\n",
      "1990 : 803\n",
      "1991 : 852\n",
      "1992 : 1354\n",
      "1993 : 1445\n",
      "1994 : 2445\n",
      "1995 : 2848\n",
      "1996 : 2454\n",
      "1997 : 3430\n",
      "1998 : 5264\n",
      "1999 : 8855\n",
      "2000 : 9499\n",
      "2001 : 8225\n",
      "2002 : 8168\n",
      "2003 : 11826\n",
      "2004 : 18832\n",
      "2005 : 21048\n",
      "2006 : 23597\n",
      "2007 : 30558\n",
      "2008 : 34031\n",
      "2009 : 29717\n",
      "2010 : 40316\n",
      "2011 : 51532\n"
     ]
    }
   ],
   "source": [
    "i=0\n",
    "while i<len(yearList):\n",
    "    print(str(yearList[i])+\" : \" +str(totalReports[i]))\n",
    "    i+=1"
   ]
  },
  {
   "cell_type": "code",
   "execution_count": null,
   "id": "0d298408",
   "metadata": {},
   "outputs": [],
   "source": []
  },
  {
   "cell_type": "code",
   "execution_count": null,
   "id": "ef8d99b9",
   "metadata": {},
   "outputs": [],
   "source": []
  }
 ],
 "metadata": {
  "kernelspec": {
   "display_name": "Python 3",
   "language": "python",
   "name": "python3"
  },
  "language_info": {
   "codemirror_mode": {
    "name": "ipython",
    "version": 3
   },
   "file_extension": ".py",
   "mimetype": "text/x-python",
   "name": "python",
   "nbconvert_exporter": "python",
   "pygments_lexer": "ipython3",
   "version": "3.8.8"
  }
 },
 "nbformat": 4,
 "nbformat_minor": 5
}
