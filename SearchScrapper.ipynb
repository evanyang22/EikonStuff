{
 "cells": [
  {
   "cell_type": "code",
   "execution_count": 1,
   "id": "b3477252",
   "metadata": {},
   "outputs": [
    {
     "name": "stdout",
     "output_type": "stream",
     "text": [
      "<DirEntry '.ipynb_checkpoints'>\n",
      "<DirEntry '00206R_T'>\n",
      "<DirEntry '12'>\n",
      "<DirEntry '13'>\n",
      "<DirEntry '14'>\n",
      "<DirEntry '15'>\n",
      "<DirEntry '16'>\n"
     ]
    }
   ],
   "source": [
    "import os\n",
    "import pandas as pd\n",
    "from re import search\n",
    "\n",
    "def find_nth(haystack, needle, n):\n",
    "    start = haystack.find(needle)\n",
    "    while start >= 0 and n > 1:\n",
    "        start = haystack.find(needle, start+len(needle))\n",
    "        n -= 1\n",
    "    return start\n",
    "\n",
    "yearPDFList=[]\n",
    "\n",
    "masterDF=pd.DataFrame()\n",
    "for companyFolder in os.scandir(): #goes into every company\n",
    "    if companyFolder.is_dir():\n",
    "        print(companyFolder)\n",
    "        for yearFolder in os.scandir(companyFolder):#goes into every year\n",
    "            #yearPDFList=[]\n",
    "            if yearFolder.is_dir():\n",
    "                print(yearFolder)\n",
    "                yearPath=yearFolder.path\n",
    "                yearPDFList=[]\n",
    "                for fileName in os.scandir(yearFolder):\n",
    "                    if fileName.is_dir():#creating a list of all PDFNames\n",
    "                        for monthFolder in os.scandir(fileName):\n",
    "                            if monthFolder.path.endswith(\".pdf\"):\n",
    "                                yearPDFList.append(monthFolder)\n",
    "                    #print(yearPDFList)\n",
    "                for fileName in os.scandir(yearFolder):\n",
    "                    if fileName.path.endswith(\".xlsx\"): #scans every excel file in every year\n",
    "                        filePath=os.path.abspath(fileName)\n",
    "                        df = pd.read_excel (fileName)\n",
    "                        cusip6=fileName.name[:find_nth(fileName.name,\"_\",1)] #extracts cusip6\n",
    "                        ticker=fileName.name[find_nth(fileName.name,\"_\",1)+1:find_nth(fileName.name,\"_\",2)]\n",
    "                        df.columns = df.iloc[11] #sets column headings (top row) as line 11\n",
    "                        df[\"ExcelPath\"]=filePath #adding ExcelPath\n",
    "                        df[\"cusip6\"]=cusip6\n",
    "                        df[\"Ticker\"]=ticker\n",
    "                        df_subset=df.loc[12:].copy()\n",
    "                        #print(yearPDFList)\n",
    "                        containsPDFList=[]\n",
    "                        PDFPathList=[]\n",
    "                        for DCN in df_subset[\"DCN\"]:\n",
    "                            containsIt=False\n",
    "                            for PDFName in yearPDFList:\n",
    "                                if str(DCN) in PDFName.name:\n",
    "                                    containsPDFList.append(PDFName.name)\n",
    "                                    PDFPathList.append(PDFName.path)\n",
    "                                    containsIt= True\n",
    "                            if containsIt== False:\n",
    "                                containsPDFList.append(\"\")\n",
    "                                PDFPathList.append(\"\")\n",
    "                        #df_subset[\"PDFName\"]=containsPDFList    \n",
    "                        #df_subset[\"PDFPath\"]=PDFPathList\n",
    "                        df_subset[\"PDFName\"]=pd.Series(containsPDFList)\n",
    "                        df_subset[\"PDFPath\"]=pd.Series(PDFPathList)\n",
    "                        masterDF=masterDF.append(df_subset,ignore_index = True)"
   ]
  },
  {
   "cell_type": "code",
   "execution_count": 2,
   "id": "eec5ce5a",
   "metadata": {},
   "outputs": [],
   "source": [
    "masterDF.to_csv('SeriesTest.csv', index=False)"
   ]
  },
  {
   "cell_type": "code",
   "execution_count": null,
   "id": "3c9cc5d8",
   "metadata": {},
   "outputs": [],
   "source": []
  },
  {
   "cell_type": "code",
   "execution_count": null,
   "id": "3552e973",
   "metadata": {},
   "outputs": [],
   "source": []
  }
 ],
 "metadata": {
  "kernelspec": {
   "display_name": "Python 3",
   "language": "python",
   "name": "python3"
  },
  "language_info": {
   "codemirror_mode": {
    "name": "ipython",
    "version": 3
   },
   "file_extension": ".py",
   "mimetype": "text/x-python",
   "name": "python",
   "nbconvert_exporter": "python",
   "pygments_lexer": "ipython3",
   "version": "3.8.8"
  }
 },
 "nbformat": 4,
 "nbformat_minor": 5
}
