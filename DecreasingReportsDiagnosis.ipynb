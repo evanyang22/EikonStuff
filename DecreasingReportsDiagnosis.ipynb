{
 "cells": [
  {
   "cell_type": "code",
   "execution_count": 1,
   "id": "f6b96824",
   "metadata": {},
   "outputs": [],
   "source": [
    "import os\n",
    "import glob\n",
    "import pandas as pd\n",
    "\n",
    "\n",
    "df = pd.read_csv(\"C:\\\\Users\\\\evany_cdhq038\\\\OneDrive\\\\Desktop\\\\FinishedExcelEikon\\\\allEikonExcelAggregated.csv\")\n",
    "yearlist = [str(date)[:4] for date in df[\"PDFName\"]]\n",
    "#print(yearlist)\n",
    "df[\"Year\"]=yearlist"
   ]
  },
  {
   "cell_type": "code",
   "execution_count": 5,
   "id": "af1bb0a3",
   "metadata": {},
   "outputs": [
    {
     "name": "stdout",
     "output_type": "stream",
     "text": [
      "['2012', '2013', '2014', '2015', '2016', '2017', '2018', '2019', '2020', '2021', '2022']\n"
     ]
    }
   ],
   "source": [
    "years=list(set(df[\"Year\"]))\n",
    "\n",
    "years.sort()\n",
    "years=years[:-1] #removes \"na\"\n",
    "print(years)"
   ]
  },
  {
   "cell_type": "code",
   "execution_count": 6,
   "id": "6b7e5da4",
   "metadata": {},
   "outputs": [],
   "source": [
    "contributorList=[]\n",
    "\n",
    "\n",
    "for year in years:\n",
    "    yearDF=df[df[\"Year\"]== year]\n",
    "    storage=yearDF[\"Contributor\"].value_counts()\n",
    "    contributorList.append(storage)\n",
    "    "
   ]
  },
  {
   "cell_type": "code",
   "execution_count": 7,
   "id": "eb2369d6",
   "metadata": {},
   "outputs": [
    {
     "name": "stdout",
     "output_type": "stream",
     "text": [
      "76\n"
     ]
    }
   ],
   "source": [
    "#testing intersection\n",
    "consistentContributors= set.intersection(*[set(list.index) for list in contributorList])\n",
    "print(len(consistentContributors))"
   ]
  },
  {
   "cell_type": "code",
   "execution_count": 8,
   "id": "79a1545a",
   "metadata": {},
   "outputs": [
    {
     "name": "stdout",
     "output_type": "stream",
     "text": [
      "JPMorgan                       100194\n",
      "RBC Capital Markets             89311\n",
      "Wells Fargo Securities, LLC     82186\n",
      "Credit Suisse                   77303\n",
      "UBS Equities                    64909\n",
      "Jefferies                       64370\n",
      "Deutsche Bank                   57182\n",
      "Cowen and Company               56302\n",
      "EVERCORE ISI                    47741\n",
      "Piper Sandler Companies         45517\n",
      "Name: Contributor, dtype: int64\n"
     ]
    }
   ],
   "source": [
    "allCounts=df[\"Contributor\"].value_counts()\n",
    "\n",
    "df2 = allCounts[allCounts.index.isin(consistentContributors)]\n",
    "topTen=df2.head(10)\n",
    "\n",
    "print(topTen)"
   ]
  },
  {
   "cell_type": "code",
   "execution_count": 10,
   "id": "ed4a86dc",
   "metadata": {},
   "outputs": [
    {
     "data": {
      "text/html": [
       "<div>\n",
       "<style scoped>\n",
       "    .dataframe tbody tr th:only-of-type {\n",
       "        vertical-align: middle;\n",
       "    }\n",
       "\n",
       "    .dataframe tbody tr th {\n",
       "        vertical-align: top;\n",
       "    }\n",
       "\n",
       "    .dataframe thead th {\n",
       "        text-align: right;\n",
       "    }\n",
       "</style>\n",
       "<table border=\"1\" class=\"dataframe\">\n",
       "  <thead>\n",
       "    <tr style=\"text-align: right;\">\n",
       "      <th></th>\n",
       "      <th>Available</th>\n",
       "      <th>Date</th>\n",
       "      <th>Prim. Ticker</th>\n",
       "      <th>Second. Ticker</th>\n",
       "      <th>Title</th>\n",
       "      <th>Pages</th>\n",
       "      <th>Contributor</th>\n",
       "      <th>RI</th>\n",
       "      <th>Price</th>\n",
       "      <th>Doc Grp</th>\n",
       "      <th>...</th>\n",
       "      <th>Relevance</th>\n",
       "      <th>DCN</th>\n",
       "      <th>ExcelPath</th>\n",
       "      <th>cusip6</th>\n",
       "      <th>Ticker</th>\n",
       "      <th>PDFName</th>\n",
       "      <th>PDFPath</th>\n",
       "      <th>isDownloaded</th>\n",
       "      <th>DatePDFName</th>\n",
       "      <th>Year</th>\n",
       "    </tr>\n",
       "  </thead>\n",
       "  <tbody>\n",
       "    <tr>\n",
       "      <th>0</th>\n",
       "      <td>2016-11-24 00:00:00</td>\n",
       "      <td>2016-11-17 00:00:00</td>\n",
       "      <td>TEAM.OQ</td>\n",
       "      <td>NaN</td>\n",
       "      <td>Atlassian Corporation Plc:Positive Takeaways F...</td>\n",
       "      <td>5</td>\n",
       "      <td>William Blair &amp; Company</td>\n",
       "      <td>NaN</td>\n",
       "      <td>34.5</td>\n",
       "      <td>Inv.</td>\n",
       "      <td>...</td>\n",
       "      <td>NaN</td>\n",
       "      <td>76463545</td>\n",
       "      <td>C:\\Users\\WillKnight\\Desktop\\BetaTest\\000165_AM...</td>\n",
       "      <td>000165</td>\n",
       "      <td>AMFD</td>\n",
       "      <td>2016-11-17-TEAM.OQ-William Blair  Comp-Atlassi...</td>\n",
       "      <td>.\\000165_AMFD\\16\\11\\2016-11-17-TEAM.OQ-William...</td>\n",
       "      <td>1</td>\n",
       "      <td>2016-11-17</td>\n",
       "      <td>2016</td>\n",
       "    </tr>\n",
       "    <tr>\n",
       "      <th>1</th>\n",
       "      <td>2016-11-22 00:00:00</td>\n",
       "      <td>2016-11-15 00:00:00</td>\n",
       "      <td>TEAM.OQ, ASH.N, CHS.N, NTNX.OQ, THS.N</td>\n",
       "      <td>ASH.N, CHS.N, NTNX.OQ, THS.N</td>\n",
       "      <td>KBCM: CHS (-Downgrade), JWN/GPS/QVCA (+), THS ...</td>\n",
       "      <td>10</td>\n",
       "      <td>KeyBanc Capital Markets Inc.</td>\n",
       "      <td>Ini</td>\n",
       "      <td>103.5</td>\n",
       "      <td>Inv.</td>\n",
       "      <td>...</td>\n",
       "      <td>NaN</td>\n",
       "      <td>76439187</td>\n",
       "      <td>C:\\Users\\WillKnight\\Desktop\\BetaTest\\000165_AM...</td>\n",
       "      <td>000165</td>\n",
       "      <td>AMFD</td>\n",
       "      <td>2016-11-15-TEAM.OQ-KeyBanc Capital Mark-KBCM C...</td>\n",
       "      <td>.\\000165_AMFD\\16\\11\\2016-11-15-TEAM.OQ-KeyBanc...</td>\n",
       "      <td>1</td>\n",
       "      <td>2016-11-15</td>\n",
       "      <td>2016</td>\n",
       "    </tr>\n",
       "    <tr>\n",
       "      <th>2</th>\n",
       "      <td>2016-11-11 00:00:00</td>\n",
       "      <td>2016-10-28 00:00:00</td>\n",
       "      <td>TEAM.OQ</td>\n",
       "      <td>NaN</td>\n",
       "      <td>Atlassian Corporation PLC - Some Moving Parts ...</td>\n",
       "      <td>7</td>\n",
       "      <td>BTIG</td>\n",
       "      <td>Estimate Increase</td>\n",
       "      <td>34.5</td>\n",
       "      <td>Inv.</td>\n",
       "      <td>...</td>\n",
       "      <td>NaN</td>\n",
       "      <td>76200137</td>\n",
       "      <td>C:\\Users\\WillKnight\\Desktop\\BetaTest\\000165_AM...</td>\n",
       "      <td>000165</td>\n",
       "      <td>AMFD</td>\n",
       "      <td>2016-10-28-TEAM.OQ-BTIG-Atlassian Corporation ...</td>\n",
       "      <td>.\\000165_AMFD\\16\\10\\2016-10-28-TEAM.OQ-BTIG-At...</td>\n",
       "      <td>1</td>\n",
       "      <td>2016-10-28</td>\n",
       "      <td>2016</td>\n",
       "    </tr>\n",
       "    <tr>\n",
       "      <th>3</th>\n",
       "      <td>2016-11-04 00:00:00</td>\n",
       "      <td>2016-10-28 00:00:00</td>\n",
       "      <td>TEAM.OQ</td>\n",
       "      <td>NaN</td>\n",
       "      <td>Atlassian Corporation PLC: 1Q17 Results: Is Gu...</td>\n",
       "      <td>15</td>\n",
       "      <td>Morgan Stanley</td>\n",
       "      <td>NaN</td>\n",
       "      <td>220.0</td>\n",
       "      <td>Inv.</td>\n",
       "      <td>...</td>\n",
       "      <td>NaN</td>\n",
       "      <td>76193440</td>\n",
       "      <td>C:\\Users\\WillKnight\\Desktop\\BetaTest\\000165_AM...</td>\n",
       "      <td>000165</td>\n",
       "      <td>AMFD</td>\n",
       "      <td>2016-10-28-TEAM.OQ-Morgan Stanley-Atlassian Co...</td>\n",
       "      <td>.\\000165_AMFD\\16\\10\\2016-10-28-TEAM.OQ-Morgan ...</td>\n",
       "      <td>1</td>\n",
       "      <td>2016-10-28</td>\n",
       "      <td>2016</td>\n",
       "    </tr>\n",
       "    <tr>\n",
       "      <th>4</th>\n",
       "      <td>2016-11-03 00:00:00</td>\n",
       "      <td>2016-10-27 00:00:00</td>\n",
       "      <td>TEAM.OQ</td>\n",
       "      <td>AMZN.OQ</td>\n",
       "      <td>Atlassian: TEAM: BUY: Beautiful Norm</td>\n",
       "      <td>15</td>\n",
       "      <td>Jefferies</td>\n",
       "      <td>Ini</td>\n",
       "      <td>115.0</td>\n",
       "      <td>Inv.</td>\n",
       "      <td>...</td>\n",
       "      <td>NaN</td>\n",
       "      <td>76191978</td>\n",
       "      <td>C:\\Users\\WillKnight\\Desktop\\BetaTest\\000165_AM...</td>\n",
       "      <td>000165</td>\n",
       "      <td>AMFD</td>\n",
       "      <td>2016-10-27-TEAM.OQ-Jefferies-Atlassian TEAM BU...</td>\n",
       "      <td>.\\000165_AMFD\\16\\10\\2016-10-27-TEAM.OQ-Jefferi...</td>\n",
       "      <td>1</td>\n",
       "      <td>2016-10-27</td>\n",
       "      <td>2016</td>\n",
       "    </tr>\n",
       "  </tbody>\n",
       "</table>\n",
       "<p>5 rows × 27 columns</p>\n",
       "</div>"
      ],
      "text/plain": [
       "             Available                 Date  \\\n",
       "0  2016-11-24 00:00:00  2016-11-17 00:00:00   \n",
       "1  2016-11-22 00:00:00  2016-11-15 00:00:00   \n",
       "2  2016-11-11 00:00:00  2016-10-28 00:00:00   \n",
       "3  2016-11-04 00:00:00  2016-10-28 00:00:00   \n",
       "4  2016-11-03 00:00:00  2016-10-27 00:00:00   \n",
       "\n",
       "                            Prim. Ticker                Second. Ticker  \\\n",
       "0                                TEAM.OQ                           NaN   \n",
       "1  TEAM.OQ, ASH.N, CHS.N, NTNX.OQ, THS.N  ASH.N, CHS.N, NTNX.OQ, THS.N   \n",
       "2                                TEAM.OQ                           NaN   \n",
       "3                                TEAM.OQ                           NaN   \n",
       "4                                TEAM.OQ                       AMZN.OQ   \n",
       "\n",
       "                                               Title  Pages  \\\n",
       "0  Atlassian Corporation Plc:Positive Takeaways F...      5   \n",
       "1  KBCM: CHS (-Downgrade), JWN/GPS/QVCA (+), THS ...     10   \n",
       "2  Atlassian Corporation PLC - Some Moving Parts ...      7   \n",
       "3  Atlassian Corporation PLC: 1Q17 Results: Is Gu...     15   \n",
       "4               Atlassian: TEAM: BUY: Beautiful Norm     15   \n",
       "\n",
       "                    Contributor                 RI  Price Doc Grp  ...  \\\n",
       "0       William Blair & Company                NaN   34.5    Inv.  ...   \n",
       "1  KeyBanc Capital Markets Inc.                Ini  103.5    Inv.  ...   \n",
       "2                          BTIG  Estimate Increase   34.5    Inv.  ...   \n",
       "3                Morgan Stanley                NaN  220.0    Inv.  ...   \n",
       "4                     Jefferies                Ini  115.0    Inv.  ...   \n",
       "\n",
       "  Relevance       DCN                                          ExcelPath  \\\n",
       "0       NaN  76463545  C:\\Users\\WillKnight\\Desktop\\BetaTest\\000165_AM...   \n",
       "1       NaN  76439187  C:\\Users\\WillKnight\\Desktop\\BetaTest\\000165_AM...   \n",
       "2       NaN  76200137  C:\\Users\\WillKnight\\Desktop\\BetaTest\\000165_AM...   \n",
       "3       NaN  76193440  C:\\Users\\WillKnight\\Desktop\\BetaTest\\000165_AM...   \n",
       "4       NaN  76191978  C:\\Users\\WillKnight\\Desktop\\BetaTest\\000165_AM...   \n",
       "\n",
       "   cusip6 Ticker                                            PDFName  \\\n",
       "0  000165   AMFD  2016-11-17-TEAM.OQ-William Blair  Comp-Atlassi...   \n",
       "1  000165   AMFD  2016-11-15-TEAM.OQ-KeyBanc Capital Mark-KBCM C...   \n",
       "2  000165   AMFD  2016-10-28-TEAM.OQ-BTIG-Atlassian Corporation ...   \n",
       "3  000165   AMFD  2016-10-28-TEAM.OQ-Morgan Stanley-Atlassian Co...   \n",
       "4  000165   AMFD  2016-10-27-TEAM.OQ-Jefferies-Atlassian TEAM BU...   \n",
       "\n",
       "                                             PDFPath  isDownloaded  \\\n",
       "0  .\\000165_AMFD\\16\\11\\2016-11-17-TEAM.OQ-William...             1   \n",
       "1  .\\000165_AMFD\\16\\11\\2016-11-15-TEAM.OQ-KeyBanc...             1   \n",
       "2  .\\000165_AMFD\\16\\10\\2016-10-28-TEAM.OQ-BTIG-At...             1   \n",
       "3  .\\000165_AMFD\\16\\10\\2016-10-28-TEAM.OQ-Morgan ...             1   \n",
       "4  .\\000165_AMFD\\16\\10\\2016-10-27-TEAM.OQ-Jefferi...             1   \n",
       "\n",
       "   DatePDFName  Year  \n",
       "0   2016-11-17  2016  \n",
       "1   2016-11-15  2016  \n",
       "2   2016-10-28  2016  \n",
       "3   2016-10-28  2016  \n",
       "4   2016-10-27  2016  \n",
       "\n",
       "[5 rows x 27 columns]"
      ]
     },
     "execution_count": 10,
     "metadata": {},
     "output_type": "execute_result"
    }
   ],
   "source": [
    "df.head()"
   ]
  },
  {
   "cell_type": "code",
   "execution_count": 18,
   "id": "c56f2aae",
   "metadata": {},
   "outputs": [
    {
     "name": "stdout",
     "output_type": "stream",
     "text": [
      "2012\n",
      "JPMorgan                       8025\n",
      "BofA Global Research           7533\n",
      "Barclays                       7363\n",
      "Wells Fargo Securities, LLC    6941\n",
      "Credit Suisse                  6822\n",
      "                               ... \n",
      "Maison Placements Canada          1\n",
      "EL&C Baillieu                     1\n",
      "CSC Securities                    1\n",
      "Collins Stewart Europe            1\n",
      "ESN                               1\n",
      "Name: Contributor, Length: 240, dtype: int64\n",
      "2013\n",
      "Wells Fargo Securities, LLC           8123\n",
      "RBC Capital Markets                   8076\n",
      "JPMorgan                              7806\n",
      "Barclays                              7705\n",
      "BofA Global Research                  7423\n",
      "                                      ... \n",
      "Nirmal Bang Institutional Equities       1\n",
      "Planner Corretora de Valores S/A         1\n",
      "NBK Capital                              1\n",
      "Phoenix Partners Group                   1\n",
      "MDB Capital Group                        1\n",
      "Name: Contributor, Length: 226, dtype: int64\n",
      "2014\n",
      "RBC Capital Markets              9379\n",
      "Barclays                         9237\n",
      "Wells Fargo Securities, LLC      8681\n",
      "JPMorgan                         8623\n",
      "BofA Global Research             8327\n",
      "                                 ... \n",
      "Motilal Oswal Securities Ltd.       1\n",
      "Changjiang Securities Co.,LTD       1\n",
      "IH Securities                       1\n",
      "Burgan Securities                   1\n",
      "Investec Bank (UK) Plc              1\n",
      "Name: Contributor, Length: 220, dtype: int64\n",
      "2015\n",
      "RBC Capital Markets            9798\n",
      "Barclays                       9611\n",
      "JPMorgan                       8818\n",
      "Wells Fargo Securities, LLC    8421\n",
      "BofA Global Research           7855\n",
      "                               ... \n",
      "Sterling Capital Limited          1\n",
      "Upline Securities                 1\n",
      "Banorte                           1\n",
      "Daniel Stewart                    1\n",
      "Cenkos Securities                 1\n",
      "Name: Contributor, Length: 247, dtype: int64\n",
      "2016\n",
      "RBC Capital Markets                     10291\n",
      "Barclays                                10008\n",
      "JPMorgan                                 9937\n",
      "BofA Global Research                     7655\n",
      "Credit Suisse                            7317\n",
      "                                        ...  \n",
      "Eugene Investment & Securities              1\n",
      "VTB Capital                                 1\n",
      "IH Securities                               1\n",
      "Cinda International Research Limited        1\n",
      "Concorde Securities                         1\n",
      "Name: Contributor, Length: 221, dtype: int64\n",
      "2017\n",
      "JPMorgan                                    9575\n",
      "RBC Capital Markets                         8761\n",
      "Wells Fargo Securities, LLC                 8098\n",
      "Barclays                                    7686\n",
      "Jefferies                                   6657\n",
      "                                            ... \n",
      "BT Capital Partners                            1\n",
      "FFBH                                           1\n",
      "Bell Potter Securities(Institutional)          1\n",
      "CMB International Global Markets Limited       1\n",
      "Portzamparc BNP Paribas                        1\n",
      "Name: Contributor, Length: 194, dtype: int64\n",
      "2018\n",
      "JPMorgan                              9992\n",
      "RBC Capital Markets                   9435\n",
      "Wells Fargo Securities, LLC           7866\n",
      "Credit Suisse                         7326\n",
      "Jefferies                             6781\n",
      "                                      ... \n",
      "Liberum                                  1\n",
      "BIG - Banco de Investimento Global       1\n",
      "Peel Hunt                                1\n",
      "JPMorgan Econ & FI                       1\n",
      "KBC Securities                           1\n",
      "Name: Contributor, Length: 195, dtype: int64\n",
      "2019\n",
      "JPMorgan                                         9692\n",
      "Credit Suisse                                    7933\n",
      "RBC Capital Markets                              7443\n",
      "Wells Fargo Securities, LLC                      6788\n",
      "Jefferies                                        6510\n",
      "                                                 ... \n",
      "Gilbert Dupont                                      1\n",
      "Wood & Company                                      1\n",
      "SinoPac Sec Inv Service                             1\n",
      "Industrial Securities                               1\n",
      "Spark Capital Advisors(India) Private Limited       1\n",
      "Name: Contributor, Length: 178, dtype: int64\n",
      "2020\n",
      "JPMorgan                       9359\n",
      "Credit Suisse                  8365\n",
      "RBC Capital Markets            7307\n",
      "Jefferies                      6710\n",
      "Wells Fargo Securities, LLC    6479\n",
      "                               ... \n",
      "Samsung Securities                1\n",
      "Unlu & Co                         1\n",
      "Shinyoung Securities Co Ltd       1\n",
      "Eurobank Equities SA              1\n",
      "GUOSEN SECURITIES                 1\n",
      "Name: Contributor, Length: 200, dtype: int64\n",
      "2021\n",
      "JPMorgan                                  8589\n",
      "Jefferies                                 6744\n",
      "Credit Suisse                             6476\n",
      "Wells Fargo Securities, LLC               5888\n",
      "RBC Capital Markets                       5727\n",
      "                                          ... \n",
      "Founder Securities (Hong Kong) Limited       1\n",
      "Emkay Global Financial Services Ltd          1\n",
      "Lodge Partners                               1\n",
      "Unlu & Co                                    1\n",
      "GUOSEN SECURITIES                            1\n",
      "Name: Contributor, Length: 177, dtype: int64\n",
      "2022\n",
      "JPMorgan                                  5968\n",
      "Jefferies                                 4896\n",
      "Wells Fargo Securities, LLC               4760\n",
      "RBC Capital Markets                       4188\n",
      "UBS Equities                              4159\n",
      "                                          ... \n",
      "Lodge Partners                               1\n",
      "Ubhar Capital SAOC (U Capital)               1\n",
      "ABCI Securities Co. Ltd                      1\n",
      "Cenkos Securities                            1\n",
      "Founder Securities (Hong Kong) Limited       1\n",
      "Name: Contributor, Length: 165, dtype: int64\n",
      "2023\n",
      "JPMorgan                          3810\n",
      "RBC Capital Markets               3585\n",
      "Wells Fargo Securities, LLC       3020\n",
      "Credit Suisse                     2782\n",
      "UBS Equities                      2775\n",
      "                                  ... \n",
      "URALSIB                              1\n",
      "Eugene Investment & Securities       1\n",
      "SP Angel                             1\n",
      "Paradigm Capital                     1\n",
      "Soochow Securities                   1\n",
      "Name: Contributor, Length: 199, dtype: int64\n"
     ]
    }
   ],
   "source": [
    "\n",
    "with pd.ExcelWriter(\"contributorList.xlsx\") as writer:\n",
    "    startYear=2012\n",
    "    for item in contributorList:\n",
    "        print(startYear)\n",
    "        print(item)\n",
    "        item.to_excel(writer,sheet_name=str(startYear))\n",
    "        startYear+=1"
   ]
  },
  {
   "cell_type": "code",
   "execution_count": 20,
   "id": "986b87b4",
   "metadata": {},
   "outputs": [
    {
     "name": "stdout",
     "output_type": "stream",
     "text": [
      "240\n",
      "226\n",
      "220\n",
      "247\n",
      "221\n",
      "194\n",
      "195\n",
      "178\n",
      "200\n",
      "177\n",
      "165\n",
      "199\n"
     ]
    }
   ],
   "source": [
    "for item in contributorList:\n",
    "    print(len(item))"
   ]
  },
  {
   "cell_type": "code",
   "execution_count": null,
   "id": "b4dbd6dd",
   "metadata": {},
   "outputs": [],
   "source": []
  },
  {
   "cell_type": "code",
   "execution_count": 57,
   "id": "efe3ec50",
   "metadata": {},
   "outputs": [
    {
     "name": "stdout",
     "output_type": "stream",
     "text": [
      "2012\n",
      "{nan, 'RSIS', 'WCFB', 'SYB', 'VRTS', 'OLN', 'IO', 'JNS', 'INLD', 'ICFI', 'CRS', 'WHIT', 'VC', 'HTZ', 'RDTA', 'EFCW', 'TACO', 'GTST', 'ETV', 'CATZ', 'TLIO', 'MSG', 'GADZ', 'SCBI', 'TLIC', 'ATH', 'SEQU', 'Z', 'CSTR', 'USMO', 'ANTC', 'IEX', 'JPM', 'ICGE', 'EOG', 'AH', 'TNS', 'META', 'GET', 'GLW', 'IMGK', 'WPIC', 'TMAX', 'WCIC', 'PATR', 'SSSW', 'PRFT', 'PABN', 'HRG', 'AFFX', 'JKHY', 'METG', 'EXBD', 'CRDC', 'PPHM', 'SPN', 'USBE', 'RMDY', 'CDC', 'TSII', 'MIKN', 'RXTC', 'PDII', 'SAG', 'SPNW', 'CIEN', 'SBAC', 'SPDY', 'SOTA', 'TCHC', 'SMCI', 'WTLC', 'CSIN', 'TZYM', 'STCS', 'ICE', 'VCLK', 'ODSI', 'SRGN', 'BWC', 'SJK', 'TTO', 'ZHNE', 'WSBF', 'WLP', 'TUI', 'MGNC', 'NETP', 'CCRT', 'SYRG', 'ODMO', 'SCG', 'DHR', 'ATRM', 'USW', 'EXLS', 'TTES', 'AHSI', 'OXBT', 'PBHC', 'FDX', 'MBLY', 'MFSF', 'TSPT', 'VCI', 'TMK', 'WPS', 'OWAV', 'TPCG', 'BDC', 'CFDY', 'ZLCS', 'PMS', 'VISG', 'NCST', 'SKH', 'CIBC', 'WEBT', 'VTI', 'REGI', 'CYSP', 'WFD', 'UGNE', 'JDSU', 'NHLI', 'BMY', 'LFUS', 'RMII', 'RGR', 'SHNS', 'UNTCQ', 'SREV', 'CSBK', 'BIHI', 'DMD', 'TEN', 'FPTB', 'MYL', 'FSTW', 'MAXM', 'FSR', 'WH', 'CLI', 'BIIB', 'MRO', 'KSF', 'ENTR.1', 'LLE', 'INCX', 'WMB', 'UNM', 'MELA', 'IBSX', 'AHMH', 'PRAA', 'RMAX', 'OPLK', 'INTC', 'EUSA', 'BEAT', 'DW', 'RTEX', 'TIVS', 'FINL', 'OPTO', 'CNVO', 'RNIN', 'TSFW', 'UCBA', 'XIDX', 'ISCA', 'SAVO', 'CLR', 'HAIN', 'KBR', 'HCC.1', 'PSSI', 'DCT.1', 'BNCL', 'RAWC', 'STAN', 'NBHC', 'PRFN', 'MMSI', 'PFE', 'NINE', 'PTEN', 'LACO', 'TSON', 'TDW', 'CICI', 'CHRS', 'XPRS', 'SPTN', 'NVTL', 'APH', 'TNDM', 'THY', 'MSAM', 'YUM', 'PHCM', 'NHCT', 'ILXI', 'CLEC', 'RRRR', 'SWI', 'HOT', 'JOEZ', 'GE', 'TBIO', 'TXRH', 'ISBC', 'VLO', 'TNTF', 'SVCW', 'RJF', 'GM', 'LAP', 'ENTA', 'DAR', 'GAIA', 'STBI', 'NWSA', 'WLDA', 'GPK', 'SFLK', 'IQIQ', 'GGI', 'SLGX', 'HEAR', 'TVIA', 'IMPH', 'TTRR', 'ANX', 'SLMD', 'ABBV', 'MSEX', 'RXH', 'RACE', 'IWIN', 'CATM', 'JA', 'PDN', 'TSQ', 'GRMN', 'PAWN', 'NR', 'KFT', 'TREE', 'NEM', 'CBM', 'WXS', 'STMX', 'NEXS', 'LOGM', 'WAG', 'WND', 'CHFN', 'UACI', 'MIK', 'CLUB', 'CPX', 'VPFG', 'TAPP', 'FFBC', 'PRTN', 'SLAB', 'TW', 'DGP', 'TOA', 'BFS', 'HAE', 'IMCO', 'TBZ', 'USCR', 'CPE', 'BHI', 'GORO', 'RSHCQ', 'SSYS', 'POVT', 'AGYS', 'MBI', 'ESS', 'CNF', 'ARAY', 'PM', 'PPG', 'HTCC', 'CFA', 'MMXI', 'MORW', 'RNAI', 'IPGP', 'QSR', 'WOOF', 'CNC', 'SFSW', 'HF', 'SYST', 'KSS', 'CTS', 'NCBC', 'ABXA', 'MRA', 'SE', 'KEY', 'OVT', 'ENDP', 'TMTA', 'SAH', 'SAI', 'APPA', 'EXH', 'SFDS', 'SZYM', 'TGR', 'PSEM', 'TESO', 'LDDS', 'PPSI', 'USU', 'CRA', 'BLLE', 'TAA', 'SGAI', 'NKTR', 'OPB', 'CBSL', 'FDS', 'SIHI', 'CYOE', 'OCLS', 'SGN', 'ENR', 'SPAN', 'RATE', 'SKIP', 'AAL', 'ACETQ', 'PCG', 'GLOI', 'GB', 'DMGI', 'TSRA', 'ALSC', 'VVV', 'DWD', 'WPC', 'CSRV', 'ELNK', 'STNA', 'VRIO', 'WEST', 'TRGT', 'SCBT', 'VCC', 'IMN', 'ZIAD', 'ACW', 'WIN', 'SCVL', 'TCAM', 'SNTA', 'STXN', 'PSDI', 'KMX', 'IILG', 'DYN', 'WPNE', 'CVG', 'UBSH', 'CDT', 'STAY', 'PCOL', 'AJG', 'GVIL', 'SFN', 'SRCI', 'SOSA', 'TREX', 'IMX', 'BBBY', 'PSWT', 'WSO', 'EBAY', 'TBNC', 'RE', 'SON', 'ARRS', 'HDIE', 'STGN', 'AFAS', 'PBIZ', 'TOS', 'KRFT', 'SCOK', 'PF', 'HMN', 'FFIV', 'BRO', 'JCI', 'CYTK', 'TVGI', 'STMD', 'ACNS', 'FOSL', 'ARGN', 'HIW', 'SNX', 'SOVR', 'CELG', 'ULTI', 'JBL', 'WSBK', 'TOWN', 'LB', 'WAUW', 'COMT', 'BTSR', 'HZNP', 'OLLI', 'AMN', 'DHC', 'TBP', 'BMT', 'ARR', 'PMTC', 'ACLS', 'PLL.1', 'CCE', 'PACW', 'PSY', 'CNVR', 'ARCL', 'BWA', 'WTZR', 'OFG', 'TWC', 'AMD', 'PTEK', 'UNA', 'PSEC', 'WIRE', 'CBAK', 'STEM', 'WWTR', 'OII', 'NLS', 'T', 'AWI', 'ACPW', 'XMCM', 'RHI', 'TENT'}\n",
      "2013\n",
      "{'RSIS', 'WCFB', 'RMD', 'SYB', 'ZUMZ', 'OLN', 'JBGS', 'JNS', 'INLD', 'ICFI', 'WHIT', 'OSUR', 'VC', 'HTZ', 'RDTA', 'EFCW', 'GTST', 'ETV', 'MSG', 'ATH', 'Z', 'CSTR', 'USMO', 'ANTC', 'ICGE', 'AH', 'JNJ', 'GET', 'IMGK', 'WPIC', 'PATR', 'SSSW', 'PRFT', 'PABN', 'HRG', 'BLT', 'EXBD', 'CRDC', 'HSY', 'IECE', 'LF', 'MIKN', 'IRBT', 'CNX', 'SAG', 'AAOI', 'PDII', 'SPNW', 'CIEN', 'SBAC', 'SPDY', 'TROX', 'TCHC', 'WTLC', 'PHCI', 'TZYM', 'ICE', 'VCLK', 'ODSI', 'BWC', 'NEBLQ', 'ZHNE', 'WSBF', 'WNC', 'WLP', 'MGNC', 'NETP', 'TMST', 'CCRT', 'SYRG', 'DHR', 'USW', 'ATRM', 'EXLS', 'OXBT', 'PBHC', 'FDX', 'TSPT', 'WPS', 'OWAV', 'CFDY', 'ZLCS', 'PMS', 'VISG', 'NCST', 'TRMK', 'SKH', 'CIBC', 'VTI', 'CYSP', 'WFD', 'LSI.1', 'IVZ', 'JDSU', 'NHLI', 'RMII', 'SHNS', 'CSBK', 'BIHI', 'DMD', 'FPTB', 'MYL', 'FSTW', 'MAXM', 'FSR', 'WH', 'KSF', 'LLE', 'INCX', 'MELA', 'IBSX', 'AROC', 'AHMH', 'PRAA', 'INTC', 'IFF', 'EUSA', 'BEAT', 'DW', 'BKNG', 'OPTO', 'SEE', 'UCBA', 'RNIN', 'XIDX', 'UNTD', 'SAVO', 'BNCL', 'STAN', 'RAWC', 'CHUY', 'HD', 'PNS', 'PRFN', 'HE', 'NINE', 'TSON', 'LACO', 'EBF', 'CICI', 'HSIC', 'QRVO', 'FOOD', 'NVTL', 'TNDM', 'TFX', 'UIL', 'MSAM', 'PHCM', 'BKE', 'CLEC', 'EMMS', 'JOEZ', 'TXRH', 'ISBC', 'TNTF', 'SVCW', 'IP', 'LAP', 'VRSK', 'GAIA', 'MNRK', 'NWSA', 'WLDA', 'RT', 'GK', 'DOFSQ', 'SFLK', 'IQIQ', 'GGI', 'SLGX', 'HEAR', 'IMPH', 'ANX', 'GOLD', 'FNF', 'RXH', 'IWIN', 'CATM', 'PDN', 'PAWN', 'NR', 'AMPH', 'KFT', 'TREE', 'MCK', 'CBM', 'WXS', 'STMX', 'NEXS', 'WAG', 'WND', 'CHFN', 'FORR', 'LQDT', 'VPFG', 'BF.B', 'PRTN', 'SLAB', 'DGP', 'PKE', 'AVID', 'IMCO', 'AVD', 'TBZ', 'LOCO', 'KAMN', 'NBL', 'SSYS', 'ORIT', 'CNF', 'HTCC', 'MMXI', 'OPTX', 'HBAN', 'MPC', 'COLB', 'SIRI', 'NCBC', 'MRA', 'ABXA', 'MRCY', 'KEY', 'OVT', 'ENDP', 'SAI', 'TPRE', 'APPA', 'TGR', 'EXH', 'SZYM', 'LDDS', 'PPSI', 'USU', 'CRA', 'BLLE', 'ADP', 'SGAI', 'NKTR', 'OPB', 'CBSL', 'FCN', 'AMT', 'MYGN', 'ZIPR', 'CYOE', 'OCLS', 'SGN', 'ENR', 'EFII', 'AMWD', 'CLWRD', 'GLOI', 'GB', 'DMGI', 'TSRA', 'TCBI', 'ALSC', 'ENSG', 'DWD', 'WPC', 'STNA', 'WEST', 'PCBC', 'TRGT', 'SCBT', 'VCC', 'IMN', 'ZIAD', 'WIN', 'CLF', 'SNTA', 'STXN', 'PSDI', 'IILG', 'DYN', 'WPNE', 'UBSH', 'CDT', 'PCOL', 'AJG', 'GVIL', 'SFN', 'IMX', 'LOJN', 'CVLT', 'PSWT', 'TBNC', 'TTWO', 'VTR', 'ARRS', 'HDIE', 'PH', 'RYN', 'PBIZ', 'ADBE', 'BLL', 'LDOS', 'PF', 'BRO', 'CYTK', 'ACNS', 'FOSL', 'ARGN', 'NAV', 'SOVR', 'BDX', 'UNS', 'CELG', 'ULTI', 'JBL', 'WSBK', 'WAUW', 'COMT', 'BOMS', 'AXP', 'HZNP', 'GOOGL', 'MKC', 'OLLI', 'DHC', 'BMT', 'IPHS', 'PMTC', 'PCRX', 'PLL.1', 'CCE', 'PSY', 'WTZR', 'OFG', 'PTEK', 'UNA', 'CBAK', 'MED', 'DBD', 'TXCCQ', 'STEM', 'P', 'ACPW', 'NTRS', 'XMCM', 'TENT'}\n",
      "2014\n",
      "{nan, 'FRTR', 'RSIS', 'WCFB', 'SYB', 'ZUMZ', 'HCA', 'GMW', 'GBL', 'GFNL', 'VRTS', 'TLAB', 'GMST', 'INLD', 'AAN', 'ICFI', 'WHIT', 'VC', 'HTZ', 'RDTA', 'EFCW', 'BMS', 'GTST', 'FOR', 'GATO', 'AFG', 'ETV', 'WNR', 'FSN', 'GPU', 'FTEK', 'MSG', 'GADZ', 'AEP', 'DRQ', 'ATH', 'PHCC', 'Z', 'GTLS', 'GT', 'TMO', 'CSTR', 'ANTC', 'GMCR', 'SIL', 'USMO', 'GRNT', 'ICGE', 'AH', 'JNJ', 'SYNH', 'THS', 'GET', 'ADI', 'SNI', 'GPRO', 'PDCE', 'IMGK', 'NPK', 'WPIC', 'GTRE', 'PATR', 'SSSW', 'WMT', 'PRFT', 'NTN', 'PABN', 'HRG', 'GANL', 'GTII', 'GHM', 'GPSI', 'CJ', 'PEDE', 'EXBD', 'FRAC', 'CRDC', 'LCII', 'GXY', 'CBRL', 'FF', 'POM', 'RUTH', 'MIKN', 'PDII', 'SAG', 'ATX', 'SPNW', 'SBAC', 'SPDY', 'TCHC', 'FWNC', 'NJR', 'WTLC', 'PHCI', 'TZYM', 'ICE', 'VCLK', 'ODSI', 'BWC', 'FSYS', 'DEL', 'GPX', 'SNTS', 'GAF', 'TRAK', 'CME', 'GLUU', 'GCX', 'ZHNE', 'GTBX', 'WSBF', 'WLP', 'MGNC', 'NETP', 'CCRT', 'GRN', 'SYRG', 'MTD', 'FCMC', 'BCOR', 'GBCT', 'TLN', 'FNOW', 'CAL', 'OPEN', 'ATRM', 'GLUX', 'USW', 'OXBT', 'GVGC', 'SEM', 'AXLL', 'HITT', 'PBHC', 'JOY', 'GNPT', 'CYNO', 'FIRE', 'BELFB', 'TSPT', 'MU', 'FBTX', 'OWAV', 'WPS', 'CFDY', 'TE', 'WCN', 'ZLCS', 'PMS', 'VISG', 'NCST', 'GNC', 'SKH', 'YRCW', 'FKKY', 'CIBC', 'NUVA', 'VTI', 'CYSP', 'BRKS', 'PRGX', 'WFD', 'SGNT', 'FEI', 'DECK', 'WOLF', 'GMAN', 'SPGI', 'ADPTQ', 'JDSU', 'NILE', 'PPL', 'GNCM', 'NHLI', 'GRKA', 'GFSB', 'RMII', 'FRGI', 'SHNS', 'MRH', 'SXT', 'CSBK', 'BIHI', 'DMD', 'FURX', 'FRNT', 'GVA', 'FPTB', 'AFAM', 'WRI', 'MYL', 'FSTW', 'S', 'FSR', 'MAXM', 'WH', 'GPI', 'FNCO', 'KSF', 'LLE', 'TTC', 'INCX', 'WMB', 'FIG', 'MELA', 'IBSX', 'SMRT', 'TRCO', 'AHMH', 'PRAA', 'RTX', 'JNY', 'FRTE', 'CB', 'EUSA', 'BEAT', 'DW', 'XMCM', 'IIIN', 'GPFI', 'GLK', 'CPY', 'LOPE', 'OPTO', 'MSC', 'NFP', 'FUSE', 'GNCI', 'CYMI', 'FPX', 'SEE', 'UCBA', 'CSU', 'RNIN', 'KODK', 'XIDX', 'SMSC', 'SAVO', 'IDA', 'CKP', 'UFI', 'BNCL', 'RAWC', 'STAN', 'HD', 'PRFN', 'NINE', 'VVI', 'LACO', 'TSON', 'GALX', 'CICI', 'FIO', 'XOMA', 'MS', 'FCEL', 'SMP', 'FSTR', 'MOV', 'NVTL', 'TNDM', 'RXII', 'CMC', 'UGI', 'AES', 'DOLE', 'DGII', 'MSAM', 'FLCG', 'PHCM', 'VSTO', 'EHC', 'ZBRA', 'CLEC', 'MET', 'GY', 'GHVI', 'FFC', 'FRND', 'CMO', 'WBA', 'SFNC', 'GBCB', 'CHD', 'GEC', 'JOEZ', 'O', 'ISBC', 'KMT', 'GIC', 'TNTF', 'GLBK', 'ORB', 'ADC', 'SVCW', 'GSLA', 'RAIL', 'RJF', 'GSBC', 'LAP', 'GAIA', 'FAF', 'PPC', 'NWSA', 'WLDA', 'CKH', 'FTNT', 'GMTC', 'GCOR', 'GPK', 'NAVG', 'FPUB', 'GLBC', 'FMKT', 'CSX', 'CEVA', 'SFLK', 'IQIQ', 'GGI', 'GRR', 'SLGX', 'AVP', 'HEAR', 'GHW', 'AMTD', 'CUTR', 'IMPH', 'VRTV', 'CAA', 'ANX', 'FSTP', 'GOLD', 'FJ', 'RXH', 'IWIN', 'AGN', 'FRM', 'TJX', 'PBH', 'GTATQ', 'CBEY', 'IPI', 'TIF', 'CATM', 'FOXH', 'PDN', 'GPIC', 'HSP', 'GRMN', 'PAWN', 'GATT', 'MATR', 'NX', 'UFS', 'KFT', 'TREE', 'GXP', 'PLXS', 'GZON', 'GTPS', 'WXS', 'GRM', 'RAI', 'FC', 'CMG', 'NEXS', 'GPLB', 'FUQI', 'WAG', 'WND', 'FCBN', 'CHFN', 'GHO', 'OPI', 'ANLY', 'SHFL', 'FRO', 'VPFG', 'VAC', 'NSC', 'PRTN', 'EA', 'DGP', 'XRAY', 'GEB', 'STC', 'IMCO', 'TBZ', 'LXP', 'GFR', 'HAYN', 'GORO', 'GSIC', 'SSYS', 'LLY', 'LOW', 'CNF', 'HTCC', 'EAT', 'FFST', 'GLYN', 'GACC', 'TEX', 'MMXI', 'FRTH', 'GNSS', 'RFP', 'MHO', 'SHYF', 'PRU', 'GCAP', 'GHC', 'TYL', 'TXN', 'GENR', 'CZR.3', 'FDRY', 'SMG', 'GFLS', 'SJI', 'ASNAQ', 'GSHO', 'FOXX', 'SIRI', 'NCBC', 'GSES', 'GBBK', 'ABXA', 'STLD', 'SXCL', 'FPWR', 'MRCY', 'UTSI', 'GSCC', 'MRA', 'GTN', 'FSFT', 'SITC', 'OVT', 'ENDP', 'IMS', 'GTSI', 'TPRE', 'SAI', 'APPA', 'EXH', 'TGR', 'SZYM', 'SIX', 'LDDS', 'GNRL', 'PPSI', 'USU', 'ININ', 'CRA', 'GSBI', 'BLLE', 'FTNB', 'MATX', 'GSX', 'FSON', 'SGAI', 'GAN', 'CBSL', 'VMI', 'TCMD', 'WMS.1', 'ZOOX', 'SYKE', 'SSD', 'TXT', 'EMC', 'LGIH', 'SPG', 'CYOE', 'OCLS', 'IPG', 'FRAM', 'NYX', 'FNBCQ', 'HES', 'FTC', 'GFC', 'GRND', 'SGN', 'FMP', 'FRD', 'ENR', 'SALD', 'GRTR', 'WTFC', 'FE', 'ACETQ', 'GLOI', 'GB', 'ORCL', 'TRMB', 'DMGI', 'TSRA', 'ALSC', 'ESINQ', 'ENSG', 'DWD', 'CYN', 'AVAV', 'ETFC', 'PNM', 'WPC', 'ZLTQ', 'BR', 'STNA', 'GSHL', 'IRC', 'GNN', 'WEST', 'NSA', 'FRTZ', 'TRGT', 'SCBT', 'VCC', 'IMN', 'FL', 'LAMR', 'FRES', 'FRS', 'ZIAD', 'RH', 'WIN', 'GSCN', 'EV', 'VFC', 'SNTA', 'FFN', 'FH', 'GSIT', 'CYT', 'GTFN', 'IILG', 'CTRL', 'PSDI', 'STXN', 'DYN', 'WPNE', 'GNSC', 'UBSH', 'CDT', 'GFIG', 'GWF', 'PCOL', 'GVIL', 'SFN', 'BMCH', 'GZEA', 'SPSC', 'IMX', 'SYF', 'PSWT', 'FSIN', 'GBND', 'TBNC', 'VICR', 'FLL', 'FNB', 'GSII', 'ARRS', 'GRP', 'LECO', 'GMO', 'HDIE', 'GBOT', 'M', 'BLC', 'GNUC', 'PBIZ', 'PWER', 'CSGS', 'XYL', 'TFM', 'MPP', 'FNET', 'PF', 'ALE', 'PCP', 'FSS', 'MEAD', 'FFIN', 'ACNS', 'RDC', 'FOSL', 'KMI', 'VIAB', 'HUBG', 'ARGN', 'GBTB', 'GNLB', 'EMN', 'SOVR', 'CAE', 'VVC', 'FXCB', 'CNK', 'ES', 'SCL', 'APGI', 'ULTA', 'WSBK', 'ZEUS', 'GTI', 'FOX', 'AINV', 'JBSS', 'FRF', 'FGII', 'WAUW', 'GHX', 'COMT', 'HZNP', 'CCK', 'STBA', 'BMT', 'INTU', 'PATK', 'GAFC', 'FBHC', 'IPHS', 'PMTC', 'CTB', 'CCE', 'LPNT', 'FQE', 'PSY', 'FTX', 'NC', 'F', 'MDP', 'WTZR', 'NCI', 'ETM', 'OFG', 'PTEK', 'UNA', 'SRT.2', 'CBAK', 'MED', 'IOSP', 'DBD', 'GIMO', 'GBX', 'FMAX', 'JOB', 'GNCR', 'STEM', 'QCOM', 'GAME', 'ACPW', 'COTY', 'GRH', 'BKI.1', 'GNRC', 'TENT'}\n",
      "2015\n",
      "{nan, 'RSIS', 'WCFB', 'SYB', 'ECOL', 'INLD', 'AAN', 'ICFI', 'WHIT', 'HAR', 'VC', 'HTZ', 'RDTA', 'EFCW', 'GTST', 'SCOR', 'KMPR', 'ETV', 'TG', 'ORN', 'MSG', 'SYMM', 'ATH', 'Z', 'COV', 'AZO', 'TMO', 'CSTR', 'ANTC', 'USMO', 'ICGE', 'AH', 'VTEK', 'SMDK', 'HI', 'GET', 'IMGK', 'WPIC', 'DFIN', 'PATR', 'SSSW', 'PRFT', 'ELY', 'PABN', 'HRG', 'ANGO', 'BMR', 'JKHY', 'RBCN', 'EXBD', 'TRST', 'CRDC', 'MKSI', 'USBE', 'HSY', 'MIKN', 'ROG', 'SIRO', 'SHAW', 'PDII', 'SAG', 'SPNW', 'SWK', 'CDW', 'PGTI', 'EXAS', 'SBAC', 'SPDY', 'LAD', 'CASY', 'SJM', 'REGN', 'COOL', 'TCHC', 'WTLC', 'PHCI', 'TZYM', 'ICE', 'VCLK', 'ODSI', 'BWC', 'ROSI', 'TDI', 'VOXX', 'OXY', 'DPZ', 'ZHNE', 'WSBF', 'JCOM', 'WLP', 'FSP', 'MGNC', 'NETP', 'CCRT', 'SYRG', 'MTD', 'IVC', 'ATRM', 'USW', 'OXBT', 'ALG', 'FIVE', 'HITT', 'PBHC', 'BPYU', 'CYNO', 'BELFB', 'TSPT', 'MU', 'WPS', 'HRB', 'OWAV', 'BDC', 'CFDY', 'WPG', 'WCN', 'ZLCS', 'ZMBA', 'FCFS', 'PMS', 'IHRT', 'VISG', 'NCST', 'SKH', 'CIBC', 'NUVA', 'VTI', 'TFC', 'CYSP', 'WFD', 'UNCF', 'ATUS', 'JDSU', 'NHLI', 'RMII', 'TQNT', 'CPWR', 'SHNS', 'SXT', 'CRY', 'VRTX', 'NAVI', 'CSBK', 'BIHI', 'DMD', 'FPTB', 'TMWD', 'DLR', 'WLK', 'MYL', 'WRI', 'FSTW', 'FSR', 'S', 'CLI', 'MAXM', 'WH', 'BTU', 'HCBK', 'KSF', 'BMI', 'LLE', 'INCX', 'MTOR', 'MELA', 'IBSX', 'AROC', 'SMRT', 'AHMH', 'PRAA', 'ALGT', 'RJETQ', 'LMOS', 'EUSA', 'BEAT', 'DW', 'AVB', 'IPCC', 'CLX', 'OPTO', 'RNIN', 'ASH', 'LCC', 'UCBA', 'XIDX', 'SAVO', 'CDE', 'BNCL', 'FLOW', 'PVTB', 'XEL', 'RAWC', 'STAN', 'HD', 'HST', 'PRFN', 'HE', 'PFE', 'NINE', 'CTXS', 'PKG', 'LACO', 'TSON', 'CICI', 'XPRS', 'VECO', 'NVTL', 'ABCB', 'TNDM', 'LHCG', 'NP', 'UGI', 'MSAM', 'SIG', 'MCY', 'PHCM', 'MJN', 'VSTO', 'CLEC', 'MET', 'AKRXQ', 'DITC', 'SWI', 'SFNC', 'EXPR', 'JOEZ', 'ISBC', 'LAWS', 'TNTF', 'UMPQ', 'FULT', 'SVCW', 'VST', 'SBRA', 'SVC', 'ABMD', 'OMCL', 'CENTA', 'RRC', 'NPBC', 'LAP', 'CSDS', 'GAIA', 'KO', 'UHT', 'NWSA', 'WLDA', 'ILMN', 'CKH', 'INT', 'GK', 'ARQL', 'DOLNQ', 'ABT', 'SFLK', 'IQIQ', 'GGI', 'ALK', 'SLGX', 'WSBC', 'HEAR', 'IMPH', 'ANX', 'VMC', 'RXH', 'IWIN', 'QLYS', 'BSX', 'CBEY', 'CATM', 'PDN', 'MHK', 'HSP', 'SFLX', 'AMCC', 'PAWN', 'USOO', 'KFT', 'TREE', 'WEN', 'WXS', 'CWT', 'JBT', 'CMG', 'IM', 'NEXS', 'WAG', 'WND', 'CHFN', 'ULTD', 'OPI', 'FAST', 'SHFL', 'OHI', 'VPFG', 'XPO', 'ARW', 'PRTN', 'ILG', 'DGP', 'IMCO', 'TBZ', 'USCR', 'SSYS', 'HNH', 'BGC', 'LLY', 'MBI', 'TAP', 'VRTU', 'CNF', 'HTCC', 'MMXI', 'JACK', 'SPF', 'BK', 'EPAC', 'SHYF', 'FN', 'SJI', 'LSTR', 'GPS', 'GMED', 'SIRI', 'NCBC', 'ABXA', 'MRA', 'VPG', 'MRCY', 'OIS', 'OVT', 'ENDP', 'ARB.1', 'IMS', 'TROW', 'TPRE', 'SAI', 'APPA', 'EXH', 'TGR', 'SZYM', 'SIX', 'LDDS', 'PPSI', 'USU', 'ININ', 'CRA', 'BLLE', 'GBDC', 'SGAI', 'WCG', 'CBSL', 'PWR', 'ZIPR', 'PIPR', 'CYOE', 'OCLS', 'CSCO', 'PRXL', 'SGN', 'ENR', 'NFG', 'STEI', 'WTFC', 'DNB.1', 'WAT', 'RATE', 'PCG', 'GLOI', 'GB', 'ORCL', 'DMGI', 'TSRA', 'ALSC', 'DWD', 'MTCH', 'SO', 'ETFC', 'SWRX', 'WPC', 'EFX', 'TECU', 'STNA', 'LYB', 'CQB', 'VRIO', 'WEST', 'SENEA', 'PLKI', 'TRGT', 'SCBT', 'ASGN', 'VCC', 'IMN', 'ZIAD', 'WIN', 'SLB', 'BBOX', 'SNTA', 'VIVO', 'STXN', 'PSDI', 'IILG', 'CSII', 'DYN', 'WPNE', 'PZN', 'UBSH', 'CDT', 'USHS', 'PCOL', 'GVIL', 'SFN', 'MMS', 'BMCH', 'TREX', 'IMX', 'PSWT', 'WSO', 'TBNC', 'VIAS', 'KSWS', 'SILK', 'ARRS', 'BRCD', 'AHH', 'KOP', 'HDIE', 'M', 'PBIZ', 'DPLO', 'PF', 'CDI', 'TSCO', 'ALE', 'FFIV', 'HMN', 'SAFT', 'JCI', 'FFIN', 'ACNS', 'FOSL', 'VIAB', 'ARGN', 'HNI', 'TILE', 'CHRW', 'SOVR', 'WAVX', 'CELG', 'KR', 'CNK', 'NOG', 'SCL', 'WSBK', 'TWRX', '__', 'WAUW', 'CWST', 'COMT', 'HZNP', 'GOOGL', 'PAHC', 'BMT', 'INTU', 'APEI', 'IPHS', 'PMTC', 'CCE', 'PSY', 'PBI', 'F', 'WTRG', 'WTZR', 'ETM', 'OFG', 'PTEK', 'UNA', 'CBAK', 'DBD', 'TXCCQ', 'SOL', 'STEM', 'SWCM', 'SNV', 'LBYYQ', 'SCAI', 'ACPW', 'XMCM', 'TENT'}\n",
      "2016\n",
      "{'RSIS', 'WCFB', 'SYB', 'MRLN', 'INLD', 'ICFI', 'WHIT', 'VC', 'HTZ', 'RDTA', 'EFCW', 'WPX', 'GTST', 'ETV', 'MSG', 'MLL', 'ATH', 'Z', 'CSTR', 'USMO', 'ANTC', 'ICGE', 'FIS', 'AH', 'OVEN', 'GNW', 'ANTH', 'GET', 'IMGK', 'WPIC', 'CCAM', 'PATR', 'SSSW', 'PRFT', 'PABN', 'HRG', 'CELL', 'MSCI', 'EXBD', 'CRDC', 'AWII', 'MIKN', 'PDII', 'SAG', 'SPNW', 'SBAC', 'SPDY', 'TCHC', 'WTLC', 'EZPW', 'PHCI', 'TZYM', 'ICE', 'VCLK', 'ODSI', 'BWC', 'ZHNE', 'WSBF', 'WLP', 'MGNC', 'NETP', 'CTSH', 'CCRT', 'SYRG', 'USW', 'ATRM', 'OXBT', 'BRHZ', 'MIC', 'BPMI', 'PBHC', 'TSPT', 'COLM', 'WPS', 'HRB', 'OWAV', 'CFDY', 'ZLCS', 'TCNX', 'PMS', 'VISG', 'NCST', 'SKH', 'BAIB', 'CIBC', 'VTI', 'CYSP', 'PAYX', 'WFD', 'AIT', 'MAR', 'JDSU', 'NHLI', 'TCX', 'RMII', 'GS', 'SHNS', 'CSBK', 'BIHI', 'DMD', 'DSPG', 'FPTB', 'MYL', 'FSTW', 'MAXM', 'FSR', 'WH', 'KSF', 'LLE', 'INCX', 'WMB', 'MELA', 'IBSX', 'AHMH', 'PRAA', 'JAKK', 'CMIV', 'EUSA', 'BEAT', 'DW', 'CMRG', 'OPTO', 'RNIN', 'UCBA', 'XIDX', 'SAVO', 'CCCG', 'BNCL', 'FLOW', 'RAWC', 'STAN', 'BFAM', 'PRFN', 'NINE', 'TSON', 'LACO', 'CICI', 'RPM', 'BANC', 'NVTL', 'TNDM', 'PDFS', 'MSAM', 'CMTL', 'PHCM', 'ANDO', 'ZBRA', 'CLEC', 'JOEZ', 'TXRH', 'ISBC', 'TNTF', 'SVCW', 'IP', 'LAP', 'GAIA', 'NWSA', 'WLDA', 'AMSG', 'GBNK', 'CSX', 'SFLK', 'IQIQ', 'GGI', 'SLGX', 'ACMR', 'HEAR', 'IMPH', 'ANX', 'DD.2', 'RXH', 'IWIN', 'CATM', 'PDN', 'PAWN', 'WGL', 'KFT', 'TREE', 'WXS', 'SSP', 'NEXS', 'WAG', 'WND', 'AERL', 'CHFN', 'LANC', 'VPFG', 'MTB', 'PRTN', 'DGP', 'CRM', 'IMCO', 'TBZ', 'RF', 'SSYS', 'ACTV', 'CNF', 'MMXI', 'MACR', 'XLNX', 'BZ', 'TTEK', 'ABD', 'SKY', 'ARI', 'SIRI', 'AVCT', 'NCBC', 'ABXA', 'MRA', 'OVT', 'ENDP', 'TROW', 'MARS', 'SAI', 'TPRE', 'APPA', 'TGR', 'EXH', 'SZYM', 'LDDS', 'PPSI', 'USU', 'CRA', 'BLLE', 'TT', 'SGAI', 'NKTR', 'CBSL', 'MFCX', 'EGEO', 'CYOE', 'OCLS', 'SGN', 'SWX', 'ENR', 'TISX', 'GLOI', 'GB', 'DMGI', 'TSRA', 'ALSC', 'DWD', 'WPC', 'MTMS', 'STNA', 'ISRG', 'WEST', 'PDAS', 'TRGT', 'SCBT', 'VCC', 'IMN', 'ZIAD', 'WIN', 'MATE', 'SNTA', 'STXN', 'JQH', 'IILG', 'PSDI', 'DYN', 'WPNE', 'UBSH', 'CDT', 'PCOL', 'GVIL', 'SFN', 'MFNC', 'IMX', 'PSWT', 'TBNC', 'MACK', 'ZIOP', 'ARRS', 'HDIE', 'PBIZ', 'PF', 'GWR', 'ACNS', 'FOSL', 'CCBF', 'ARGN', 'EXC', 'SOVR', 'EFTC', 'KRG', 'WSBK', 'CMCO', 'WAUW', 'COMT', 'HZNP', 'CCAR', 'BMT', 'GHDX', 'PMTC', 'CCE', 'PSY', 'WTZR', 'CATX', 'OFG', 'PTEK', 'ALR', 'UNA', 'PSEC', 'WIRE', 'CBAK', 'STEM', 'ACPW', 'XMCM', 'TENT'}\n",
      "2017\n",
      "{'GGI', 'SLGX', 'RSIS', 'WCFB', 'JDSU', 'HEAR', 'SYB', 'NHLI', 'IMPH', 'USW', 'BMY', 'ANX', 'SPB.1', 'GLOI', 'GB', 'RMII', 'VZ', 'DKS', 'DMGI', 'HR', 'RXH', 'TSRA', 'INLD', 'ICFI', 'SHNS', 'IWIN', 'ALSC', 'MANH', 'WHIT', 'USPH', 'DWD', 'VC', 'HTZ', 'RDTA', 'WPC', 'CATM', 'EFCW', 'CSBK', 'BIHI', 'GTST', 'PDN', 'DMD', 'NBY', 'IPHI', 'STNA', 'ETV', 'PAWN', 'FPTB', 'MSG', 'SWN', 'WEST', 'MYL', 'FSTW', 'MAXM', 'FSR', 'PCBC', 'WH', 'AAON', 'TRGT', 'FWLT', 'SCBT', 'ASGN', 'DIEG', 'KFT', 'TREE', 'IMN', 'VCC', 'KSF', 'ZIAD', 'ATH', 'LLE', 'Z', 'WIN', 'PENN', 'INCX', 'PMTS', 'MOS', 'CSTR', 'USMO', 'ANTC', 'WXS', 'MELA', 'SNTA', 'ICGE', 'STXN', 'IBSX', 'DAN', 'AH', 'IILG', 'PSDI', 'EOG', 'AHMH', 'DYN', 'PFF', 'PRAA', 'NEXS', 'UBSH', 'CDT', 'WPNE', 'WAG', 'WND', 'GET', 'BAC', 'CHFN', 'GVIL', 'PCOL', 'SFN', 'IMX', 'BRC', 'AIG', 'CLBC', 'EUSA', 'IMGK', 'WPIC', 'BEAT', 'DW', 'PSWT', 'PATR', 'SSSW', 'WMT', 'TBNC', 'PRFT', 'VPFG', 'PABN', 'TPRE', 'OPTO', 'HRG', 'RNIN', 'UCBA', 'XIDX', 'ARRS', 'PRTN', 'SAVO', 'MWV', 'SBUX', 'DGP', 'ECPG', 'EXBD', 'HDIE', 'IDA', 'AVID', 'BNCL', 'CRDC', 'RAWC', 'PBIZ', 'STAN', 'IMCO', 'TBZ', 'AIN', 'MSCC', 'PF', 'PRFN', 'MIKN', 'SSYS', 'NINE', 'JCPNQ', 'ACGL', 'ACNS', 'FOSL', 'LACO', 'PDII', 'CNF', 'SAG', 'SPNW', 'TSON', 'HTCC', 'CICI', 'ARGN', 'LOW', 'SBAC', 'MMXI', 'SPDY', 'MS', 'TCHC', 'MAT', 'SOVR', 'WTLC', 'AEL', 'FISV', 'TTEK', 'PHCI', 'TZYM', 'NVTL', 'ANF', 'CELG', 'ICE', 'TNDM', 'LULU', 'VCLK', 'ODSI', 'BWC', 'EGN', 'SYNA', 'WSBK', 'MSAM', 'HOV', 'LSST', 'SIRI', 'DPZ', 'WAUW', 'FRC', 'STRA', 'PHCM', 'NCBC', 'ZHNE', 'FHN', 'ABXA', 'COMT', 'MRA', 'WSBF', 'WLP', 'CLEC', 'HZNP', 'MGNC', 'NETP', 'PEG', 'DIS', 'K', 'MPH', 'CCRT', 'BMT', 'SYRG', 'JOEZ', 'OVT', 'ENDP', 'PMTC', 'ATRM', 'CCE', 'SAI', 'APPA', 'EXH', 'ISBC', 'OXBT', 'SZYM', 'TGR', 'PSY', 'LDDS', 'VNO', 'PPSI', 'TNTF', 'USU', 'KATE', 'PBHC', 'ORB', 'CRA', 'WTZR', 'BLLE', 'SVCW', 'OFG', 'PTEK', 'TSPT', 'LRCX', 'UNA', 'SGAI', 'WPS', 'OWAV', 'CBSL', 'CBAK', 'CFDY', 'LAP', 'STEM', 'GAIA', 'ZLCS', 'PMS', 'VISG', 'OII', 'PWR', 'XOM', 'NCST', 'NWSA', 'WLDA', 'LEA', 'ANDV', 'PNC', 'SKH', 'CYOE', 'OCLS', 'CIBC', 'BEL', 'ACPW', 'VTI', 'CYSP', 'TFC', 'SFLK', 'SGN', 'IQIQ', 'WFD', 'MTDR', 'XMCM', 'TENT', 'ENR'}\n",
      "2018\n",
      "{'GGI', 'SPGI', 'SLGX', 'RSIS', 'WCFB', 'JDSU', 'HEAR', 'SYB', 'NHLI', 'IMPH', 'SHSE', 'USW', 'CUTR', 'TGNA', 'ANX', 'GLOI', 'GB', 'RMII', 'GNV', 'DMGI', 'USAK', 'RXH', 'GXDX', 'TSRA', 'INLD', 'ICFI', 'SHNS', 'IWIN', 'ALSC', 'GEN', 'WHIT', 'WGO', 'DG', 'DWD', 'VC', 'GNVC', 'HTZ', 'RDTA', 'WPC', 'CATM', 'EFCW', 'CSBK', 'BIHI', 'GTST', 'GEOI', 'PDN', 'DMD', 'STNA', 'LCUT', 'ETV', 'MXWL', 'PAWN', 'FPTB', 'MSG', 'WEST', 'MYL', 'FSTW', 'MAXM', 'FSR', 'POR', 'WH', 'TRGT', 'SCBT', 'KFT', 'TREE', 'IMN', 'VCC', 'KSF', 'ZIAD', 'ATH', 'LLE', 'Z', 'WIN', 'C', 'INCX', 'FL', 'FDC', 'CSTR', 'USMO', 'ANTC', 'WXS', 'MELA', 'GON', 'ICGE', 'STXN', 'IBSX', 'SNTA', 'AH', 'IILG', 'PSDI', 'AHMH', 'DYN', 'PRAA', 'WPNE', 'NEXS', 'UBSH', 'CDT', 'WAG', 'WND', 'GET', 'CHFN', 'GVIL', 'PCOL', 'SFN', 'IMX', 'EUSA', 'BERW', 'GNTL', 'IMGK', 'SCKT', 'WPIC', 'BEAT', 'DW', 'PSWT', 'PATR', 'SSSW', 'TBNC', 'PRFT', 'LOPE', 'PABN', 'VPFG', 'OPTO', 'TPRE', 'NTN', 'HRG', 'GHM', 'GNSM', 'UCBA', 'RNIN', 'XIDX', 'ARRS', 'PRTN', 'SAVO', 'OA', 'DGP', 'EXBD', 'HDIE', 'M', 'BNCL', 'CRDC', 'RAWC', 'GEB', 'PBIZ', 'IMCO', 'STAN', 'TBZ', 'PF', 'PRFN', 'BPAO', 'MIKN', 'SSYS', 'NINE', 'ACNS', 'FOSL', 'LACO', 'PDII', 'CNF', 'SAG', 'SPNW', 'TSON', 'HTCC', 'CICI', 'ARGN', 'FOXF', 'SBAC', 'MMXI', 'SPDY', 'AEO', 'TCHC', 'SOVR', 'WTLC', 'PHCI', 'TZYM', 'NVTL', 'GNSL', 'ICE', 'TNDM', 'LULU', 'FIX', 'VCLK', 'ODSI', 'BWC', 'WSBK', 'ZEUS', 'MSAM', 'DYII', 'GGIT', 'SIRI', 'WAUW', 'KSS', 'PHCM', 'GEND', 'NCBC', 'ZHNE', 'ABXA', 'COMT', 'GCTY', 'MRA', 'WSBF', 'CLEC', 'HZNP', 'MGNC', 'NETP', 'WLP', 'TBI', 'CCRT', 'BMT', 'SYRG', 'GHDX', 'BCOR', 'UBSI', 'CHD', 'JOEZ', 'OVT', 'ENDP', 'PMTC', 'PBNY', 'ATRM', 'CCE', 'SAI', 'APPA', 'EXH', 'ISBC', 'OXBT', 'SZYM', 'TGR', 'NMRX', 'LDDS', 'PSY', 'PPSI', 'GMBS', 'TNTF', 'USU', 'PBHC', 'CRA', 'NGS', 'BLLE', 'WTZR', 'SVCW', 'OFG', 'TT', 'PTEK', 'TSPT', 'UNA', 'SGAI', 'WPS', 'OWAV', 'CBSL', 'CBAK', 'AME', 'CFDY', 'GDYN', 'LAP', 'STEM', 'BBK', 'GAIA', 'PMS', 'VISG', 'ZLCS', 'PCAR', 'NCST', 'NWSA', 'WLDA', 'SKH', 'GNMK', 'GGNS', 'CYOE', 'OCLS', 'CIBC', 'ESND', 'ACPW', 'VTI', 'CYSP', 'TFC', 'DOFSQ', 'SFLK', 'SGN', 'IQIQ', 'WFD', 'CRW', 'XMCM', 'TENT', 'ENR'}\n",
      "2019\n",
      "{'GGI', 'MRK', 'SLGX', 'RSIS', 'WCFB', 'FLT', 'JDSU', 'HEAR', 'SYB', 'STZ', 'NHLI', 'IMPH', 'HIG', 'USW', 'ANX', 'GLOI', 'GB', 'RMII', 'UTOG', 'DMGI', 'RXH', 'ATGC', 'TSRA', 'INLD', 'ICFI', 'SHNS', 'IWIN', 'ALSC', 'WHIT', 'AGN', 'DWD', 'VC', 'HTZ', 'KAZ', 'RDTA', 'WPC', 'AAT', 'CATM', 'EFCW', 'WPX', 'CSBK', 'BIHI', 'GTST', 'FFDB', 'PDN', 'DMD', 'COG', 'STNA', 'ETV', 'TRUX', 'UTL', 'PAWN', 'FPTB', 'MSG', 'WEST', 'MYL', 'FSTW', 'MAXM', 'FSR', 'WH', 'FICO', 'FLE', 'TRGT', 'SCBT', 'KFT', 'TREE', 'IMN', 'VCC', 'KSF', 'ZIAD', 'ATH', 'LLE', 'Z', 'WIN', 'INCX', 'CSTR', 'USMO', 'ANTC', 'OGXI', 'WXS', 'MELA', 'SNTA', 'ICGE', 'ETCO', 'IBSX', 'STXN', 'AH', 'IILG', 'PSDI', 'UOUT', 'AHMH', 'DYN', 'PRAA', 'UNTK', 'NEXS', 'UBSH', 'CDT', 'WPNE', 'WAG', 'WND', 'GET', 'CHFN', 'GVIL', 'PCOL', 'SFN', 'FAST', 'IMX', 'MSCA', 'NXWX', 'EUSA', 'BERW', 'IMGK', 'UNV', 'WPIC', 'VOLT', 'BEAT', 'DW', 'PSWT', 'FLM', 'PATR', 'SSSW', 'TBNC', 'PRFT', 'VPFG', 'PABN', 'TPRE', 'OPTO', 'UNVX', 'HRG', 'PANL', 'RNIN', 'UCBA', 'XIDX', 'ARRS', 'PRTN', 'SAVO', 'VNDA', 'UNIV', 'SBUX', 'DGP', 'UFC', 'EXBD', 'HDIE', 'XRAY', 'BNCL', 'CRDC', 'UFPI', 'RAWC', 'PBIZ', 'STAN', 'IMCO', 'UVR', 'PIP', 'TBZ', 'UACL', 'UNO', 'SAVE', 'PF', 'PRFN', 'MIKN', 'SSYS', 'NINE', 'ACNS', 'FOSL', 'LACO', 'PDII', 'CNF', 'SAG', 'SPNW', 'TSON', 'HTCC', 'CICI', 'ARGN', 'POST', 'SBAC', 'MMXI', 'SPDY', 'FHC', 'OPXA', 'UCO', 'KERA', 'TCHC', 'SOVR', 'WTLC', 'PHCI', 'TZYM', 'NVTL', 'ICE', 'TNDM', 'VCLK', 'ODSI', 'BIG', 'BWC', 'NOG', 'DELL', 'WSBK', 'MSAM', 'SIRI', 'CBPO', 'UPG', 'WAUW', 'PHCM', 'NCBC', 'SPU', 'ZHNE', 'ABXA', 'COMT', 'TAST', 'MRA', 'UNTY', 'CLEC', 'HZNP', 'MGNC', 'NETP', 'WSBF', 'WLP', 'WNC', 'CCRT', 'DHX', 'BMT', 'SYRG', 'UTA', 'JOEZ', 'OVT', 'ENDP', 'PMTC', 'UCOM', 'TBIO', 'PBNY', 'ATRM', 'CCE', 'SAI', 'APPA', 'EXH', 'ISBC', 'OXBT', 'SZYM', 'TGR', 'PSY', 'LDDS', 'UTR', 'PPSI', 'TNTF', 'USU', 'PBHC', 'ORB', 'CRA', 'WTZR', 'BLLE', 'SVCW', 'OFG', 'PTEK', 'TSPT', 'UNA', 'SGAI', 'WPS', 'OWAV', 'CBSL', 'CBAK', 'CFDY', 'BDE', 'LAP', 'UVSL', 'STEM', 'GAIA', 'ZLCS', 'PMS', 'VISG', 'UAM', 'NCST', 'NWSA', 'USAP', 'WLDA', 'AVNT', 'UVX', 'PNC', 'SKH', 'CYOE', 'OCLS', 'BSET', 'ESND', 'ACPW', 'CYSP', 'SFLK', 'SGN', 'IQIQ', 'WFD', 'XMCM', 'TENT', 'ENR'}\n",
      "2020\n",
      "{nan, 'RSIS', 'WCFB', 'SYB', 'ZCON', 'VFED', 'INLD', 'ICFI', 'WHIT', 'VC', 'HTZ', 'KAZ', 'RDTA', 'EFCW', 'GTST', 'ETV', 'MSG', 'USOR', 'VALN', 'BEN', 'ATH', 'Z', 'CSTR', 'USMO', 'ANTC', 'ICGE', 'AH', 'ALNK', 'GET', 'AGAM', 'BERW', 'IMGK', 'WPIC', 'BCEI', 'PATR', 'SSSW', 'PRFT', 'PABN', 'HRG', 'OA', 'EXBD', 'MSCI', 'CRDC', 'UFPI', 'MIKN', 'FLO', 'PDII', 'SAG', 'SPNW', 'SWK', 'SBAC', 'SPDY', 'CASY', 'TCHC', 'WTLC', 'PHCI', 'TZYM', 'ICE', 'VCLK', 'ODSI', 'BWC', 'HBJ', 'ZHNE', 'WSBF', 'WLP', 'MGNC', 'NETP', 'CCRT', 'DHX', 'SYRG', 'UXC', 'IVC', 'USW', 'ATRM', 'SWRT', 'OXBT', 'PBHC', 'TSPT', 'WPS', 'OWAV', 'CFDY', 'BDE', 'ZLCS', 'PMS', 'VISG', 'NCST', 'SKH', 'BSET', 'HLT', 'CYSP', 'WFD', 'ATUS', 'JDSU', 'NHLI', 'RMII', 'SHNS', 'CHEF', 'WSII', 'CST', 'WORK', 'CSBK', 'BIHI', 'DMD', 'ZIGO', 'VAND', 'FPTB', 'MYL', 'FSTW', 'MAXM', 'FSR', 'WH', 'C', 'THTX', 'LLE', 'INCX', 'UNM', 'MELA', 'IBSX', 'AHMH', 'PRAA', 'TPY', 'UNV', 'EUSA', 'BEAT', 'DW', 'WHGB', 'RNIN', 'UCBA', 'XIDX', 'SAVO', 'UFC', 'BNCL', 'RAWC', 'STAN', 'HST', 'PRFN', 'NINE', 'LACO', 'TSON', 'CICI', 'MS', 'USWN', 'WRNB', 'NVTL', 'TNDM', 'MSAM', 'CBPO', 'PHCM', 'SPU', 'IACT', 'CLEC', 'EXPR', 'JOEZ', 'TBIO', 'ISBC', 'TNTF', 'WOWI', 'INSM', 'SVCW', 'CMTO', 'LAP', 'GAIA', 'NWSA', 'WLDA', 'SFLK', 'IQIQ', 'KDUS', 'GGI', 'SLGX', 'HEAR', 'IMPH', 'ANX', 'HALL', 'RXH', 'IWIN', 'CATM', 'PDN', 'PAWN', 'CNQR', 'KFT', 'TREE', 'OGXI', 'WXS', 'NEXS', 'VSGN', 'HP', 'BCPC', 'WAG', 'WND', 'BTGI', 'CHFN', 'ULTD', 'ZTEC', 'VPFG', 'ARWS', 'PRTN', 'BF.B', 'DGP', 'CXO', 'IMCO', 'PIP', 'TBZ', 'SSYS', 'LLY', 'LOW', 'ACTV', 'CNF', 'HTCC', 'MMXI', 'FHC', 'USHI', 'OPXA', 'MORW', 'IBP', 'SIRI', 'NCBC', 'ABXA', 'MRA', 'POOL', 'CDK', 'ZOLL', 'HRBF', 'OVT', 'ENDP', 'TPRE', 'SAI', 'APPA', 'EXH', 'TGR', 'SZYM', 'ZGEN', 'LDDS', 'USU', 'CRA', 'BLLE', 'SGAI', 'CBSL', 'HWG', 'ACVC', 'HECO', 'CYOE', 'OCLS', 'WPH', 'SGN', 'ENR', 'CLMS', 'SKIP', 'GLOI', 'GB', 'DMGI', 'TSRA', 'ALSC', 'DWD', 'WPC', 'WEST', 'TRGT', 'SCBT', 'VCC', 'IMN', 'ZIAD', 'WIN', 'SNTA', 'ZRN', 'STXN', 'PSDI', 'IILG', 'DYN', 'WPNE', 'UBSH', 'CDT', 'PCOL', 'GVIL', 'SFN', 'IMX', 'VOLT', 'PSWT', 'ZOMX', 'UCHM', 'TBNC', 'UNSW', 'ARRS', 'HDIE', 'PBIZ', 'PF', 'DRE', 'ACNS', 'FOSL', 'UTP', 'ARGN', 'SOVR', 'WSBK', 'GTI', 'WAUW', 'UTX', 'COMT', 'HZNP', 'BMT', 'WIRL', 'PMTC', 'PBNY', 'CCE', 'WTZR', 'OFG', 'PTEK', 'UNA', 'CBAK', 'STEM', 'ZNGA', 'ACPW', 'NTRS', 'XMCM', 'TENT'}\n",
      "2021\n",
      "{'RSIS', 'WCFB', 'SYB', 'TCBK', 'INLD', 'ICFI', 'DCPI', 'WHIT', 'VC', 'HTZ', 'KAZ', 'RDTA', 'EFCW', 'GTST', 'STER', 'UPR', 'BAH', 'ETV', 'HYBR', 'MSG', 'ID', 'MLL', 'USOR', 'DBIO', 'ATH', 'Z', 'UPCS', 'UFEM', 'CSTR', 'USMO', 'ANTC', 'ICGE', 'LRCI', 'AH', 'USAT', 'ALNK', 'MHT', 'GET', 'BERW', 'IMGK', 'WPIC', 'PATR', 'CMBI', 'SSSW', 'PRFT', 'PABN', 'HRG', 'TSCN', 'EXBD', 'UQM', 'ABFS', 'CRDC', 'BWI', 'CFMT', 'GXY', 'USBE', 'TRGA', 'IACO', 'MIKN', 'IBK', 'AUTR', 'OTGS', 'SAG', 'PDII', 'SPNW', 'AHST', 'UTLC', 'SBAC', 'THOM', 'SPDY', 'IVIP', 'TCHC', 'WTLC', 'FISV', 'CFIC', 'PHCI', 'TZYM', 'BTRY', 'ACXM', 'HLMS', 'ICE', 'ULTR', 'WSFS', 'BCNJ', 'VCLK', 'ODSI', 'BWC', 'ROSI', 'TTO', 'SPEK', 'DPZ', 'ZHNE', 'WSBF', 'WLP', 'BMRN', 'MGNC', 'NETP', 'CCRT', 'SYRG', 'IG', 'ODMO', 'ATRM', 'USW', 'THLD', 'OXBT', 'CMAG', 'USCS', 'PBHC', 'USCM', 'TSPT', 'TMK', 'IKOS', 'WPS', 'OWAV', 'ASAI', 'CFDY', 'BDE', 'ZLCS', 'PMS', 'TLTN', 'VISG', 'CRVS', 'NCST', 'SKH', 'IMRG', 'CIBC', 'MLC', 'PHYB', 'CYSP', 'WFD', 'MUSA', 'USAD', 'UGNE', 'AFFC', 'JDSU', 'NHLI', 'TCX', 'ILFO', 'PCLI', 'LGL', 'RMII', 'SHNS', 'COB', 'RHI', 'TRNS', 'CSBK', 'BIHI', 'DMD', 'FRNT', 'AMFD', 'DVCO', 'FPTB', 'MYL', 'FSTW', 'MAXM', 'FSR', 'WH', 'WTLK', 'MARN', 'LLE', 'INCX', 'DRZ', 'ENSI', 'MELA', 'IBSX', 'AHMH', 'PRAA', 'BNHN', 'CJES', 'CTFC', 'USVI', 'ANA', 'CTG', 'EUSA', 'BEAT', 'DW', 'CRIS', 'IMD', 'LCC', 'UCBA', 'RNIN', 'XIDX', 'SAVO', 'RJR', 'BNCL', 'RAWC', 'STAN', 'ASDV', 'RAMP', 'USFS', 'PRFN', 'NINE', 'BGSS', 'LACO', 'TSON', 'TDW', 'CICI', 'BLZE', 'CCRO', 'XPRS', 'ULBI', 'NVTL', 'TNDM', 'CVEO', 'MSAM', 'CBPO', 'PHCM', 'SPU', 'ILXI', 'CLEC', 'SQSW', 'AMNB', 'PRVW', 'UDS', 'JOEZ', 'IIR', 'MUR', 'CAK', 'UPAC', 'TBIO', 'XTRM', 'SGH', 'ISBC', 'TNTF', 'HNG', 'SVCW', 'MMPI', 'BMTR', 'OMCL', 'BZMT', 'LAP', 'CCSC', 'GAIA', 'CLRO', 'KEYC', 'NWSA', 'WLDA', 'IDL', 'CHR', 'GTH', 'SFLK', 'IQIQ', 'PTRN', 'DFNR', 'GGI', 'SLGX', 'RAXR', 'HEAR', 'IMPH', 'MRBL', 'MLLE', 'UD', 'ANX', 'RXH', 'CORV', 'ICII', 'IWIN', 'CATM', 'PDN', 'MFSL', 'PAWN', 'CGG', 'PRGO', 'USOO', 'UFS', 'CLCI', 'KFT', 'TREE', 'DTL', 'UBID', 'OGXI', 'USDL', 'WXS', 'AMKG', 'NEXS', 'WAG', 'TVLY', 'WND', 'CDV', 'CHFN', 'ULTD', 'CRT', 'MLRC', 'VPFG', 'UCMP', 'PRTN', 'DGP', 'IFDC', 'HWP', 'DNSB', 'IMCO', 'PIP', 'TBZ', 'OCGI', 'SSYS', 'DKI', 'DAOU', 'NMIC', 'CNF', 'HTCC', 'CHPM', 'MMXI', 'ALS', 'FHC', 'OPXA', 'SPF', 'COBT', 'MOKA', 'MRTA', 'BIG', 'AATI', 'IMAL', 'SIRI', 'NCBC', 'ABXA', 'MRA', 'TRS', 'AMFB', 'IGRP', 'CHFS', 'DLV', 'OVT', 'ENDP', 'SAI', 'TPRE', 'APPA', 'EXH', 'TGR', 'SZYM', 'CTRX', 'UNWR', 'LDDS', 'MFD', 'USU', 'GIFI', 'CRA', 'BLLE', 'SGAI', 'CBSL', 'BCRX', 'ICMI', 'STKY', 'CPDN', 'GEST', 'CYOE', 'OCLS', 'IPG', 'SGN', 'DKEY', 'BOKC', 'ENR', 'AIHI', 'GLOI', 'GB', 'INX', 'DMGI', 'USCN', 'TSRA', 'ALSC', 'ARSC', 'DWD', 'WPC', 'CFCI', 'ODIS', 'WEST', 'CATH', 'ANE', 'FRTZ', 'MLTX', 'HWAY', 'TRGT', 'SCBT', 'ARVX', 'NUMR', 'VCC', 'IMN', 'ZIAD', 'USNC', 'ULTE', 'WIN', 'ATL', 'TA', 'SNTA', 'STXN', 'PSDI', 'IILG', 'DYN', 'WPNE', 'CPBC', 'SRCH', 'UBSH', 'CDT', 'TACT', 'USHS', 'PCOL', 'GVIL', 'SFN', 'USWC', 'ATCI', 'IMX', 'VOLT', 'ULCMD', 'PSWT', 'UCHM', 'TBNC', 'BDRM', 'DLA', 'RDO', 'UNSW', 'ARRS', 'HDIE', 'AHCC', 'MAIL', 'ARVI', 'PBIZ', 'UBCD', 'UNC', 'PF', 'UCTT', 'RLLY', 'BMRG', 'BTIM', 'ABKR', 'STMD', 'ACNS', 'FOSL', 'BINX', 'ARGN', 'IMNT', 'BERK', 'PHM', 'SOVR', 'CCIL', 'CI', 'FG', 'ONHN', 'DLIT', 'WSBK', 'TOWN', 'SPMT', 'WAUW', 'COMT', 'K', 'HZNP', 'IMUL', 'PAPA', 'BMT', 'PMTC', 'PIOG', 'PBNY', 'CENF', 'CCE', 'TTP', 'BDTC', 'COBK', 'WTZR', 'PRTS', 'OFG', 'RDKN', 'PTEK', 'UNA', 'NWD', 'CBAK', 'MNTL', 'MRT', 'STEM', 'VICT', 'WRDP', 'ACPW', 'XMCM', 'CEDC', 'TENT'}\n",
      "2022\n",
      "{nan, 'RSIS', 'WCFB', 'SYB', 'ECOL', 'LSI', 'WAE', 'SNCR', 'SZ', 'OLN', 'IO', 'FLMK', 'IQV', 'FUSC', 'INLD', 'ICFI', 'CRS', 'WHIT', 'REX', 'VC', 'HTZ', 'KAZ', 'RDTA', 'ALEX', 'EFCW', 'WPX', 'GTST', 'PSA', 'VISN', 'AFG', 'ETV', 'MSG', 'KPTL', 'DIEG', 'NHHC', 'DRQ', 'ATH', 'PHCC', 'Z', 'HWEN', 'CDNS', 'CSTR', 'USMO', 'ANTC', 'IEX', 'JPM', 'ICGE', 'EOG', 'AH', 'JNJ', 'CHCO', 'MMD', 'THS', 'GET', 'BAC', 'RELL', 'FNGB', 'BERW', 'IMGK', 'WPIC', 'PATR', 'SSSW', 'PRFT', 'FITC', 'PABN', 'NTN', 'MTRX', 'HRG', 'WCEC', 'GYNE', 'APFC', 'VASC', 'BMR', 'FRT', 'ECPG', 'EXBD', 'MSCI', 'FPFC', 'CRDC', 'MKSI', 'BLKB', 'INGN', 'FBIC', 'MIKN', 'NEEC', 'NVE', 'SCTI', 'SAG', 'PDII', 'LMRK', 'SPNW', 'PGTI', 'EXAS', 'SBAC', 'CMP', 'CFX', 'SPDY', 'SJM', 'NYCB', 'REGN', 'PRRC', 'FWNC', 'TCHC', 'DVA', 'WTLC', 'FISV', 'EZPW', 'PHCI', 'TZYM', 'ICE', 'LZTN', 'VCLK', 'CRAA', 'ODSI', 'BWC', 'NSR', 'FTCG', 'ICUB', 'BYD', 'ZHNE', 'WSBF', 'WLP', 'BRLC', 'MGNC', 'MWA', 'NETP', 'SMFC', 'CCRT', 'SYRG', 'KIDD', 'CTLT', 'DHR', 'TLN', 'FLXS', 'FSTH', 'AMZN', 'NOC', 'ATRM', 'USW', 'OXBT', 'HFF', 'ALG', 'ACM', 'DFLX', 'PBHC', 'FDX', 'DHI', 'AGN.2', 'TSPT', 'WPS', 'OWAV', 'GRW', 'MROI', 'HCII', 'CFDY', 'BDE', 'HMSS', 'SLXA', 'ZLCS', 'CASH', 'VISG', 'IHRT', 'NCST', 'SKH', 'KTIE', 'APTV', 'CYSP', 'DPHZ', 'TFC', 'WFD', 'SKAN', 'NSPK', 'NSCC', 'JDSU', 'LINV', 'NHLI', 'MRTN', 'BMY', 'LFUS', 'SHCI', 'RMII', 'GS', 'RGR', 'TTI', 'SHNS', 'FRGI', 'OKEN', 'SXT', 'VRTX', 'SREV', 'EICU', 'CSBK', 'BIHI', 'ALL', 'DMD', 'FPTB', 'PSX', 'HMCI', 'MYL', 'FSTW', 'TKCI', 'FSR', 'MAXM', 'WH', 'S', 'BIIB', 'CLI', 'ENTR.1', 'LLE', 'INCX', 'ATO', 'UNM', 'TTT', 'BGMR', 'MELA', 'IBSX', 'AHMH', 'PRAA', 'JAKK', 'KDNY', 'OPLK', 'INTC', 'ALGT', 'NTGR', 'CACI', 'MYST', 'CTG', 'EUSA', 'OMX', 'BEAT', 'DW', 'HCCC', 'AVB', 'THRT', 'GD', 'SHWC', 'TSFW', 'TKN', 'UCBA', 'RNIN', 'XIDX', 'SAVO', 'SCSC', 'CCMP', 'SBUX', 'ISCA', 'GPRE', 'HCC.1', 'LTCH', 'BNCL', 'SHCR', 'FLOW', 'RAWC', 'STAN', 'NVDA', 'MSFT', 'PVTB', 'PRFN', 'COKE', 'HARL', 'NINE', 'PTEN', 'CTXS', 'TWGP', 'EESI', 'LACO', 'TSON', 'CICI', 'CR', 'CHRS', 'HEES', 'HBNK', 'LWIS', 'TWI', 'CS', 'QRVO', 'SPTN', 'NVTL', 'TNDM', 'TMP', 'CAG', 'CVEO', 'NHPI', 'UGI', 'EGN', 'VSAT', 'PDYN', 'MSAM', 'CBPO', 'CMTL', 'FBHS', 'PHCM', 'SPU', 'VSTO', 'CLTX', 'HMSB', 'CLEC', 'SWI', 'SRC', 'CHD', 'JOEZ', 'GE', 'TBIO', 'SGH', 'AAXN', 'ISBC', 'NTCR', 'TXRH', 'PFGC', 'RNVS', 'FCLX', 'TNTF', 'BIO', 'MLG', 'GBCI', 'MMM', 'SVCW', 'CALM', 'UNP', 'NRMI', 'SSNC', 'DST', 'INDB', 'LAP', 'EHTH', 'GAIA', 'GSNX', 'PPC', 'STBI', 'KO', 'NWSA', 'WLDA', 'ILMN', 'SGNL', 'NETF', 'EBS', 'DOFSQ', 'SFLK', 'IQIQ', 'CEVA', 'PHYS', 'GGI', 'ALK', 'LAND', 'SLGX', 'PLNR', 'HEAR', 'RSG', 'IMPH', 'CUTR', 'ANX', 'SPB.1', 'PRI', 'ABBV', 'VMC', 'RXH', 'PHRM', 'VTSS', 'IWIN', 'NLCS', 'BSX', 'CATM', 'TWX', 'AAT', 'PDN', 'ECL', 'DLCH', 'PAWN', 'BNED', 'NR', 'FSCO', 'KFT', 'DEEP', 'TREE', 'LCCO', 'GXP', 'NI', 'OGXI', 'MDLD', 'WXS', 'MRLL', 'WWW', 'JBT', 'NEXS', 'CMG', 'WAG', 'WND', 'CHFN', 'OPI', 'LGND', 'NSLB', 'SHFL', 'WST', 'VPFG', 'NPAF', 'CLQ', 'FFBC', 'PRTN', 'SLAB', 'DGP', 'XRAY', 'LW', 'CRM', 'IMCO', 'PIP', 'TBZ', 'PLH', 'RF', 'CPE', 'AON', 'BHI', 'HAYN', 'HNSI', 'SSYS', 'WERN', 'BGC', 'LLY', 'VIRO', 'MBI', 'DAOU', 'NMIC', 'LOW', 'CNF', 'HTCC', 'STT', 'GKIS', 'PPG', 'FPA', 'MMXI', 'TEX', 'FHC', 'JACK', 'OPXA', 'SHYF', 'IPGP', 'QSR', 'NOXL', 'GMED', 'BHE', 'EQT', 'SIRI', 'ABC', 'ISIL', 'NCBC', 'ABXA', 'MRA', 'DGX', 'DIS', 'UBSI', 'AVGO', 'KEY', 'FSC', 'OVT', 'ENDP', 'SAI', 'TPRE', 'APPA', 'EXH', 'TGR', 'SZYM', 'FB', 'NUS', 'LDDS', 'TESO', 'USU', 'CNMD', 'A', 'CRA', 'SIGI', 'BLLE', 'TT', 'BC', 'SGAI', 'CBSL', 'EGEO', 'ALET', 'NCEL', 'CYOE', 'OCLS', 'MAX', 'SGN', 'WABC', 'V', 'JERR', 'ENR', 'NFG', 'LIEB', 'WTFC', 'IRM', 'DRAI', 'AAL', 'PCG', 'GLFD', 'GLOI', 'GB', 'TGT', 'DMGI', 'GTRC', 'SSTK', 'TSRA', 'ALSC', 'DWD', 'PNM', 'HOG', 'XZL', 'WPC', 'AAPL', 'FBRX', 'BLD', 'NUE', 'NETO', 'WEST', 'PEGI', 'LPT', 'ATGE', 'NSA', 'TRGT', 'SCBT', 'ASGN', 'LFED', 'VCC', 'IMN', 'ZIAD', 'USNC', 'MDT', 'IN', 'WIN', 'INGR', 'INAPQ', 'KEM', 'SLB', 'SNTA', 'STXN', 'PSDI', 'IILG', 'KMX', 'UAL', 'DYN', 'WPNE', 'UBSH', 'CDT', 'OMI', 'PCOL', 'GVIL', 'SFN', 'IMX', 'DVN', 'VOLT', 'ROAD', 'SYF', 'PSWT', 'FTV', 'TBNC', 'ECHO', 'SILK', 'LGNT', 'ARRS', 'NGVT', 'HDIE', 'M', 'PBIZ', 'LFCT', 'PKDC', 'ADBE', 'PLUS', 'MSPR', 'PF', 'TSCO', 'FFIV', 'BRO', 'CYTK', 'MEAD', 'DRE', 'ACNS', 'FOSL', 'BRKL', 'NCLH', 'ARGN', 'CCTI', 'UAA', 'SNX', 'TILE', 'FACO', 'CHRW', 'PYPL', 'MAT', 'SOVR', 'PHM', 'ANTM', 'CELG', 'CI', 'CNK', 'FTI.1', 'SR', 'KRG', 'WSBK', 'ULTA', 'ROL', '__', 'WAUW', 'GIS', 'COMT', 'GBSI', 'KBH', 'HZNP', 'AXP', 'STBA', 'APD', 'BMT', 'WIRL', 'IHSC', 'PATK', 'PMTC', 'ATI', 'PBNY', 'ACLS', 'LXMO', 'CCE', 'PACW', 'F', 'WTZR', 'OFG', 'TWC', 'PTEK', 'LRCX', 'UNA', 'MTVN', 'CBAK', 'DNKN', 'STEM', 'WWTR', 'HCI', 'NWE', 'XOM', 'WISE', 'OXM', 'T', 'BWSI', 'SCRM', 'ACPW', 'XMCM', 'TENT'}\n"
     ]
    }
   ],
   "source": [
    "skippeddf=pd.read_csv(\"skipped.csv\")\n",
    "years=list(set(skippeddf[\"skippedYear\"]))\n",
    "years.sort()\n",
    "numSkipped=[]\n",
    "\n",
    "\n",
    "def add_value_label(x_list,y_list):\n",
    "    for i in range(1, len(x_list)+1):\n",
    "        plt.text(i,y_list[i-1],y_list[i-1])\n",
    "\n",
    "for year in years:\n",
    "    yearDF=skippeddf[skippeddf[\"skippedYear\"]== year]\n",
    "    print(year)\n",
    "    skippedList=set(yearDF[\"tic\"])\n",
    "    print(skippedList)\n",
    "    numSkipped.append(len(skippedList))"
   ]
  },
  {
   "cell_type": "code",
   "execution_count": 44,
   "id": "6cf8d7a6",
   "metadata": {},
   "outputs": [
    {
     "name": "stdout",
     "output_type": "stream",
     "text": [
      "[2012, 2013, 2014, 2015, 2016, 2017, 2018, 2019, 2020, 2021, 2022]\n",
      "[455, 342, 661, 490, 311, 291, 283, 290, 312, 472, 642]\n"
     ]
    },
    {
     "data": {
      "image/png": "[encoded data removed]",
      "text/plain": [
       "<Figure size 432x288 with 1 Axes>"
      ]
     },
     "metadata": {
      "needs_background": "light"
     },
     "output_type": "display_data"
    }
   ],
   "source": [
    "import matplotlib.pyplot as plt\n",
    "\n",
    "def add_value_label(x_list,y_list):\n",
    "    for i in range(1, len(x_list)+1):\n",
    "        plt.text(i,y_list[i-1],y_list[i-1])\n",
    "\n",
    "plt.bar(years,numSkipped)\n",
    "plt.title('Number of Skipped Companies per Year')\n",
    "plt.xlabel('Year')\n",
    "plt.ylabel('Number of Skipped Companies')\n",
    "#add_value_label(years,numSkipped)\n",
    "print(years)\n",
    "print(numSkipped)\n",
    "plt.show()\n"
   ]
  },
  {
   "cell_type": "code",
   "execution_count": null,
   "id": "ff1ebed8",
   "metadata": {},
   "outputs": [],
   "source": [
    "#randombelow"
   ]
  },
  {
   "cell_type": "code",
   "execution_count": 31,
   "id": "cb283fdc",
   "metadata": {},
   "outputs": [],
   "source": [
    "test= skippeddf[skippeddf[\"skippedYear\"]== 2022]"
   ]
  },
  {
   "cell_type": "code",
   "execution_count": 32,
   "id": "91fc4756",
   "metadata": {},
   "outputs": [
    {
     "name": "stdout",
     "output_type": "stream",
     "text": [
      "642\n"
     ]
    }
   ],
   "source": [
    "tic=set(test[\"tic\"])\n",
    "print(len(tic))"
   ]
  },
  {
   "cell_type": "code",
   "execution_count": 34,
   "id": "14cd2d0c",
   "metadata": {},
   "outputs": [
    {
     "name": "stdout",
     "output_type": "stream",
     "text": [
      "[455, 342, 661, 490, 311, 291, 283, 290, 312, 472, 642]\n"
     ]
    }
   ],
   "source": [
    "print(numSkipped)"
   ]
  },
  {
   "cell_type": "code",
   "execution_count": 45,
   "id": "3da3889c",
   "metadata": {},
   "outputs": [
    {
     "name": "stdout",
     "output_type": "stream",
     "text": [
      "[455, 342, 661, 490, 311, 291, 283, 290, 312, 472, 642]\n"
     ]
    }
   ],
   "source": [
    "print(numSkipped)"
   ]
  },
  {
   "cell_type": "code",
   "execution_count": 56,
   "id": "2bdb4e8d",
   "metadata": {},
   "outputs": [
    {
     "name": "stdout",
     "output_type": "stream",
     "text": [
      "2012: \n"
     ]
    }
   ],
   "source": [
    "string=\"2012: \"\n",
    "string.join(list(skippedList)[1:])\n",
    "print(string)"
   ]
  },
  {
   "cell_type": "code",
   "execution_count": 55,
   "id": "44580075",
   "metadata": {},
   "outputs": [
    {
     "name": "stdout",
     "output_type": "stream",
     "text": [
      "TENT\n"
     ]
    }
   ],
   "source": [
    "print(list(skippedList)[-1])"
   ]
  },
  {
   "cell_type": "code",
   "execution_count": null,
   "id": "1075c0d6",
   "metadata": {},
   "outputs": [],
   "source": []
  }
 ],
 "metadata": {
  "kernelspec": {
   "display_name": "Python 3",
   "language": "python",
   "name": "python3"
  },
  "language_info": {
   "codemirror_mode": {
    "name": "ipython",
    "version": 3
   },
   "file_extension": ".py",
   "mimetype": "text/x-python",
   "name": "python",
   "nbconvert_exporter": "python",
   "pygments_lexer": "ipython3",
   "version": "3.8.8"
  }
 },
 "nbformat": 4,
 "nbformat_minor": 5
}
