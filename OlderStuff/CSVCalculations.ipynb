{
 "cells": [
  {
   "cell_type": "code",
   "execution_count": 1,
   "id": "8cf6479e",
   "metadata": {},
   "outputs": [],
   "source": [
    "import pandas as pd\n",
    "df = pd.read_csv('2ExcelAggregation12-16.csv')\n"
   ]
  },
  {
   "cell_type": "code",
   "execution_count": 2,
   "id": "64d74c7f",
   "metadata": {},
   "outputs": [
    {
     "data": {
      "text/plain": [
       "Available                682773\n",
       "Date                     616394\n",
       "Doc Grp                  682773\n",
       "Info                     682773\n",
       "Prim. Ticker             582525\n",
       "Second. Ticker           208750\n",
       "RI                       211418\n",
       "Title                    682773\n",
       "Pages                    682773\n",
       "Company Name             637450\n",
       "Contributor              682773\n",
       "Price                    531636\n",
       "Estimate Rating          275724\n",
       "Country/Region           637451\n",
       "Industry                 682189\n",
       "Relevance                     0\n",
       "DCN                      682773\n",
       "ExcelPath                682773\n",
       "cusip6                   682773\n",
       "Ticker                   680637\n",
       "PDFName                  654401\n",
       "PDFPath                  654401\n",
       "Analyst                  578714\n",
       "Recommendation Rating    279858\n",
       "dtype: int64"
      ]
     },
     "execution_count": 2,
     "metadata": {},
     "output_type": "execute_result"
    }
   ],
   "source": [
    "df.count()"
   ]
  },
  {
   "cell_type": "code",
   "execution_count": 3,
   "id": "efb55767",
   "metadata": {},
   "outputs": [
    {
     "name": "stdout",
     "output_type": "stream",
     "text": [
      "0.6955422925562109\n"
     ]
    }
   ],
   "source": [
    "print(474195/681763)"
   ]
  },
  {
   "cell_type": "code",
   "execution_count": null,
   "id": "3c046653",
   "metadata": {},
   "outputs": [],
   "source": []
  }
 ],
 "metadata": {
  "kernelspec": {
   "display_name": "Python 3",
   "language": "python",
   "name": "python3"
  },
  "language_info": {
   "codemirror_mode": {
    "name": "ipython",
    "version": 3
   },
   "file_extension": ".py",
   "mimetype": "text/x-python",
   "name": "python",
   "nbconvert_exporter": "python",
   "pygments_lexer": "ipython3",
   "version": "3.8.8"
  }
 },
 "nbformat": 4,
 "nbformat_minor": 5
}
